{
  "nbformat": 4,
  "nbformat_minor": 0,
  "metadata": {
    "colab": {
      "provenance": [],
      "toc_visible": true
    },
    "kernelspec": {
      "name": "python3",
      "display_name": "Python 3"
    },
    "language_info": {
      "name": "python"
    }
  },
  "cells": [
    {
      "cell_type": "markdown",
      "metadata": {
        "id": "0u1p2Rz6EjmL"
      },
      "source": [
        "#Synthetic Dataset Generation\n",
        "\n",
        "This notebook contains code blocks to generate the synthetic data used for causal discovery. The dimension of the dataset is (100000x4).\n",
        "\n",
        "\n",
        "The datasets \"synthetic_data_v1.csv\", \"synthetic_data_v2.csv\", and \"synthetic_data_v3.csv\" are generated using the cosine function and Gaussian noise distribution. Each of these three datasets has different Signal-to-Noise ratios.\n",
        "\n",
        "\n",
        "The \"synthetic_2nd_dataset.csv\" is another dataset generated from the same structure without the cosine function. The Poisson noise distribution is used for this dataset."
      ]
    },
    {
      "cell_type": "markdown",
      "source": [
        "###Code block for: synthetic_data_v1.csv"
      ],
      "metadata": {
        "id": "RVrHZ-s_eOKE"
      }
    },
    {
      "cell_type": "code",
      "execution_count": null,
      "metadata": {
        "colab": {
          "base_uri": "https://localhost:8080/"
        },
        "id": "NcpJzTqu2kTA",
        "outputId": "ebe830a1-e698-414b-f6df-7c5bbdb0264f"
      },
      "outputs": [
        {
          "output_type": "stream",
          "name": "stdout",
          "text": [
            "100000\n"
          ]
        }
      ],
      "source": [
        "# Code block for: synthetic_data_v1.csv\n",
        "#Size of time-series: t\n",
        "t = 100000\n",
        "\n",
        "#Create noise\n",
        "import numpy as np\n",
        "import pandas as pd\n",
        "import math\n",
        "np.random.seed(1001)\n",
        "np.set_printoptions(suppress=True)\n",
        "noise = np.random.normal(0,1,t)\n",
        "print(noise.size)\n",
        "\n",
        "#Variable 1\n",
        "source1 = np.zeros((t))\n",
        "source1_1st_term = np.zeros((t))\n",
        "source1_noise_term = noise*0.1\n",
        "\n",
        "for i in range(0,t):\n",
        "  if(i<5):\n",
        "    source1_1st_term[i] = np.cos(i/10)\n",
        "    source1[i] = np.cos(i/10) + noise[i]*0.1\n",
        "  else:\n",
        "    source1_1st_term[i] = np.cos(i/10) + np.log(np.abs(source1[i-2] - source1[i-5]) + 1)\n",
        "    source1[i] = np.cos(i/10) + np.log(np.abs(source1[i-2] - source1[i-5]) + 1) + noise[i]*0.1\n",
        "\n",
        "\n",
        "#Variable 2\n",
        "source2 = np.zeros((t))\n",
        "source2_1st_term = np.zeros((t))\n",
        "np.set_printoptions(suppress=True)\n",
        "noise2 = np.random.normal(0,1,t)\n",
        "noise2\n",
        "import math\n",
        "source2[1] = noise2[1]\n",
        "source2[2] = noise2[2]\n",
        "for x in range(3,t):\n",
        "  if source1[x-1] > 0:\n",
        "    source2_1st_term[x] = 1.2*math.exp(-source1[x-1]*source1[x-1]/2)\n",
        "    source2[x] = 1.2*math.exp(-source1[x-1]*source1[x-1]/2) + noise2[x]\n",
        "  else:\n",
        "    source2_1st_term[x] = -2*math.exp(-source1[x-1]*source1[x-1])\n",
        "    source2[x] = -2*math.exp(-source1[x-1]*source1[x-1]) + noise2[x]\n",
        "\n",
        "#Variable 3\n",
        "source3 = np.zeros((t))\n",
        "source3_1st_term = np.zeros((t))\n",
        "np.set_printoptions(suppress=True)\n",
        "noise3 = np.random.normal(0,1,t)\n",
        "noise3\n",
        "import math\n",
        "source3[1] = noise3[1]\n",
        "source3[2] = noise3[2]\n",
        "for x in range(3,t):\n",
        "  source3_1st_term[x] = -1.05*math.exp(-source1[x-1]*source1[x-1]/2)\n",
        "  source3[x] = -1.05*math.exp(-source1[x-1]*source1[x-1]/2) + noise3[x]\n",
        "\n",
        "#Variable 4\n",
        "source4 = np.zeros((t))\n",
        "source4_1st_term = np.zeros((t))\n",
        "source4_cf0 = np.zeros((t))\n",
        "source4_cf1 = np.zeros((t))\n",
        "treat = np.zeros((t))\n",
        "np.set_printoptions(suppress=True)\n",
        "noise4 = np.random.normal(0,1,t)\n",
        "import math\n",
        "source4[1] = noise4[1] + 10\n",
        "source4[2] = noise4[2] + 10\n",
        "source4_1st_term[1] = 10\n",
        "source4_1st_term[2] = 10\n",
        "source4_cf0[1] = noise4[1] + 10\n",
        "source4_cf0[2] = noise4[2] + 10\n",
        "source4_cf1[1] = noise4[1] + 10\n",
        "source4_cf1[2] = noise4[2] + 10\n",
        "for x in range(3,t):\n",
        "  source4[x] = -1.15*math.exp(-source1[x-1]*source1[x-1]/2) + 0.2*math.sqrt(2)*math.exp(-source4[x-1]*source4[x-1]/2) + 1.35*math.exp(-source3[x-1]*source3[x-1]/2) + noise4[x]\n",
        "  source4_1st_term[x] = -1.15*math.exp(-source1[x-1]*source1[x-1]/2) + 0.2*math.sqrt(2)*math.exp(-source4[x-1]*source4[x-1]/2) + 1.35*math.exp(-source3[x-1]*source3[x-1]/2)\n",
        "\n",
        "\n",
        "dict={'S1':source1,'S2':source2,'S3':source3,'S4':source4}\n",
        "dataset1_v1=pd.DataFrame(dict)\n",
        "dataset1_v1.to_csv('synthetic_data_v1.csv',header=True,index=False)\n",
        "from google.colab import files\n",
        "files.download( \"synthetic_data_v1.csv\" )"
      ]
    },
    {
      "cell_type": "markdown",
      "source": [
        "###Code block for: synthetic_data_v2.csv"
      ],
      "metadata": {
        "id": "A4-uNkiCeWWl"
      }
    },
    {
      "cell_type": "code",
      "source": [
        "# Code block for: synthetic_data_v2.csv\n",
        "#Size of time-series: t\n",
        "t = 100000\n",
        "\n",
        "#Create noise\n",
        "import numpy as np\n",
        "import pandas as pd\n",
        "import math\n",
        "np.random.seed(1001)\n",
        "np.set_printoptions(suppress=True)\n",
        "noise = np.random.normal(0,1,t)\n",
        "print(noise.size)\n",
        "\n",
        "#Variable 1\n",
        "source1 = np.zeros((t))\n",
        "source1_1st_term = np.zeros((t))\n",
        "source1_noise_term = noise*0.3\n",
        "\n",
        "for i in range(0,t):\n",
        "  if(i<5):\n",
        "    source1_1st_term[i] = np.cos(i/10)\n",
        "    source1[i] = np.cos(i/10) + noise[i]*0.3\n",
        "  else:\n",
        "    source1_1st_term[i] = np.cos(i/10) + np.log(np.abs(source1[i-2] - source1[i-5]) + 1)\n",
        "    source1[i] = np.cos(i/10) + np.log(np.abs(source1[i-2] - source1[i-5]) + 1) + noise[i]*0.3\n",
        "\n",
        "\n",
        "#Variable 2\n",
        "source2 = np.zeros((t))\n",
        "source2_1st_term = np.zeros((t))\n",
        "np.set_printoptions(suppress=True)\n",
        "noise2 = np.random.normal(0,1,t)\n",
        "noise2 = noise2/2\n",
        "import math\n",
        "source2[1] = noise2[1]\n",
        "source2[2] = noise2[2]\n",
        "for x in range(3,t):\n",
        "  if source1[x-1] > 0:\n",
        "    source2_1st_term[x] = 1.2*math.exp(-source1[x-1]*source1[x-1]/2)\n",
        "    source2[x] = 1.2*math.exp(-source1[x-1]*source1[x-1]/2) + noise2[x]\n",
        "  else:\n",
        "    source2_1st_term[x] = -2*math.exp(-source1[x-1]*source1[x-1])\n",
        "    source2[x] = -2*math.exp(-source1[x-1]*source1[x-1]) + noise2[x]\n",
        "\n",
        "#Variable 3\n",
        "source3 = np.zeros((t))\n",
        "source3_1st_term = np.zeros((t))\n",
        "np.set_printoptions(suppress=True)\n",
        "noise3 = np.random.normal(0,1,t)\n",
        "noise3 = noise3/2\n",
        "import math\n",
        "source3[1] = noise3[1]\n",
        "source3[2] = noise3[2]\n",
        "for x in range(3,t):\n",
        "  source3_1st_term[x] = -1.05*math.exp(-source1[x-1]*source1[x-1]/2)\n",
        "  source3[x] = -1.05*math.exp(-source1[x-1]*source1[x-1]/2) + noise3[x]\n",
        "\n",
        "#Variable 4\n",
        "source4 = np.zeros((t))\n",
        "source4_1st_term = np.zeros((t))\n",
        "source4_cf0 = np.zeros((t))\n",
        "source4_cf1 = np.zeros((t))\n",
        "treat = np.zeros((t))\n",
        "np.set_printoptions(suppress=True)\n",
        "noise4 = np.random.normal(0,1,t)\n",
        "import math\n",
        "source4[1] = noise4[1] + 10\n",
        "source4[2] = noise4[2] + 10\n",
        "source4_1st_term[1] = 10\n",
        "source4_1st_term[2] = 10\n",
        "source4_cf0[1] = noise4[1] + 10\n",
        "source4_cf0[2] = noise4[2] + 10\n",
        "source4_cf1[1] = noise4[1] + 10\n",
        "source4_cf1[2] = noise4[2] + 10\n",
        "for x in range(3,t):\n",
        "  source4[x] = -1.15*math.exp(-source1[x-1]*source1[x-1]/2) + 0.2*math.sqrt(2)*math.exp(-source4[x-1]*source4[x-1]/2) + 1.35*math.exp(-source3[x-1]*source3[x-1]/2) + noise4[x]\n",
        "  source4_1st_term[x] = -1.15*math.exp(-source1[x-1]*source1[x-1]/2) + 0.2*math.sqrt(2)*math.exp(-source4[x-1]*source4[x-1]/2) + 1.35*math.exp(-source3[x-1]*source3[x-1]/2)\n",
        "\n",
        "\n",
        "dict={'S1':source1,'S2':source2,'S3':source3,'S4':source4}\n",
        "dataset1_v2=pd.DataFrame(dict)\n",
        "dataset1_v2.to_csv('synthetic_data_v2.csv',header=True,index=False)\n",
        "from google.colab import files\n",
        "files.download( \"synthetic_data_v2.csv\" )"
      ],
      "metadata": {
        "colab": {
          "base_uri": "https://localhost:8080/"
        },
        "id": "Kna99ENbKT3F",
        "outputId": "b0590b03-62df-4c68-e3f4-6fe04f6cb0bc"
      },
      "execution_count": null,
      "outputs": [
        {
          "output_type": "stream",
          "name": "stdout",
          "text": [
            "100000\n"
          ]
        }
      ]
    },
    {
      "cell_type": "markdown",
      "source": [
        "##Code block for: synthetic_data_v3.csv"
      ],
      "metadata": {
        "id": "USxubCi0ebk7"
      }
    },
    {
      "cell_type": "code",
      "source": [
        "# Code block for: synthetic_data_v3.csv\n",
        "# Dataset V3\n",
        "#Size of time-series: t\n",
        "t = 100000\n",
        "\n",
        "#Create noise\n",
        "import numpy as np\n",
        "import pandas as pd\n",
        "import math\n",
        "np.random.seed(1001)\n",
        "np.set_printoptions(suppress=True)\n",
        "noise = np.random.normal(0,1,t)\n",
        "print(noise.size)\n",
        "\n",
        "#Variable 1\n",
        "source1 = np.zeros((t))\n",
        "source1_1st_term = np.zeros((t))\n",
        "source1_noise_term = noise*0.1\n",
        "\n",
        "for i in range(0,t):\n",
        "  if(i<5):\n",
        "    source1_1st_term[i] = 2 * np.cos(i/10)\n",
        "    source1[i] = 2 * np.cos(i/10) + noise[i]*0.1\n",
        "  else:\n",
        "    source1_1st_term[i] = 2 * np.cos(i/10) + 2 * np.log(np.abs(source1[i-2] - source1[i-5]) + 1)\n",
        "    source1[i] = 2 * np.cos(i/10) + 2 * np.log(np.abs(source1[i-2] - source1[i-5]) + 1) + noise[i]*0.1\n",
        "\n",
        "\n",
        "#Variable 2\n",
        "source2 = np.zeros((t))\n",
        "source2_1st_term = np.zeros((t))\n",
        "np.set_printoptions(suppress=True)\n",
        "noise2 = np.random.normal(0,1,t)\n",
        "noise2\n",
        "import math\n",
        "source2[1] = noise2[1]\n",
        "source2[2] = noise2[2]\n",
        "for x in range(3,t):\n",
        "  if source1[x-1] > 0:\n",
        "    source2_1st_term[x] = 12*math.exp(-source1[x-1]*source1[x-1]/2)\n",
        "    source2[x] = 12*math.exp(-source1[x-1]*source1[x-1]/2) + noise2[x]\n",
        "  else:\n",
        "    source2_1st_term[x] = -12*math.exp(-source1[x-1]*source1[x-1])\n",
        "    source2[x] = -12*math.exp(-source1[x-1]*source1[x-1]) + noise2[x]\n",
        "\n",
        "#Variable 3\n",
        "source3 = np.zeros((t))\n",
        "source3_1st_term = np.zeros((t))\n",
        "np.set_printoptions(suppress=True)\n",
        "noise3 = np.random.normal(0,1,t)\n",
        "noise3 = noise3/5\n",
        "import math\n",
        "source3[1] = noise3[1]\n",
        "source3[2] = noise3[2]\n",
        "for x in range(3,t):\n",
        "  source3_1st_term[x] = -10.5*math.exp(-source1[x-1]*source1[x-1]/2)\n",
        "  source3[x] = -10.5*math.exp(-source1[x-1]*source1[x-1]/2) + noise3[x]\n",
        "\n",
        "#Variable 4\n",
        "source4 = np.zeros((t))\n",
        "source4_1st_term = np.zeros((t))\n",
        "source4_cf0 = np.zeros((t))\n",
        "source4_cf1 = np.zeros((t))\n",
        "treat = np.zeros((t))\n",
        "np.set_printoptions(suppress=True)\n",
        "noise4 = np.random.normal(0,1,t)\n",
        "import math\n",
        "source4[1] = noise4[1] + 10\n",
        "source4[2] = noise4[2] + 10\n",
        "source4_1st_term[1] = 10\n",
        "source4_1st_term[2] = 10\n",
        "source4_cf0[1] = noise4[1] + 10\n",
        "source4_cf0[2] = noise4[2] + 10\n",
        "source4_cf1[1] = noise4[1] + 10\n",
        "source4_cf1[2] = noise4[2] + 10\n",
        "for x in range(3,t):\n",
        "  source4[x] = -11.5*math.exp(-source1[x-1]*source1[x-1]/2) + 1.2*math.sqrt(2)*math.exp(-source4[x-1]*source4[x-1]/2) + 13.5*math.exp(-source3[x-1]*source3[x-1]/2) + noise4[x]\n",
        "  source4_1st_term[x] = -11.5*math.exp(-source1[x-1]*source1[x-1]/2) + 1.2*math.sqrt(2)*math.exp(-source4[x-1]*source4[x-1]/2) + 13.5*math.exp(-source3[x-1]*source3[x-1]/2)\n",
        "\n",
        "dict={'S1':source1,'S2':source2,'S3':source3,'S4':source4}\n",
        "dataset1_v3=pd.DataFrame(dict)\n",
        "dataset1_v3.to_csv('synthetic_data_v3.csv',header=True,index=False)\n",
        "from google.colab import files\n",
        "files.download( \"synthetic_data_v3.csv\" )"
      ],
      "metadata": {
        "colab": {
          "base_uri": "https://localhost:8080/"
        },
        "id": "u3me_B5zJFM7",
        "outputId": "e562074c-154e-4166-dfe0-0b8a23818c98"
      },
      "execution_count": null,
      "outputs": [
        {
          "output_type": "stream",
          "name": "stdout",
          "text": [
            "100000\n"
          ]
        }
      ]
    },
    {
      "cell_type": "markdown",
      "source": [
        "##Code block for: synthetic_2nd_dataset.csv"
      ],
      "metadata": {
        "id": "62GnY_oCedcT"
      }
    },
    {
      "cell_type": "code",
      "source": [
        "# Code block for: synthetic_2nd_dataset.csv\n",
        "# This dataset does not contain the Cosine function and Poisson Noise distribution is used here.\n",
        "\n",
        "#Size of time-series: t\n",
        "t = 100000\n",
        "\n",
        "#Create noise\n",
        "import numpy as np\n",
        "import pandas as pd\n",
        "\n",
        "np.random.seed(1001)\n",
        "np.set_printoptions(suppress=True)\n",
        "noise = np.random.poisson(lam=1.0, size=(t))\n",
        "noise = noise\n",
        "print(noise.size)\n",
        "#Variable 1\n",
        "source1 = np.zeros((t))\n",
        "source1_1st_term = np.zeros((t))\n",
        "import math\n",
        "source1[0] = noise[0] +10\n",
        "source1[1] = noise[1] +10\n",
        "source1[2] = noise[2] +10\n",
        "for x in range(3,t):\n",
        "  #print(x)\n",
        "  if(x<5):\n",
        "    source1_1st_term[x] = 10*math.sqrt(2)*math.exp(-source1[x-2]*source1[x-2]/2)\n",
        "    source1[x] = 10*math.sqrt(2)*math.exp(-source1[x-2]*source1[x-2]/2) + noise[x]\n",
        "  else:\n",
        "    #print((source1[x-5]*source1[x-5])*(-source1[x-2]*source1[x-2])/2)\n",
        "    source1_1st_term[x] = 10*math.sqrt(2)*math.exp((source1[x-5]*source1[x-5])*(-source1[x-2]*source1[x-2])/2) #2*math.sqrt(2)*math.exp(-source1[x-5]*source1[x-5]/2)\n",
        "    source1[x] = 10*math.sqrt(2)*math.exp((source1[x-5]*source1[x-5])*(-source1[x-2]*source1[x-2])/2) + noise[x]\n",
        "\n",
        "#Variable 2\n",
        "source2 = np.zeros((t))\n",
        "source2_1st_term = np.zeros((t))\n",
        "np.set_printoptions(suppress=True)\n",
        "noise2 = np.random.poisson(lam=1.0, size=(t))\n",
        "import math\n",
        "source2[1] = noise2[1]\n",
        "source2[2] = noise2[2]\n",
        "for x in range(3,t):\n",
        "  if source1[x-1] > 0:\n",
        "    source2_1st_term[x] = 10.2*math.exp(-source1[x-1]*source1[x-1]/2)\n",
        "    source2[x] = 10.2*math.exp(-source1[x-1]*source1[x-1]/2) + noise2[x]\n",
        "  else:\n",
        "    source2_1st_term[x] = -10*math.exp(-source1[x-1]*source1[x-1])\n",
        "    source2[x] = -10*math.exp(-source1[x-1]*source1[x-1]) + noise2[x]\n",
        "\n",
        "#Variable 3\n",
        "source3 = np.zeros((t))\n",
        "source3_1st_term = np.zeros((t))\n",
        "np.set_printoptions(suppress=True)\n",
        "noise3 = np.random.poisson(lam=1.0, size=(t))\n",
        "import math\n",
        "source3[1] = noise3[1]\n",
        "source3[2] = noise3[2]\n",
        "for x in range(3,t):\n",
        "  source3_1st_term[x] = -9.05*math.exp(-source1[x-1]*source1[x-1]/2)\n",
        "  source3[x] = -9.05*math.exp(-source1[x-1]*source1[x-1]/2) + noise3[x]\n",
        "\n",
        "#Variable 4\n",
        "source4 = np.zeros((t))\n",
        "source4_1st_term = np.zeros((t))\n",
        "np.set_printoptions(suppress=True)\n",
        "noise4 = np.random.poisson(lam=1.0, size=(t))\n",
        "import math\n",
        "source4[1] = noise4[1] + 10\n",
        "source4[2] = noise4[2] + 10\n",
        "for x in range(3,t):\n",
        "  source4_1st_term[x] = 5.15*math.exp(-source1[x-1]*source1[x-1]/2) + 3.2*math.sqrt(2)*math.exp(-source4[x-1]*source4[x-1]/2) + 5.35*math.exp(-source3[x-1]*source3[x-1]/2)\n",
        "  source4[x] = 5.15*math.exp(-source1[x-1]*source1[x-1]/2) + 3.2*math.sqrt(2)*math.exp(-source4[x-1]*source4[x-1]/2) + 5.35*math.exp(-source3[x-1]*source3[x-1]/2) + noise4[x]\n",
        "\n",
        "\n",
        "#combining data\n",
        "dict={'S1':source1,'S2':source2,'S3':source3,'S4':source4}\n",
        "data=pd.DataFrame(dict)\n",
        "data.to_csv('synthetic_2nd_dataset.csv',header=True,index=False)\n",
        "from google.colab import files\n",
        "files.download( \"synthetic_2nd_dataset.csv\" )"
      ],
      "metadata": {
        "colab": {
          "base_uri": "https://localhost:8080/",
          "height": 35
        },
        "id": "E7tULI2_cJ5b",
        "outputId": "a801d325-8143-4a28-9596-cf0db5132a1d"
      },
      "execution_count": 21,
      "outputs": [
        {
          "output_type": "stream",
          "name": "stdout",
          "text": [
            "100000\n"
          ]
        },
        {
          "output_type": "display_data",
          "data": {
            "text/plain": [
              "<IPython.core.display.Javascript object>"
            ],
            "application/javascript": [
              "\n",
              "    async function download(id, filename, size) {\n",
              "      if (!google.colab.kernel.accessAllowed) {\n",
              "        return;\n",
              "      }\n",
              "      const div = document.createElement('div');\n",
              "      const label = document.createElement('label');\n",
              "      label.textContent = `Downloading \"${filename}\": `;\n",
              "      div.appendChild(label);\n",
              "      const progress = document.createElement('progress');\n",
              "      progress.max = size;\n",
              "      div.appendChild(progress);\n",
              "      document.body.appendChild(div);\n",
              "\n",
              "      const buffers = [];\n",
              "      let downloaded = 0;\n",
              "\n",
              "      const channel = await google.colab.kernel.comms.open(id);\n",
              "      // Send a message to notify the kernel that we're ready.\n",
              "      channel.send({})\n",
              "\n",
              "      for await (const message of channel.messages) {\n",
              "        // Send a message to notify the kernel that we're ready.\n",
              "        channel.send({})\n",
              "        if (message.buffers) {\n",
              "          for (const buffer of message.buffers) {\n",
              "            buffers.push(buffer);\n",
              "            downloaded += buffer.byteLength;\n",
              "            progress.value = downloaded;\n",
              "          }\n",
              "        }\n",
              "      }\n",
              "      const blob = new Blob(buffers, {type: 'application/binary'});\n",
              "      const a = document.createElement('a');\n",
              "      a.href = window.URL.createObjectURL(blob);\n",
              "      a.download = filename;\n",
              "      div.appendChild(a);\n",
              "      a.click();\n",
              "      div.remove();\n",
              "    }\n",
              "  "
            ]
          },
          "metadata": {}
        },
        {
          "output_type": "display_data",
          "data": {
            "text/plain": [
              "<IPython.core.display.Javascript object>"
            ],
            "application/javascript": [
              "download(\"download_43fc0aa3-60b1-4815-b6c4-2c01a578f4b2\", \"synthetic_2nd_dataset.csv\", 5947871)"
            ]
          },
          "metadata": {}
        }
      ]
    },
    {
      "cell_type": "markdown",
      "source": [
        "## Signal-to-Noise Ratio Function\n",
        "\n",
        "This function calculates the signal-to-noise ratio for synthetic datasets."
      ],
      "metadata": {
        "id": "U_IgIvjAd0dy"
      }
    },
    {
      "cell_type": "code",
      "execution_count": 2,
      "metadata": {
        "id": "ht28wSEpTGZm"
      },
      "outputs": [],
      "source": [
        "def singalToNoiseRatio(signal, noise):\n",
        "  signal_sqrt = np.sum(np.sqrt(signal ** 2))/(signal.size-1)\n",
        "  noise_sqrt = np.sum(np.sqrt(noise ** 2))/(noise.size-1)\n",
        "  snr= 10*np.log10((signal_sqrt-noise_sqrt)/noise_sqrt)\n",
        "  return snr, signal_sqrt/noise_sqrt"
      ]
    },
    {
      "cell_type": "code",
      "execution_count": null,
      "metadata": {
        "colab": {
          "base_uri": "https://localhost:8080/"
        },
        "id": "OuxJE4eAQoJg",
        "outputId": "caa934ec-3267-41b7-d521-e3cd9f7b3ac5"
      },
      "outputs": [
        {
          "output_type": "stream",
          "name": "stdout",
          "text": [
            "SNR S1 ans Noise1:  (8.70483354314273, 8.42135752534625)\n",
            "SNR S2 ans Noise2:  (-4.176634128501737, 1.3822404002386717)\n",
            "SNR S3 ans Noise3:  (-19.235810957720858, 1.0119239158988502)\n",
            "SNR S4 ans Noise4:  (nan, 0.5563634926522134)\n"
          ]
        },
        {
          "output_type": "stream",
          "name": "stderr",
          "text": [
            "<ipython-input-32-5965101f490e>:4: RuntimeWarning: invalid value encountered in log10\n",
            "  snr= 10*np.log10((signal_sqrt-noise_sqrt)/noise_sqrt)\n"
          ]
        }
      ],
      "source": [
        "#Synthetic data V1\n",
        "print(\"SNR S1 ans Noise1: \" , singalToNoiseRatio(source1_1st_term, source1_noise_term))\n",
        "print(\"SNR S2 ans Noise2: \" , singalToNoiseRatio(source2_1st_term, noise2))\n",
        "print(\"SNR S3 ans Noise3: \" , singalToNoiseRatio(source3_1st_term, noise3))\n",
        "print(\"SNR S4 ans Noise4: \" , singalToNoiseRatio(source4_1st_term, noise4))"
      ]
    },
    {
      "cell_type": "code",
      "source": [
        "#Synthetic data V2\n",
        "print(\"SNR S1 ans Noise1: \" , singalToNoiseRatio(source1_1st_term, source1_noise_term))\n",
        "print(\"SNR S2 ans Noise2: \" , singalToNoiseRatio(source2_1st_term, noise2))\n",
        "print(\"SNR S3 ans Noise3: \" , singalToNoiseRatio(source3_1st_term, noise3))\n",
        "print(\"SNR S4 ans Noise4: \" , singalToNoiseRatio(source4_1st_term, noise4))"
      ],
      "metadata": {
        "colab": {
          "base_uri": "https://localhost:8080/"
        },
        "id": "GedlNyDZOAgj",
        "outputId": "babddc5d-2f49-436c-e0ad-5a08d38abed8"
      },
      "execution_count": null,
      "outputs": [
        {
          "output_type": "stream",
          "name": "stdout",
          "text": [
            "SNR S1 ans Noise1:  (2.8094835835680705, 2.90962617279614)\n",
            "SNR S2 ans Noise2:  (2.141274244812823, 2.637296843204321)\n",
            "SNR S3 ans Noise3:  (-0.2677353778508692, 1.9402134556759307)\n",
            "SNR S4 ans Noise4:  (nan, 0.5554897667903126)\n"
          ]
        },
        {
          "output_type": "stream",
          "name": "stderr",
          "text": [
            "<ipython-input-32-5965101f490e>:4: RuntimeWarning: invalid value encountered in log10\n",
            "  snr= 10*np.log10((signal_sqrt-noise_sqrt)/noise_sqrt)\n"
          ]
        }
      ]
    },
    {
      "cell_type": "code",
      "source": [
        "#Synthetic data V3\n",
        "print(\"SNR S1 ans Noise1: \" , singalToNoiseRatio(source1_1st_term, source1_noise_term))\n",
        "print(\"SNR S2 ans Noise2: \" , singalToNoiseRatio(source2_1st_term, noise2))\n",
        "print(\"SNR S3 ans Noise3: \" , singalToNoiseRatio(source3_1st_term, noise3))\n",
        "print(\"SNR S4 ans Noise4: \" , singalToNoiseRatio(source4_1st_term, noise4))"
      ],
      "metadata": {
        "colab": {
          "base_uri": "https://localhost:8080/"
        },
        "id": "rsWg2hmTOGP9",
        "outputId": "0f81b37d-eeb4-48e2-c7d1-ae7a3cde9784"
      },
      "execution_count": null,
      "outputs": [
        {
          "output_type": "stream",
          "name": "stdout",
          "text": [
            "SNR S1 ans Noise1:  (12.78881137758191, 20.00558044193817)\n",
            "SNR S2 ans Noise2:  (6.871483267128649, 5.865733590890596)\n",
            "SNR S3 ans Noise3:  (14.404411581376081, 28.570278817565065)\n",
            "SNR S4 ans Noise4:  (9.67326368651241, 10.275265899723895)\n"
          ]
        }
      ]
    }
  ]
}