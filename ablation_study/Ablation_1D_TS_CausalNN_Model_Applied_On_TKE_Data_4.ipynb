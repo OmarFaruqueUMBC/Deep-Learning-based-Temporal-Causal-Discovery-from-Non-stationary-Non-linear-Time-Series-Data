{
  "nbformat": 4,
  "nbformat_minor": 0,
  "metadata": {
    "colab": {
      "provenance": [],
      "toc_visible": true
    },
    "kernelspec": {
      "name": "python3",
      "display_name": "Python 3"
    },
    "language_info": {
      "name": "python"
    }
  },
  "cells": [
    {
      "cell_type": "markdown",
      "metadata": {
        "id": "0u1p2Rz6EjmL"
      },
      "source": [
        "#Ablation Study: 1D causal layer into proposed TS-CausalNN Model (TKE Dataset)\n",
        "\n",
        "\n",
        "This notebook contains the proposed TS-CausalNN model with 1D custom calsal. We have developed the proposed Causal 1D layer to analyse the effectiveness of our proposed Causal Conv2D layer.\n",
        "  \n",
        "\n",
        "In this notebook, we applied the ablation 1D model to the TKE dataset to generate a full causal graph and summary graph."
      ]
    },
    {
      "cell_type": "code",
      "source": [
        "import numpy as np\n",
        "import pandas as pd\n"
      ],
      "metadata": {
        "id": "pcz2mFFK0GEu"
      },
      "execution_count": 1,
      "outputs": []
    },
    {
      "cell_type": "code",
      "source": [
        "!pip install cdt"
      ],
      "metadata": {
        "colab": {
          "base_uri": "https://localhost:8080/"
        },
        "id": "4di6J4c6SSe1",
        "outputId": "e967d9b1-3a07-4dbb-ffba-88fc73f31e28"
      },
      "execution_count": null,
      "outputs": [
        {
          "output_type": "stream",
          "name": "stdout",
          "text": [
            "Collecting cdt\n",
            "  Downloading cdt-0.6.0-py3-none-any.whl (921 kB)\n",
            "\u001b[?25l     \u001b[90m━━━━━━━━━━━━━━━━━━━━━━━━━━━━━━━━━━━━━━━━\u001b[0m \u001b[32m0.0/921.1 kB\u001b[0m \u001b[31m?\u001b[0m eta \u001b[36m-:--:--\u001b[0m\r\u001b[2K     \u001b[91m━━━━\u001b[0m\u001b[90m╺\u001b[0m\u001b[90m━━━━━━━━━━━━━━━━━━━━━━━━━━━━━━━━━━━\u001b[0m \u001b[32m92.2/921.1 kB\u001b[0m \u001b[31m2.6 MB/s\u001b[0m eta \u001b[36m0:00:01\u001b[0m\r\u001b[2K     \u001b[91m━━━━━━━━━━━━━━━━━━━━━━━━━━━━━━━━\u001b[0m\u001b[90m╺\u001b[0m\u001b[90m━━━━━━━\u001b[0m \u001b[32m737.3/921.1 kB\u001b[0m \u001b[31m11.2 MB/s\u001b[0m eta \u001b[36m0:00:01\u001b[0m\r\u001b[2K     \u001b[90m━━━━━━━━━━━━━━━━━━━━━━━━━━━━━━━━━━━━━━━━\u001b[0m \u001b[32m921.1/921.1 kB\u001b[0m \u001b[31m9.9 MB/s\u001b[0m eta \u001b[36m0:00:00\u001b[0m\n",
            "\u001b[?25hRequirement already satisfied: numpy in /usr/local/lib/python3.10/dist-packages (from cdt) (1.23.5)\n",
            "Requirement already satisfied: scipy in /usr/local/lib/python3.10/dist-packages (from cdt) (1.11.4)\n",
            "Requirement already satisfied: scikit-learn in /usr/local/lib/python3.10/dist-packages (from cdt) (1.2.2)\n",
            "Requirement already satisfied: joblib in /usr/local/lib/python3.10/dist-packages (from cdt) (1.3.2)\n",
            "Requirement already satisfied: pandas in /usr/local/lib/python3.10/dist-packages (from cdt) (1.5.3)\n",
            "Requirement already satisfied: statsmodels in /usr/local/lib/python3.10/dist-packages (from cdt) (0.14.1)\n",
            "Requirement already satisfied: networkx in /usr/local/lib/python3.10/dist-packages (from cdt) (3.2.1)\n",
            "Collecting skrebate (from cdt)\n",
            "  Downloading skrebate-0.62.tar.gz (19 kB)\n",
            "  Preparing metadata (setup.py) ... \u001b[?25l\u001b[?25hdone\n",
            "Requirement already satisfied: tqdm in /usr/local/lib/python3.10/dist-packages (from cdt) (4.66.1)\n",
            "Collecting GPUtil (from cdt)\n",
            "  Downloading GPUtil-1.4.0.tar.gz (5.5 kB)\n",
            "  Preparing metadata (setup.py) ... \u001b[?25l\u001b[?25hdone\n",
            "Requirement already satisfied: requests in /usr/local/lib/python3.10/dist-packages (from cdt) (2.31.0)\n",
            "Requirement already satisfied: python-dateutil>=2.8.1 in /usr/local/lib/python3.10/dist-packages (from pandas->cdt) (2.8.2)\n",
            "Requirement already satisfied: pytz>=2020.1 in /usr/local/lib/python3.10/dist-packages (from pandas->cdt) (2023.4)\n",
            "Requirement already satisfied: charset-normalizer<4,>=2 in /usr/local/lib/python3.10/dist-packages (from requests->cdt) (3.3.2)\n",
            "Requirement already satisfied: idna<4,>=2.5 in /usr/local/lib/python3.10/dist-packages (from requests->cdt) (3.6)\n",
            "Requirement already satisfied: urllib3<3,>=1.21.1 in /usr/local/lib/python3.10/dist-packages (from requests->cdt) (2.0.7)\n",
            "Requirement already satisfied: certifi>=2017.4.17 in /usr/local/lib/python3.10/dist-packages (from requests->cdt) (2024.2.2)\n",
            "Requirement already satisfied: threadpoolctl>=2.0.0 in /usr/local/lib/python3.10/dist-packages (from scikit-learn->cdt) (3.2.0)\n",
            "Requirement already satisfied: patsy>=0.5.4 in /usr/local/lib/python3.10/dist-packages (from statsmodels->cdt) (0.5.6)\n",
            "Requirement already satisfied: packaging>=21.3 in /usr/local/lib/python3.10/dist-packages (from statsmodels->cdt) (23.2)\n",
            "Requirement already satisfied: six in /usr/local/lib/python3.10/dist-packages (from patsy>=0.5.4->statsmodels->cdt) (1.16.0)\n",
            "Building wheels for collected packages: GPUtil, skrebate\n",
            "  Building wheel for GPUtil (setup.py) ... \u001b[?25l\u001b[?25hdone\n",
            "  Created wheel for GPUtil: filename=GPUtil-1.4.0-py3-none-any.whl size=7393 sha256=7bc0f4ddb7e027752463422827a19b6c6b330e4de298eb5dd14c8705cf6113ce\n",
            "  Stored in directory: /root/.cache/pip/wheels/a9/8a/bd/81082387151853ab8b6b3ef33426e98f5cbfebc3c397a9d4d0\n",
            "  Building wheel for skrebate (setup.py) ... \u001b[?25l\u001b[?25hdone\n",
            "  Created wheel for skrebate: filename=skrebate-0.62-py3-none-any.whl size=29253 sha256=d3a1faa954bb00dc82768be0e1a6a06f22a14a920ad16824a0f43f7ff721b32e\n",
            "  Stored in directory: /root/.cache/pip/wheels/dd/67/40/683074a684607162bd0e34dcf7ccdfcab5861c3b2a83286f3a\n",
            "Successfully built GPUtil skrebate\n",
            "Installing collected packages: GPUtil, skrebate, cdt\n",
            "Successfully installed GPUtil-1.4.0 cdt-0.6.0 skrebate-0.62\n"
          ]
        }
      ]
    },
    {
      "cell_type": "code",
      "source": [
        "import cdt"
      ],
      "metadata": {
        "colab": {
          "base_uri": "https://localhost:8080/"
        },
        "id": "sm9LhPCKSVec",
        "outputId": "02832679-1979-47bc-b770-ac84e48faea6"
      },
      "execution_count": null,
      "outputs": [
        {
          "output_type": "stream",
          "name": "stderr",
          "text": [
            "No GPU automatically detected. Setting SETTINGS.GPU to 0, and SETTINGS.NJOBS to cpu_count.\n"
          ]
        }
      ]
    },
    {
      "cell_type": "code",
      "source": [
        "df_2D_data_TKE = pd.read_csv('/content/TKE_data.csv')\n",
        "#df_2D_data_TKE = df_2D_data_TKE.drop('Unnamed: 0', axis=1)\n",
        "df_2D_data_TKE"
      ],
      "metadata": {
        "colab": {
          "base_uri": "https://localhost:8080/",
          "height": 424
        },
        "id": "sV5ixJgN0g2S",
        "outputId": "56aac76a-90b4-43b8-aa74-aabb61e0863e"
      },
      "execution_count": 3,
      "outputs": [
        {
          "output_type": "execute_result",
          "data": {
            "text/plain": [
              "       CSP_TKE_SH    CSP_TKE_BU       CSP_TKE  CSP_TKE_TEND\n",
              "0    0.000000e+00  0.000000e+00  0.000000e+00  0.000000e+00\n",
              "1    0.000000e+00 -5.481064e-12  2.893937e-09 -5.481064e-12\n",
              "2   -2.872043e-11  9.935044e-11  1.174000e-08  4.190957e-11\n",
              "3   -2.279047e-11  1.211548e-10  1.449416e-08  7.557389e-11\n",
              "4    5.889356e-12  1.926259e-11  1.389811e-08  3.104130e-11\n",
              "..            ...           ...           ...           ...\n",
              "776  7.286902e-06 -3.130422e-06  3.017054e-02  1.144338e-05\n",
              "777  7.371270e-06  1.325219e-06  2.996980e-02  1.606776e-05\n",
              "778  5.797465e-06  5.157365e-06  3.026166e-02  1.675229e-05\n",
              "779  2.389570e-06  7.089153e-06  3.061606e-02  1.186829e-05\n",
              "780 -1.293735e-06  9.031142e-06  3.047949e-02  6.443673e-06\n",
              "\n",
              "[781 rows x 4 columns]"
            ],
            "text/html": [
              "\n",
              "  <div id=\"df-c4e4784f-9cc6-4a41-920f-01d1bcc58b64\" class=\"colab-df-container\">\n",
              "    <div>\n",
              "<style scoped>\n",
              "    .dataframe tbody tr th:only-of-type {\n",
              "        vertical-align: middle;\n",
              "    }\n",
              "\n",
              "    .dataframe tbody tr th {\n",
              "        vertical-align: top;\n",
              "    }\n",
              "\n",
              "    .dataframe thead th {\n",
              "        text-align: right;\n",
              "    }\n",
              "</style>\n",
              "<table border=\"1\" class=\"dataframe\">\n",
              "  <thead>\n",
              "    <tr style=\"text-align: right;\">\n",
              "      <th></th>\n",
              "      <th>CSP_TKE_SH</th>\n",
              "      <th>CSP_TKE_BU</th>\n",
              "      <th>CSP_TKE</th>\n",
              "      <th>CSP_TKE_TEND</th>\n",
              "    </tr>\n",
              "  </thead>\n",
              "  <tbody>\n",
              "    <tr>\n",
              "      <th>0</th>\n",
              "      <td>0.000000e+00</td>\n",
              "      <td>0.000000e+00</td>\n",
              "      <td>0.000000e+00</td>\n",
              "      <td>0.000000e+00</td>\n",
              "    </tr>\n",
              "    <tr>\n",
              "      <th>1</th>\n",
              "      <td>0.000000e+00</td>\n",
              "      <td>-5.481064e-12</td>\n",
              "      <td>2.893937e-09</td>\n",
              "      <td>-5.481064e-12</td>\n",
              "    </tr>\n",
              "    <tr>\n",
              "      <th>2</th>\n",
              "      <td>-2.872043e-11</td>\n",
              "      <td>9.935044e-11</td>\n",
              "      <td>1.174000e-08</td>\n",
              "      <td>4.190957e-11</td>\n",
              "    </tr>\n",
              "    <tr>\n",
              "      <th>3</th>\n",
              "      <td>-2.279047e-11</td>\n",
              "      <td>1.211548e-10</td>\n",
              "      <td>1.449416e-08</td>\n",
              "      <td>7.557389e-11</td>\n",
              "    </tr>\n",
              "    <tr>\n",
              "      <th>4</th>\n",
              "      <td>5.889356e-12</td>\n",
              "      <td>1.926259e-11</td>\n",
              "      <td>1.389811e-08</td>\n",
              "      <td>3.104130e-11</td>\n",
              "    </tr>\n",
              "    <tr>\n",
              "      <th>...</th>\n",
              "      <td>...</td>\n",
              "      <td>...</td>\n",
              "      <td>...</td>\n",
              "      <td>...</td>\n",
              "    </tr>\n",
              "    <tr>\n",
              "      <th>776</th>\n",
              "      <td>7.286902e-06</td>\n",
              "      <td>-3.130422e-06</td>\n",
              "      <td>3.017054e-02</td>\n",
              "      <td>1.144338e-05</td>\n",
              "    </tr>\n",
              "    <tr>\n",
              "      <th>777</th>\n",
              "      <td>7.371270e-06</td>\n",
              "      <td>1.325219e-06</td>\n",
              "      <td>2.996980e-02</td>\n",
              "      <td>1.606776e-05</td>\n",
              "    </tr>\n",
              "    <tr>\n",
              "      <th>778</th>\n",
              "      <td>5.797465e-06</td>\n",
              "      <td>5.157365e-06</td>\n",
              "      <td>3.026166e-02</td>\n",
              "      <td>1.675229e-05</td>\n",
              "    </tr>\n",
              "    <tr>\n",
              "      <th>779</th>\n",
              "      <td>2.389570e-06</td>\n",
              "      <td>7.089153e-06</td>\n",
              "      <td>3.061606e-02</td>\n",
              "      <td>1.186829e-05</td>\n",
              "    </tr>\n",
              "    <tr>\n",
              "      <th>780</th>\n",
              "      <td>-1.293735e-06</td>\n",
              "      <td>9.031142e-06</td>\n",
              "      <td>3.047949e-02</td>\n",
              "      <td>6.443673e-06</td>\n",
              "    </tr>\n",
              "  </tbody>\n",
              "</table>\n",
              "<p>781 rows × 4 columns</p>\n",
              "</div>\n",
              "    <div class=\"colab-df-buttons\">\n",
              "\n",
              "  <div class=\"colab-df-container\">\n",
              "    <button class=\"colab-df-convert\" onclick=\"convertToInteractive('df-c4e4784f-9cc6-4a41-920f-01d1bcc58b64')\"\n",
              "            title=\"Convert this dataframe to an interactive table.\"\n",
              "            style=\"display:none;\">\n",
              "\n",
              "  <svg xmlns=\"http://www.w3.org/2000/svg\" height=\"24px\" viewBox=\"0 -960 960 960\">\n",
              "    <path d=\"M120-120v-720h720v720H120Zm60-500h600v-160H180v160Zm220 220h160v-160H400v160Zm0 220h160v-160H400v160ZM180-400h160v-160H180v160Zm440 0h160v-160H620v160ZM180-180h160v-160H180v160Zm440 0h160v-160H620v160Z\"/>\n",
              "  </svg>\n",
              "    </button>\n",
              "\n",
              "  <style>\n",
              "    .colab-df-container {\n",
              "      display:flex;\n",
              "      gap: 12px;\n",
              "    }\n",
              "\n",
              "    .colab-df-convert {\n",
              "      background-color: #E8F0FE;\n",
              "      border: none;\n",
              "      border-radius: 50%;\n",
              "      cursor: pointer;\n",
              "      display: none;\n",
              "      fill: #1967D2;\n",
              "      height: 32px;\n",
              "      padding: 0 0 0 0;\n",
              "      width: 32px;\n",
              "    }\n",
              "\n",
              "    .colab-df-convert:hover {\n",
              "      background-color: #E2EBFA;\n",
              "      box-shadow: 0px 1px 2px rgba(60, 64, 67, 0.3), 0px 1px 3px 1px rgba(60, 64, 67, 0.15);\n",
              "      fill: #174EA6;\n",
              "    }\n",
              "\n",
              "    .colab-df-buttons div {\n",
              "      margin-bottom: 4px;\n",
              "    }\n",
              "\n",
              "    [theme=dark] .colab-df-convert {\n",
              "      background-color: #3B4455;\n",
              "      fill: #D2E3FC;\n",
              "    }\n",
              "\n",
              "    [theme=dark] .colab-df-convert:hover {\n",
              "      background-color: #434B5C;\n",
              "      box-shadow: 0px 1px 3px 1px rgba(0, 0, 0, 0.15);\n",
              "      filter: drop-shadow(0px 1px 2px rgba(0, 0, 0, 0.3));\n",
              "      fill: #FFFFFF;\n",
              "    }\n",
              "  </style>\n",
              "\n",
              "    <script>\n",
              "      const buttonEl =\n",
              "        document.querySelector('#df-c4e4784f-9cc6-4a41-920f-01d1bcc58b64 button.colab-df-convert');\n",
              "      buttonEl.style.display =\n",
              "        google.colab.kernel.accessAllowed ? 'block' : 'none';\n",
              "\n",
              "      async function convertToInteractive(key) {\n",
              "        const element = document.querySelector('#df-c4e4784f-9cc6-4a41-920f-01d1bcc58b64');\n",
              "        const dataTable =\n",
              "          await google.colab.kernel.invokeFunction('convertToInteractive',\n",
              "                                                    [key], {});\n",
              "        if (!dataTable) return;\n",
              "\n",
              "        const docLinkHtml = 'Like what you see? Visit the ' +\n",
              "          '<a target=\"_blank\" href=https://colab.research.google.com/notebooks/data_table.ipynb>data table notebook</a>'\n",
              "          + ' to learn more about interactive tables.';\n",
              "        element.innerHTML = '';\n",
              "        dataTable['output_type'] = 'display_data';\n",
              "        await google.colab.output.renderOutput(dataTable, element);\n",
              "        const docLink = document.createElement('div');\n",
              "        docLink.innerHTML = docLinkHtml;\n",
              "        element.appendChild(docLink);\n",
              "      }\n",
              "    </script>\n",
              "  </div>\n",
              "\n",
              "\n",
              "<div id=\"df-b629040b-65e8-4bf7-820a-62121bf4a182\">\n",
              "  <button class=\"colab-df-quickchart\" onclick=\"quickchart('df-b629040b-65e8-4bf7-820a-62121bf4a182')\"\n",
              "            title=\"Suggest charts\"\n",
              "            style=\"display:none;\">\n",
              "\n",
              "<svg xmlns=\"http://www.w3.org/2000/svg\" height=\"24px\"viewBox=\"0 0 24 24\"\n",
              "     width=\"24px\">\n",
              "    <g>\n",
              "        <path d=\"M19 3H5c-1.1 0-2 .9-2 2v14c0 1.1.9 2 2 2h14c1.1 0 2-.9 2-2V5c0-1.1-.9-2-2-2zM9 17H7v-7h2v7zm4 0h-2V7h2v10zm4 0h-2v-4h2v4z\"/>\n",
              "    </g>\n",
              "</svg>\n",
              "  </button>\n",
              "\n",
              "<style>\n",
              "  .colab-df-quickchart {\n",
              "      --bg-color: #E8F0FE;\n",
              "      --fill-color: #1967D2;\n",
              "      --hover-bg-color: #E2EBFA;\n",
              "      --hover-fill-color: #174EA6;\n",
              "      --disabled-fill-color: #AAA;\n",
              "      --disabled-bg-color: #DDD;\n",
              "  }\n",
              "\n",
              "  [theme=dark] .colab-df-quickchart {\n",
              "      --bg-color: #3B4455;\n",
              "      --fill-color: #D2E3FC;\n",
              "      --hover-bg-color: #434B5C;\n",
              "      --hover-fill-color: #FFFFFF;\n",
              "      --disabled-bg-color: #3B4455;\n",
              "      --disabled-fill-color: #666;\n",
              "  }\n",
              "\n",
              "  .colab-df-quickchart {\n",
              "    background-color: var(--bg-color);\n",
              "    border: none;\n",
              "    border-radius: 50%;\n",
              "    cursor: pointer;\n",
              "    display: none;\n",
              "    fill: var(--fill-color);\n",
              "    height: 32px;\n",
              "    padding: 0;\n",
              "    width: 32px;\n",
              "  }\n",
              "\n",
              "  .colab-df-quickchart:hover {\n",
              "    background-color: var(--hover-bg-color);\n",
              "    box-shadow: 0 1px 2px rgba(60, 64, 67, 0.3), 0 1px 3px 1px rgba(60, 64, 67, 0.15);\n",
              "    fill: var(--button-hover-fill-color);\n",
              "  }\n",
              "\n",
              "  .colab-df-quickchart-complete:disabled,\n",
              "  .colab-df-quickchart-complete:disabled:hover {\n",
              "    background-color: var(--disabled-bg-color);\n",
              "    fill: var(--disabled-fill-color);\n",
              "    box-shadow: none;\n",
              "  }\n",
              "\n",
              "  .colab-df-spinner {\n",
              "    border: 2px solid var(--fill-color);\n",
              "    border-color: transparent;\n",
              "    border-bottom-color: var(--fill-color);\n",
              "    animation:\n",
              "      spin 1s steps(1) infinite;\n",
              "  }\n",
              "\n",
              "  @keyframes spin {\n",
              "    0% {\n",
              "      border-color: transparent;\n",
              "      border-bottom-color: var(--fill-color);\n",
              "      border-left-color: var(--fill-color);\n",
              "    }\n",
              "    20% {\n",
              "      border-color: transparent;\n",
              "      border-left-color: var(--fill-color);\n",
              "      border-top-color: var(--fill-color);\n",
              "    }\n",
              "    30% {\n",
              "      border-color: transparent;\n",
              "      border-left-color: var(--fill-color);\n",
              "      border-top-color: var(--fill-color);\n",
              "      border-right-color: var(--fill-color);\n",
              "    }\n",
              "    40% {\n",
              "      border-color: transparent;\n",
              "      border-right-color: var(--fill-color);\n",
              "      border-top-color: var(--fill-color);\n",
              "    }\n",
              "    60% {\n",
              "      border-color: transparent;\n",
              "      border-right-color: var(--fill-color);\n",
              "    }\n",
              "    80% {\n",
              "      border-color: transparent;\n",
              "      border-right-color: var(--fill-color);\n",
              "      border-bottom-color: var(--fill-color);\n",
              "    }\n",
              "    90% {\n",
              "      border-color: transparent;\n",
              "      border-bottom-color: var(--fill-color);\n",
              "    }\n",
              "  }\n",
              "</style>\n",
              "\n",
              "  <script>\n",
              "    async function quickchart(key) {\n",
              "      const quickchartButtonEl =\n",
              "        document.querySelector('#' + key + ' button');\n",
              "      quickchartButtonEl.disabled = true;  // To prevent multiple clicks.\n",
              "      quickchartButtonEl.classList.add('colab-df-spinner');\n",
              "      try {\n",
              "        const charts = await google.colab.kernel.invokeFunction(\n",
              "            'suggestCharts', [key], {});\n",
              "      } catch (error) {\n",
              "        console.error('Error during call to suggestCharts:', error);\n",
              "      }\n",
              "      quickchartButtonEl.classList.remove('colab-df-spinner');\n",
              "      quickchartButtonEl.classList.add('colab-df-quickchart-complete');\n",
              "    }\n",
              "    (() => {\n",
              "      let quickchartButtonEl =\n",
              "        document.querySelector('#df-b629040b-65e8-4bf7-820a-62121bf4a182 button');\n",
              "      quickchartButtonEl.style.display =\n",
              "        google.colab.kernel.accessAllowed ? 'block' : 'none';\n",
              "    })();\n",
              "  </script>\n",
              "</div>\n",
              "    </div>\n",
              "  </div>\n"
            ]
          },
          "metadata": {},
          "execution_count": 3
        }
      ]
    },
    {
      "cell_type": "markdown",
      "source": [
        "#Data Pre-processing"
      ],
      "metadata": {
        "id": "_c4DRyupElS3"
      }
    },
    {
      "cell_type": "code",
      "source": [
        "df_2D_data_TKE_nz = df_2D_data_TKE.iloc[300:]\n",
        "df_2D_data_TKE_NZ = df_2D_data_TKE_nz[[ \"CSP_TKE_SH\", \"CSP_TKE_BU\", \"CSP_TKE_TEND\", \"CSP_TKE\"]]"
      ],
      "metadata": {
        "id": "iB1AHHsT1CYd"
      },
      "execution_count": null,
      "outputs": []
    },
    {
      "cell_type": "code",
      "source": [
        "import numpy as np\n",
        "import pandas as pd\n",
        "\n",
        "def data_preprocessing(data, max_lag=5):\n",
        "  from sklearn.preprocessing import MinMaxScaler\n",
        "\n",
        "  #convert to numpy array\n",
        "  syn_data_np = data.to_numpy()\n",
        "\n",
        "  #normalize the dataset\n",
        "  scaler_X = MinMaxScaler(feature_range=(0, 1))\n",
        "  syn_data_np_nor = scaler_X.fit_transform(syn_data_np)\n",
        "  syn_data_np = syn_data_np_nor\n",
        "\n",
        "  #transform into 2D data\n",
        "  syn_data_np_T= syn_data_np.T\n",
        "  syn_data_pro = np.zeros((syn_data_np.shape[0]-max_lag,syn_data_np.shape[1],(max_lag+1)))\n",
        "  for i in range(0, (syn_data_np.shape[0]-max_lag)):\n",
        "    syn_data_pro[i,:,:]= syn_data_np_T[:, i:i+(max_lag+1)]\n",
        "  syn_data_2d = np.expand_dims(syn_data_pro, axis =-1)\n",
        "\n",
        "  #make datafrom with normalized data\n",
        "  syn_data_nor_df =pd.DataFrame(data = syn_data_np,\n",
        "                  columns = data.columns)\n",
        "\n",
        "  #transform normalized data into 1D shape with lagged and current time values\n",
        "  size_1d = syn_data_np.shape[1]*(max_lag+1)\n",
        "  print(size_1d)\n",
        "  syn_data_1d = np.zeros((syn_data_np.shape[0]-max_lag,size_1d))\n",
        "  for i in range(0, (syn_data_np.shape[0]-max_lag)):\n",
        "    for j in range(0,(max_lag+1)):\n",
        "      j_end = j * syn_data_np.shape[1]\n",
        "      syn_data_1d[i,j_end:j_end+syn_data_np.shape[1]]= syn_data_np[i+j, :]\n",
        "\n",
        "  #transform non-normalized data into 1D shape with lagged and current time values\n",
        "  syn_data_np_2 = data.to_numpy()\n",
        "  syn_data_1d_not_norm = np.zeros((syn_data_np_2.shape[0]-max_lag,size_1d))\n",
        "  for i in range(0, (syn_data_np_2.shape[0]-max_lag)):\n",
        "    for j in range(0,(max_lag+1)):\n",
        "      j_end = j * syn_data_np_2.shape[1]\n",
        "      syn_data_1d_not_norm[i,j_end:j_end+syn_data_np_2.shape[1]]= syn_data_np_2[i+j, :]\n",
        "\n",
        "\n",
        "  return syn_data_np_nor, syn_data_2d, syn_data_nor_df, syn_data_1d,  syn_data_1d_not_norm"
      ],
      "metadata": {
        "id": "hBVCMIIb3Pmt"
      },
      "execution_count": null,
      "outputs": []
    },
    {
      "cell_type": "code",
      "source": [
        "TKE_NZ_np_nor, TKE_NZ_2d, TKE_NZ_df, TKE_NZ_1d, TKE_NZ_1d_not_norm = data_preprocessing(df_2D_data_TKE_NZ, max_lag=5)"
      ],
      "metadata": {
        "colab": {
          "base_uri": "https://localhost:8080/"
        },
        "id": "vA6kON2J3b2T",
        "outputId": "c34245b3-7056-49e9-92e0-e05622f7813f"
      },
      "execution_count": null,
      "outputs": [
        {
          "output_type": "stream",
          "name": "stdout",
          "text": [
            "24\n"
          ]
        }
      ]
    },
    {
      "cell_type": "code",
      "source": [
        "TKE_NZ_np_nor.shape"
      ],
      "metadata": {
        "colab": {
          "base_uri": "https://localhost:8080/"
        },
        "id": "oPO6OBKs4A9X",
        "outputId": "4389fc40-6754-4b01-8582-edc49a8b3d7d"
      },
      "execution_count": null,
      "outputs": [
        {
          "output_type": "execute_result",
          "data": {
            "text/plain": [
              "(481, 4)"
            ]
          },
          "metadata": {},
          "execution_count": 10
        }
      ]
    },
    {
      "cell_type": "code",
      "source": [
        "TKE_NZ_2d.shape"
      ],
      "metadata": {
        "colab": {
          "base_uri": "https://localhost:8080/"
        },
        "id": "dc0p24Of4C5e",
        "outputId": "a4d91e2c-c0fe-46c2-f8c1-13b692193417"
      },
      "execution_count": null,
      "outputs": [
        {
          "output_type": "execute_result",
          "data": {
            "text/plain": [
              "(476, 4, 6, 1)"
            ]
          },
          "metadata": {},
          "execution_count": 11
        }
      ]
    },
    {
      "cell_type": "code",
      "source": [
        "TKE_NZ_df.shape"
      ],
      "metadata": {
        "colab": {
          "base_uri": "https://localhost:8080/"
        },
        "id": "XCbSKiuj4FKj",
        "outputId": "ee1651ac-fcb0-4f5b-ae63-d8c01b3f5221"
      },
      "execution_count": null,
      "outputs": [
        {
          "output_type": "execute_result",
          "data": {
            "text/plain": [
              "(481, 4)"
            ]
          },
          "metadata": {},
          "execution_count": 12
        }
      ]
    },
    {
      "cell_type": "code",
      "execution_count": null,
      "metadata": {
        "colab": {
          "base_uri": "https://localhost:8080/"
        },
        "outputId": "b352ac47-3ff4-4b11-ca4e-00b1b552b59d",
        "id": "CAxHg59Y4J1T"
      },
      "outputs": [
        {
          "output_type": "execute_result",
          "data": {
            "text/plain": [
              "(476, 4)"
            ]
          },
          "metadata": {},
          "execution_count": 13
        }
      ],
      "source": [
        "data_y_TKE_NZ = TKE_NZ_np_nor[5:,:]\n",
        "data_y_TKE_NZ.shape"
      ]
    },
    {
      "cell_type": "markdown",
      "metadata": {
        "id": "1KVllbLUkHjt"
      },
      "source": [
        "# Ablation TS-CausalNN Model with 1D Causal Layer"
      ]
    },
    {
      "cell_type": "code",
      "execution_count": null,
      "metadata": {
        "id": "nyklufMFkH7O"
      },
      "outputs": [],
      "source": [
        "import keras,os\n",
        "from keras.models import Sequential\n",
        "from keras.layers import Dense, Conv2D, MaxPool2D , Flatten, Dropout, AveragePooling2D, LSTM, Activation, ConvLSTM2D, TimeDistributed, Input, Reshape\n",
        "from keras.layers import UpSampling1D, Conv2DTranspose, UpSampling2D, Conv1D, AveragePooling1D, LeakyReLU\n",
        "from keras.models import Model\n",
        "from keras.optimizers import SGD\n",
        "from keras import callbacks\n",
        "import keras.backend as K\n",
        "import tensorflow as tf\n",
        "from keras.layers import concatenate\n",
        "from keras.regularizers import l1, l2\n",
        "from time import time\n",
        "\n",
        "keras.utils.set_random_seed(1001)"
      ]
    },
    {
      "cell_type": "code",
      "source": [
        "class CausalDenseLayer(tf.keras.layers.Layer):\n",
        "  def __init__(self, num_outputs, counter, **kwargs):\n",
        "    super(CausalDenseLayer, self).__init__()\n",
        "    self.num_outputs = num_outputs\n",
        "    self.counter = counter\n",
        "    #self.name1=name1\n",
        "\n",
        "  def build(self, input_shape):\n",
        "    self.kernel = self.add_weight(\"kernel\",\n",
        "                                  shape=[int(input_shape[-1]), self.num_outputs],\n",
        "                                  initializer = tf.keras.initializers.glorot_uniform(seed=17),\n",
        "                                  trainable=True)\n",
        "    self.mask = np.ones(shape=self.kernel.shape)\n",
        "    self.mask[-self.counter, ...] = 0.0\n",
        "    #self.kernel(self.kernel * self.mask)\n",
        "\n",
        "  def get_weights(self):\n",
        "     return super().get_weights()\n",
        "\n",
        "  def call(self, inputs):\n",
        "    self.kernel.assign(self.kernel * self.mask)\n",
        "    #return tf.matmul(inputs, self.kernel)\n",
        "    return tf.keras.activations.sigmoid(tf.matmul(inputs, self.kernel))\n"
      ],
      "metadata": {
        "id": "5KgZ6aX5lcyO"
      },
      "execution_count": null,
      "outputs": []
    },
    {
      "cell_type": "code",
      "source": [
        "def get_model(input_dims):\n",
        "    input_batch = Input(shape = input_dims)\n",
        "\n",
        "    conv_model = Sequential()\n",
        "    conv_model = Conv2D(filters=4, kernel_size=1, strides=(1,1), padding='valid', activation=\"linear\", name='conv1')(input_batch)\n",
        "    conv_model = tf.math.reduce_mean(conv_model, axis=-1)\n",
        "    conv_model = Flatten()(conv_model )\n",
        "    pooled_outputs = []\n",
        "    for i in range(4, 0, -1):\n",
        "      layer = CausalDenseLayer(num_outputs=1, counter=i, name=\"parr\"+str(i))(conv_model)\n",
        "      pooled_outputs.append(layer)\n",
        "    output = concatenate(pooled_outputs)\n",
        "\n",
        "    model = Model(inputs=input_batch, outputs=output, name='cpred')\n",
        "\n",
        "    return model"
      ],
      "metadata": {
        "id": "Xjg84itIlT0_"
      },
      "execution_count": null,
      "outputs": []
    },
    {
      "cell_type": "code",
      "source": [
        "\n",
        "class CausalNNModel(object):\n",
        "    def __init__(self,\n",
        "                 dims,\n",
        "                 alpha=0.0,\n",
        "                 rho = 1.0,\n",
        "                 rho_max = 10e20,\n",
        "                 h_tol = 1e-8,\n",
        "                 init='glorot_uniform'):\n",
        "\n",
        "        super(CausalNNModel, self).__init__()\n",
        "\n",
        "        self.dims = dims\n",
        "        self.n_stacks = len(self.dims) - 1\n",
        "        self.alpha = alpha\n",
        "        self.rho = rho\n",
        "        self.h_p = np.Inf\n",
        "        self.rho_max = rho_max\n",
        "        self.h_tol = h_tol\n",
        "        self.model_1d = get_model(self.dims) #get_model_2d(self.dims)\n",
        "        print(\"====Model created=====\")\n",
        "\n",
        "        self.model = Model(inputs=self.model_1d.input, outputs=self.model_1d.output)\n",
        "\n",
        "\n",
        "    def custom_loss_function(self, y_true, y_pred):\n",
        "      mse = keras.losses.mean_squared_error(y_true, y_pred)\n",
        "      h_val = self.causal_loss_h()\n",
        "      h_loss = 0.5 * self.rho * h_val * h_val + self.alpha * h_val\n",
        "      lambda1 = 0.1\n",
        "      adj_mat = self.get_mat()\n",
        "      sparse_loss = lambda1 * tf.math.reduce_sum(tf.abs(adj_mat))\n",
        "      print('MSE Loss is: {}, h Loss is: {}, L1 loss: {}, Total Loss is: {}'.format(tf.reduce_mean(mse), h_loss, sparse_loss, tf.reduce_mean(mse)+h_loss))\n",
        "      return mse + h_loss + sparse_loss\n",
        "\n",
        "    def causal_loss_h(self):\n",
        "      mat = self.get_mat()\n",
        "      h_val = self.h_acy_1(mat[:, 20:])\n",
        "      return h_val\n",
        "\n",
        "    def get_mat(self):\n",
        "      w1_2d_s = self.model.get_layer(index=-5).get_weights()\n",
        "      w2_2d_s = self.model.get_layer(index=-4).get_weights()\n",
        "      w3_2d_s = self.model.get_layer(index=-3).get_weights()\n",
        "      w4_2d_s = self.model.get_layer(index=-2).get_weights()\n",
        "      arr1_2d_s = np.expand_dims(np.squeeze(np.array(w1_2d_s), axis=(0)).flatten('F'), axis=0)\n",
        "      arr2_2d_s = np.expand_dims(np.squeeze(np.array(w2_2d_s), axis=(0)).flatten('F'), axis=0)\n",
        "      arr3_2d_s = np.expand_dims(np.squeeze(np.array(w3_2d_s), axis=(0)).flatten('F'), axis=0)\n",
        "      arr4_2d_s = np.expand_dims(np.squeeze(np.array(w4_2d_s), axis=(0)).flatten('F'), axis=0)\n",
        "      mat_2d_s = np.concatenate((arr1_2d_s, arr2_2d_s, arr3_2d_s, arr4_2d_s))\n",
        "      #print(mat_2d_s.shape)\n",
        "      return mat_2d_s\n",
        "\n",
        "    def h_acy_1(self, A):\n",
        "      n_var = A.shape[0]\n",
        "      h = tf.linalg.trace(tf.linalg.expm(A * A)) - n_var\n",
        "      return h\n",
        "\n",
        "\n",
        "    def h_acy(self, A):\n",
        "      '''Calculate the constraint of A ensure that it's a DAG'''\n",
        "      n_var = A.shape[0]\n",
        "      M = tf.eye(n_var, num_columns = n_var) + A/n_var\n",
        "      E = M\n",
        "      for _ in range(n_var - 2):\n",
        "        E = tf.linalg.matmul(E, M)\n",
        "      h = tf.math.reduce_sum(tf.transpose(E) * M) - n_var\n",
        "      return h\n",
        "\n",
        "    def compile(self, optimizer='adam'):\n",
        "        self.model.compile(optimizer=optimizer, loss= self.custom_loss_function) # ['mse', self.causal_loss()])\n",
        "\n",
        "    def fit(self, x, y=None, maxiter=100, batch_size=512, save_dir='./results/temp'):\n",
        "        t1 = time()\n",
        "\n",
        "        import csv\n",
        "        logfile = open(save_dir + '/causalnn_log.csv', 'w')\n",
        "        logwriter = csv.DictWriter(logfile, fieldnames=['iter','loss'])\n",
        "        logwriter.writeheader()\n",
        "        train_loader = tf.data.Dataset.from_tensor_slices((x, y)).batch(batch_size)\n",
        "        optimizer = tf.keras.optimizers.Adam(1e-2)\n",
        "        w1_2d_s = self.model.get_layer(index=-5).get_weights()\n",
        "        arr1_2d_s = np.expand_dims(np.squeeze(np.array(w1_2d_s), axis=(0)).flatten('F'), axis=0)\n",
        "\n",
        "\n",
        "        for epoch in range(int(maxiter)):\n",
        "          print('Epoch: {}', epoch)\n",
        "          h_n = None\n",
        "          for (x, y) in train_loader:\n",
        "            #eval loss and compute gradients\n",
        "            with tf.GradientTape() as tape:\n",
        "              tape.watch(self.model.trainable_variables)\n",
        "              #passing through neural network\n",
        "              output = self.model(x)\n",
        "              #calculate loss\n",
        "              loss = self.custom_loss_function(y, output)\n",
        "              gradients = tape.gradient(loss, self.model.trainable_variables)\n",
        "              optimizer.apply_gradients(zip(gradients, self.model.trainable_variables))\n",
        "              h_n = self.causal_loss_h()\n",
        "\n",
        "\n",
        "          if h_n > 0.25 * self.h_p:\n",
        "                self.rho = self.rho*1.1\n",
        "          self.h_p = h_n\n",
        "          print('New h_val is :', h_n)\n",
        "          self.alpha += self.rho * self.h_p\n",
        "\n",
        "          if self.h_p <= self.h_tol or self.rho >= self.rho_max:\n",
        "            print('Before the loop end # h_val is: {}, rho is: {}'.format(self.h_p, self.rho))\n",
        "            break\n",
        "\n",
        "        # save the trained model\n",
        "        logfile.close()\n",
        "        file_name  = \"/CausalNN_model_final_\" + str(round(time()))+ \".h5\"\n",
        "        print('saving model to:', save_dir + file_name)\n",
        "        self.model.save_weights(save_dir + file_name)\n",
        "\n",
        "        w1_2d_s_1 = self.model.get_layer(index=-5).get_weights()\n",
        "        arr1_2d_s_1 = np.expand_dims(np.squeeze(np.array(w1_2d_s_1), axis=(0)).flatten('F'), axis=0)\n",
        "\n",
        "        y_pred = self.model.predict(x)\n",
        "        adj_mat = self.get_mat()\n",
        "\n",
        "        print('The conv layer 1 weights before training :', arr1_2d_s)\n",
        "        print('The conv layer 1 weights after training :', arr1_2d_s_1)\n",
        "\n",
        "        return y_pred, adj_mat"
      ],
      "metadata": {
        "id": "D-T-Ihwwm4Lq"
      },
      "execution_count": null,
      "outputs": []
    },
    {
      "cell_type": "markdown",
      "source": [
        "#Model creation and training:"
      ],
      "metadata": {
        "id": "4i3CVZxGDKHk"
      }
    },
    {
      "cell_type": "code",
      "source": [
        "keras.utils.set_random_seed(1001)\n",
        "\n",
        "cnnmodel = CausalNNModel(dims=TKE_NZ_2d.shape[1:])"
      ],
      "metadata": {
        "colab": {
          "base_uri": "https://localhost:8080/"
        },
        "id": "_rxv1FjaM_u6",
        "outputId": "c55623b1-1e3a-4a77-87fa-ec0ef37c4eca"
      },
      "execution_count": null,
      "outputs": [
        {
          "output_type": "stream",
          "name": "stdout",
          "text": [
            "====Model created=====\n"
          ]
        }
      ]
    },
    {
      "cell_type": "code",
      "source": [
        "cnnmodel.model.summary()"
      ],
      "metadata": {
        "colab": {
          "base_uri": "https://localhost:8080/"
        },
        "id": "Tqt4qRYdNCdx",
        "outputId": "9915fdfb-d491-4c73-9da1-637a5bd96d51"
      },
      "execution_count": null,
      "outputs": [
        {
          "output_type": "stream",
          "name": "stdout",
          "text": [
            "Model: \"model_8\"\n",
            "__________________________________________________________________________________________________\n",
            " Layer (type)                Output Shape                 Param #   Connected to                  \n",
            "==================================================================================================\n",
            " input_9 (InputLayer)        [(None, 4, 6, 1)]            0         []                            \n",
            "                                                                                                  \n",
            " conv1 (Conv2D)              (None, 4, 6, 4)              8         ['input_9[0][0]']             \n",
            "                                                                                                  \n",
            " tf.math.reduce_mean_8 (TFO  (None, 4, 6)                 0         ['conv1[0][0]']               \n",
            " pLambda)                                                                                         \n",
            "                                                                                                  \n",
            " flatten_8 (Flatten)         (None, 24)                   0         ['tf.math.reduce_mean_8[0][0]'\n",
            "                                                                    ]                             \n",
            "                                                                                                  \n",
            " causal_dense_layer_32 (Cau  (None, 1)                    24        ['flatten_8[0][0]']           \n",
            " salDenseLayer)                                                                                   \n",
            "                                                                                                  \n",
            " causal_dense_layer_33 (Cau  (None, 1)                    24        ['flatten_8[0][0]']           \n",
            " salDenseLayer)                                                                                   \n",
            "                                                                                                  \n",
            " causal_dense_layer_34 (Cau  (None, 1)                    24        ['flatten_8[0][0]']           \n",
            " salDenseLayer)                                                                                   \n",
            "                                                                                                  \n",
            " causal_dense_layer_35 (Cau  (None, 1)                    24        ['flatten_8[0][0]']           \n",
            " salDenseLayer)                                                                                   \n",
            "                                                                                                  \n",
            " concatenate_8 (Concatenate  (None, 4)                    0         ['causal_dense_layer_32[0][0]'\n",
            " )                                                                  , 'causal_dense_layer_33[0][0]\n",
            "                                                                    ',                            \n",
            "                                                                     'causal_dense_layer_34[0][0]'\n",
            "                                                                    , 'causal_dense_layer_35[0][0]\n",
            "                                                                    ']                            \n",
            "                                                                                                  \n",
            "==================================================================================================\n",
            "Total params: 104 (416.00 Byte)\n",
            "Trainable params: 104 (416.00 Byte)\n",
            "Non-trainable params: 0 (0.00 Byte)\n",
            "__________________________________________________________________________________________________\n"
          ]
        }
      ]
    },
    {
      "cell_type": "code",
      "source": [
        "cnnmodel.compile()"
      ],
      "metadata": {
        "id": "cH2nDfu0NFUI"
      },
      "execution_count": null,
      "outputs": []
    },
    {
      "cell_type": "code",
      "source": [
        "y_pred, mat = cnnmodel.fit(x=TKE_NZ_2d, y=data_y_TKE_NZ, maxiter=20, batch_size=16, save_dir='/content/')"
      ],
      "metadata": {
        "colab": {
          "base_uri": "https://localhost:8080/"
        },
        "id": "RQOuTYC6y9yR",
        "outputId": "74569373-ed13-408c-dd86-fce7d4db43ba"
      },
      "execution_count": null,
      "outputs": [
        {
          "output_type": "stream",
          "name": "stdout",
          "text": [
            "Epoch: {} 0\n",
            "MSE Loss is: 0.1869751214981079, h Loss is: 0.00020493153715506196, L1 loss: 2.5096235275268555, Total Loss is: 0.1871800571680069\n",
            "MSE Loss is: 0.1804397851228714, h Loss is: 0.00024561851751059294, L1 loss: 2.531233310699463, Total Loss is: 0.1806854009628296\n",
            "MSE Loss is: 0.1690850853919983, h Loss is: 0.0002844104019459337, L1 loss: 2.550661087036133, Total Loss is: 0.16936948895454407\n",
            "MSE Loss is: 0.12712225317955017, h Loss is: 0.0003359704278409481, L1 loss: 2.5707435607910156, Total Loss is: 0.12745822966098785\n",
            "MSE Loss is: 0.09318484365940094, h Loss is: 0.0004011821292806417, L1 loss: 2.591200351715088, Total Loss is: 0.0935860276222229\n",
            "MSE Loss is: 0.0521710105240345, h Loss is: 0.0004840139881707728, L1 loss: 2.612112045288086, Total Loss is: 0.05265502631664276\n",
            "MSE Loss is: 0.025253646075725555, h Loss is: 0.000587030197493732, L1 loss: 2.6319565773010254, Total Loss is: 0.025840675458312035\n",
            "MSE Loss is: 0.02063314989209175, h Loss is: 0.0006997815798968077, L1 loss: 2.6506173610687256, Total Loss is: 0.021332930773496628\n",
            "MSE Loss is: 0.030055878683924675, h Loss is: 0.0008127902983687818, L1 loss: 2.6680667400360107, Total Loss is: 0.030868668109178543\n",
            "MSE Loss is: 0.07161618769168854, h Loss is: 0.0009028420899994671, L1 loss: 2.6808013916015625, Total Loss is: 0.07251902669668198\n",
            "MSE Loss is: 0.12849122285842896, h Loss is: 0.0009469733340665698, L1 loss: 2.6859054565429688, Total Loss is: 0.12943819165229797\n",
            "MSE Loss is: 0.11512158066034317, h Loss is: 0.0009263558313250542, L1 loss: 2.6842830181121826, Total Loss is: 0.1160479336977005\n",
            "MSE Loss is: 0.03716033697128296, h Loss is: 0.0008539210539311171, L1 loss: 2.6753945350646973, Total Loss is: 0.038014259189367294\n",
            "MSE Loss is: 0.12021274864673615, h Loss is: 0.0007784024928696454, L1 loss: 2.6656577587127686, Total Loss is: 0.12099114805459976\n",
            "MSE Loss is: 0.06907649338245392, h Loss is: 0.0006881813169457018, L1 loss: 2.6527421474456787, Total Loss is: 0.06976467370986938\n",
            "MSE Loss is: 0.030316360294818878, h Loss is: 0.000599315098952502, L1 loss: 2.6385533809661865, Total Loss is: 0.030915675684809685\n",
            "MSE Loss is: 0.08385966718196869, h Loss is: 0.0005213676486164331, L1 loss: 2.624077558517456, Total Loss is: 0.08438103646039963\n",
            "MSE Loss is: 0.07530158758163452, h Loss is: 0.0004503926320467144, L1 loss: 2.6083874702453613, Total Loss is: 0.07575198262929916\n",
            "MSE Loss is: 0.015460955910384655, h Loss is: 0.0003872977104038, L1 loss: 2.5923562049865723, Total Loss is: 0.015848252922296524\n",
            "MSE Loss is: 0.01636499911546707, h Loss is: 0.000339788239216432, L1 loss: 2.578761339187622, Total Loss is: 0.01670478656888008\n",
            "MSE Loss is: 0.06277157366275787, h Loss is: 0.000304742919979617, L1 loss: 2.5670909881591797, Total Loss is: 0.06307631731033325\n",
            "MSE Loss is: 0.09830325841903687, h Loss is: 0.00028255968936719, L1 loss: 2.5596845149993896, Total Loss is: 0.0985858216881752\n",
            "MSE Loss is: 0.12302057445049286, h Loss is: 0.0002699622418731451, L1 loss: 2.555978536605835, Total Loss is: 0.1232905387878418\n",
            "MSE Loss is: 0.135961651802063, h Loss is: 0.00026452745078131557, L1 loss: 2.554659843444824, Total Loss is: 0.13622617721557617\n",
            "MSE Loss is: 0.13907623291015625, h Loss is: 0.0002648785593919456, L1 loss: 2.5553438663482666, Total Loss is: 0.13934111595153809\n",
            "MSE Loss is: 0.1370508372783661, h Loss is: 0.00027031690115109086, L1 loss: 2.5578269958496094, Total Loss is: 0.13732115924358368\n",
            "MSE Loss is: 0.13710933923721313, h Loss is: 0.0002806811244226992, L1 loss: 2.562162160873413, Total Loss is: 0.13739001750946045\n",
            "MSE Loss is: 0.132411926984787, h Loss is: 0.0002961518766824156, L1 loss: 2.5677542686462402, Total Loss is: 0.13270807266235352\n",
            "MSE Loss is: 0.13162639737129211, h Loss is: 0.00031724091968499124, L1 loss: 2.5744922161102295, Total Loss is: 0.13194364309310913\n",
            "MSE Loss is: 0.1233544871211052, h Loss is: 0.00034477864392101765, L1 loss: 2.582268238067627, Total Loss is: 0.12369926273822784\n",
            "New h_val is : tf.Tensor(0.02757597, shape=(), dtype=float32)\n",
            "Epoch: {} 1\n",
            "MSE Loss is: 0.12531718611717224, h Loss is: 0.0011364200618118048, L1 loss: 2.5907325744628906, Total Loss is: 0.12645360827445984\n",
            "MSE Loss is: 0.11896537244319916, h Loss is: 0.0012197066098451614, L1 loss: 2.6004955768585205, Total Loss is: 0.12018507719039917\n",
            "MSE Loss is: 0.1087004616856575, h Loss is: 0.001321231247857213, L1 loss: 2.61303973197937, Total Loss is: 0.1100216954946518\n",
            "MSE Loss is: 0.07499563694000244, h Loss is: 0.0014438634971156716, L1 loss: 2.628770589828491, Total Loss is: 0.0764394998550415\n",
            "MSE Loss is: 0.04924570396542549, h Loss is: 0.0015891240909695625, L1 loss: 2.6462242603302, Total Loss is: 0.05083482712507248\n",
            "MSE Loss is: 0.02826092392206192, h Loss is: 0.001758277416229248, L1 loss: 2.6666367053985596, Total Loss is: 0.030019201338291168\n",
            "MSE Loss is: 0.012866555713117123, h Loss is: 0.00194310222286731, L1 loss: 2.689129590988159, Total Loss is: 0.014809657819569111\n",
            "MSE Loss is: 0.010767091065645218, h Loss is: 0.002131461398676038, L1 loss: 2.7132973670959473, Total Loss is: 0.012898552231490612\n",
            "MSE Loss is: 0.029237845912575722, h Loss is: 0.0023175207898020744, L1 loss: 2.736790418624878, Total Loss is: 0.03155536577105522\n",
            "MSE Loss is: 0.07990793138742447, h Loss is: 0.0024786998983472586, L1 loss: 2.7581803798675537, Total Loss is: 0.08238662779331207\n",
            "MSE Loss is: 0.1392679363489151, h Loss is: 0.002584660891443491, L1 loss: 2.7727208137512207, Total Loss is: 0.14185260236263275\n",
            "MSE Loss is: 0.1393640637397766, h Loss is: 0.0026085025165230036, L1 loss: 2.778527021408081, Total Loss is: 0.14197257161140442\n",
            "MSE Loss is: 0.04998375475406647, h Loss is: 0.002550245728343725, L1 loss: 2.775212049484253, Total Loss is: 0.05253399908542633\n",
            "MSE Loss is: 0.14826396107673645, h Loss is: 0.0024605561047792435, L1 loss: 2.7682759761810303, Total Loss is: 0.15072451531887054\n",
            "MSE Loss is: 0.09184883534908295, h Loss is: 0.0023207440972328186, L1 loss: 2.755722999572754, Total Loss is: 0.09416957944631577\n",
            "MSE Loss is: 0.0468214675784111, h Loss is: 0.0021573822014033794, L1 loss: 2.7400379180908203, Total Loss is: 0.04897885024547577\n",
            "MSE Loss is: 0.10523699223995209, h Loss is: 0.001993099693208933, L1 loss: 2.7221999168395996, Total Loss is: 0.10723008960485458\n",
            "MSE Loss is: 0.09990862011909485, h Loss is: 0.00182572309859097, L1 loss: 2.7038371562957764, Total Loss is: 0.10173434019088745\n",
            "MSE Loss is: 0.015709975734353065, h Loss is: 0.0016608086880296469, L1 loss: 2.6861865520477295, Total Loss is: 0.017370784655213356\n",
            "MSE Loss is: 0.01078771147876978, h Loss is: 0.0015211314894258976, L1 loss: 2.671682834625244, Total Loss is: 0.012308843433856964\n",
            "MSE Loss is: 0.031169088557362556, h Loss is: 0.0014058162923902273, L1 loss: 2.6583034992218018, Total Loss is: 0.03257490321993828\n",
            "MSE Loss is: 0.05725528299808502, h Loss is: 0.0013239581603556871, L1 loss: 2.649061441421509, Total Loss is: 0.05857923999428749\n",
            "MSE Loss is: 0.07778754830360413, h Loss is: 0.0012721337843686342, L1 loss: 2.6443283557891846, Total Loss is: 0.07905968278646469\n",
            "MSE Loss is: 0.08939703553915024, h Loss is: 0.0012456785188987851, L1 loss: 2.6422386169433594, Total Loss is: 0.09064271301031113\n",
            "MSE Loss is: 0.0930931568145752, h Loss is: 0.0012410592753440142, L1 loss: 2.642583131790161, Total Loss is: 0.09433421492576599\n",
            "MSE Loss is: 0.09211289882659912, h Loss is: 0.0012557003647089005, L1 loss: 2.645087957382202, Total Loss is: 0.09336859732866287\n",
            "MSE Loss is: 0.0926680713891983, h Loss is: 0.001288153463974595, L1 loss: 2.6497318744659424, Total Loss is: 0.09395622462034225\n",
            "MSE Loss is: 0.08885368704795837, h Loss is: 0.0013381014578044415, L1 loss: 2.657118320465088, Total Loss is: 0.0901917889714241\n",
            "MSE Loss is: 0.08808170258998871, h Loss is: 0.001405987306497991, L1 loss: 2.667348861694336, Total Loss is: 0.08948768675327301\n",
            "MSE Loss is: 0.08129597455263138, h Loss is: 0.0014930077595636249, L1 loss: 2.67930269241333, Total Loss is: 0.08278898149728775\n",
            "New h_val is : tf.Tensor(0.03537464, shape=(), dtype=float32)\n",
            "Epoch: {} 2\n",
            "MSE Loss is: 0.08304332196712494, h Loss is: 0.0030301958322525024, L1 loss: 2.692169427871704, Total Loss is: 0.08607351779937744\n",
            "MSE Loss is: 0.07769405841827393, h Loss is: 0.003238614881411195, L1 loss: 2.7075021266937256, Total Loss is: 0.08093267679214478\n",
            "MSE Loss is: 0.06945671141147614, h Loss is: 0.0034865394700318575, L1 loss: 2.7261059284210205, Total Loss is: 0.07294324785470963\n",
            "MSE Loss is: 0.044472381472587585, h Loss is: 0.0037773032672703266, L1 loss: 2.749445915222168, Total Loss is: 0.048249684274196625\n",
            "MSE Loss is: 0.0263834185898304, h Loss is: 0.0041066622361540794, L1 loss: 2.77321457862854, Total Loss is: 0.030490081757307053\n",
            "MSE Loss is: 0.021106325089931488, h Loss is: 0.004468967206776142, L1 loss: 2.7972192764282227, Total Loss is: 0.025575291365385056\n",
            "MSE Loss is: 0.014451047405600548, h Loss is: 0.004838535562157631, L1 loss: 2.821571111679077, Total Loss is: 0.01928958296775818\n",
            "MSE Loss is: 0.014075384475290775, h Loss is: 0.005188861861824989, L1 loss: 2.8428871631622314, Total Loss is: 0.01926424726843834\n",
            "MSE Loss is: 0.037751249969005585, h Loss is: 0.005509302951395512, L1 loss: 2.861279249191284, Total Loss is: 0.04326055198907852\n",
            "MSE Loss is: 0.09101252257823944, h Loss is: 0.00576845882460475, L1 loss: 2.8758962154388428, Total Loss is: 0.09678097814321518\n",
            "MSE Loss is: 0.14852628111839294, h Loss is: 0.00592958927154541, L1 loss: 2.8853726387023926, Total Loss is: 0.15445587038993835\n",
            "MSE Loss is: 0.15006166696548462, h Loss is: 0.005961760878562927, L1 loss: 2.887991428375244, Total Loss is: 0.15602342784404755\n",
            "MSE Loss is: 0.05924736708402634, h Loss is: 0.00586117384955287, L1 loss: 2.8833200931549072, Total Loss is: 0.0651085376739502\n",
            "MSE Loss is: 0.1552935540676117, h Loss is: 0.005701364018023014, L1 loss: 2.875741481781006, Total Loss is: 0.16099491715431213\n",
            "MSE Loss is: 0.09929082542657852, h Loss is: 0.005449688993394375, L1 loss: 2.862750291824341, Total Loss is: 0.10474051535129547\n",
            "MSE Loss is: 0.05344399809837341, h Loss is: 0.0051498510874807835, L1 loss: 2.8461849689483643, Total Loss is: 0.05859385058283806\n",
            "MSE Loss is: 0.10821700096130371, h Loss is: 0.0048390040174126625, L1 loss: 2.827643632888794, Total Loss is: 0.1130560040473938\n",
            "MSE Loss is: 0.10058949142694473, h Loss is: 0.004513559862971306, L1 loss: 2.8069772720336914, Total Loss is: 0.10510305315256119\n",
            "MSE Loss is: 0.017543137073516846, h Loss is: 0.004182284697890282, L1 loss: 2.785395622253418, Total Loss is: 0.021725421771407127\n",
            "MSE Loss is: 0.010606173425912857, h Loss is: 0.0038910559378564358, L1 loss: 2.764848470687866, Total Loss is: 0.01449722982943058\n",
            "MSE Loss is: 0.021030137315392494, h Loss is: 0.0036418787203729153, L1 loss: 2.745729446411133, Total Loss is: 0.024672016501426697\n",
            "MSE Loss is: 0.041836485266685486, h Loss is: 0.003455699887126684, L1 loss: 2.730707883834839, Total Loss is: 0.04529218375682831\n",
            "MSE Loss is: 0.05882991850376129, h Loss is: 0.0033306253608316183, L1 loss: 2.720860242843628, Total Loss is: 0.06216054409742355\n",
            "MSE Loss is: 0.06898005306720734, h Loss is: 0.0032610290218144655, L1 loss: 2.7155609130859375, Total Loss is: 0.07224108278751373\n",
            "MSE Loss is: 0.07280836999416351, h Loss is: 0.003240767167881131, L1 loss: 2.71402907371521, Total Loss is: 0.07604913413524628\n",
            "MSE Loss is: 0.07267270982265472, h Loss is: 0.003264983417466283, L1 loss: 2.7156758308410645, Total Loss is: 0.07593769580125809\n",
            "MSE Loss is: 0.07338429987430573, h Loss is: 0.0033303669188171625, L1 loss: 2.7205538749694824, Total Loss is: 0.0767146646976471\n",
            "MSE Loss is: 0.07065792381763458, h Loss is: 0.0034353798255324364, L1 loss: 2.7284932136535645, Total Loss is: 0.0740933045744896\n",
            "MSE Loss is: 0.06996379047632217, h Loss is: 0.003580160206183791, L1 loss: 2.7397353649139404, Total Loss is: 0.07354395091533661\n",
            "MSE Loss is: 0.06464171409606934, h Loss is: 0.0037659029476344585, L1 loss: 2.7536211013793945, Total Loss is: 0.06840761750936508\n",
            "New h_val is : tf.Tensor(0.04401207, shape=(), dtype=float32)\n",
            "Epoch: {} 3\n",
            "MSE Loss is: 0.06614313274621964, h Loss is: 0.006427284330129623, L1 loss: 2.768728733062744, Total Loss is: 0.07257041335105896\n",
            "MSE Loss is: 0.06165720149874687, h Loss is: 0.006821067538112402, L1 loss: 2.785923719406128, Total Loss is: 0.06847827136516571\n",
            "MSE Loss is: 0.05485258251428604, h Loss is: 0.0072860028594732285, L1 loss: 2.8058719635009766, Total Loss is: 0.06213858723640442\n",
            "MSE Loss is: 0.03443627804517746, h Loss is: 0.007824337109923363, L1 loss: 2.8278706073760986, Total Loss is: 0.04226061701774597\n",
            "MSE Loss is: 0.020058196038007736, h Loss is: 0.0084224259480834, L1 loss: 2.850731611251831, Total Loss is: 0.02848062291741371\n",
            "MSE Loss is: 0.020083852112293243, h Loss is: 0.009064562618732452, L1 loss: 2.873281717300415, Total Loss is: 0.029148414731025696\n",
            "MSE Loss is: 0.014877662062644958, h Loss is: 0.009705173783004284, L1 loss: 2.894594192504883, Total Loss is: 0.024582836776971817\n",
            "MSE Loss is: 0.014911506325006485, h Loss is: 0.010304237715899944, L1 loss: 2.913630247116089, Total Loss is: 0.025215744972229004\n",
            "MSE Loss is: 0.03645651042461395, h Loss is: 0.010847926139831543, L1 loss: 2.930135488510132, Total Loss is: 0.047304436564445496\n",
            "MSE Loss is: 0.08250820636749268, h Loss is: 0.011298496276140213, L1 loss: 2.943202018737793, Total Loss is: 0.09380669891834259\n",
            "MSE Loss is: 0.12808209657669067, h Loss is: 0.011609362438321114, L1 loss: 2.9516618251800537, Total Loss is: 0.13969145715236664\n",
            "MSE Loss is: 0.12515312433242798, h Loss is: 0.011751978658139706, L1 loss: 2.9547901153564453, Total Loss is: 0.13690510392189026\n",
            "MSE Loss is: 0.0510876402258873, h Loss is: 0.011701421812176704, L1 loss: 2.951958417892456, Total Loss is: 0.06278906017541885\n",
            "MSE Loss is: 0.12731507420539856, h Loss is: 0.011556851677596569, L1 loss: 2.946556568145752, Total Loss is: 0.1388719230890274\n",
            "MSE Loss is: 0.0802421122789383, h Loss is: 0.011263272725045681, L1 loss: 2.9363133907318115, Total Loss is: 0.09150538593530655\n",
            "MSE Loss is: 0.042341314256191254, h Loss is: 0.010890896432101727, L1 loss: 2.9232547283172607, Total Loss is: 0.053232211619615555\n",
            "MSE Loss is: 0.0869523286819458, h Loss is: 0.010486087761819363, L1 loss: 2.9087350368499756, Total Loss is: 0.09743841737508774\n",
            "MSE Loss is: 0.07526471465826035, h Loss is: 0.010047093965113163, L1 loss: 2.892371654510498, Total Loss is: 0.08531180769205093\n",
            "MSE Loss is: 0.014384965412318707, h Loss is: 0.00958041287958622, L1 loss: 2.8742191791534424, Total Loss is: 0.02396537736058235\n",
            "MSE Loss is: 0.00867246650159359, h Loss is: 0.009159435518085957, L1 loss: 2.857696294784546, Total Loss is: 0.01783190295100212\n",
            "MSE Loss is: 0.01844840683043003, h Loss is: 0.008793707937002182, L1 loss: 2.842806577682495, Total Loss is: 0.027242114767432213\n",
            "MSE Loss is: 0.0358157679438591, h Loss is: 0.008526124060153961, L1 loss: 2.8315086364746094, Total Loss is: 0.04434189200401306\n",
            "MSE Loss is: 0.04887384921312332, h Loss is: 0.00836677011102438, L1 loss: 2.824443817138672, Total Loss is: 0.057240620255470276\n",
            "MSE Loss is: 0.05675141513347626, h Loss is: 0.00831635668873787, L1 loss: 2.82167649269104, Total Loss is: 0.06506776809692383\n",
            "MSE Loss is: 0.05978919193148613, h Loss is: 0.00837031751871109, L1 loss: 2.8230063915252686, Total Loss is: 0.06815950572490692\n",
            "MSE Loss is: 0.05973443388938904, h Loss is: 0.00852425117045641, L1 loss: 2.828059434890747, Total Loss is: 0.06825868785381317\n",
            "MSE Loss is: 0.059693075716495514, h Loss is: 0.008774994872510433, L1 loss: 2.8364293575286865, Total Loss is: 0.06846807152032852\n",
            "MSE Loss is: 0.057492151856422424, h Loss is: 0.00912119634449482, L1 loss: 2.84773325920105, Total Loss is: 0.0666133463382721\n",
            "MSE Loss is: 0.056129153817892075, h Loss is: 0.009564898908138275, L1 loss: 2.861600637435913, Total Loss is: 0.06569404900074005\n",
            "MSE Loss is: 0.05179820582270622, h Loss is: 0.010109027847647667, L1 loss: 2.8784499168395996, Total Loss is: 0.06190723180770874\n",
            "New h_val is : tf.Tensor(0.067026615, shape=(), dtype=float32)\n",
            "Epoch: {} 4\n",
            "MSE Loss is: 0.052395813167095184, h Loss is: 0.01696820743381977, L1 loss: 2.8964622020721436, Total Loss is: 0.0693640187382698\n",
            "MSE Loss is: 0.04833469167351723, h Loss is: 0.01804882474243641, L1 loss: 2.9162285327911377, Total Loss is: 0.06638351827859879\n",
            "MSE Loss is: 0.04260985180735588, h Loss is: 0.019296729937195778, L1 loss: 2.9374070167541504, Total Loss is: 0.06190658360719681\n",
            "MSE Loss is: 0.026344334706664085, h Loss is: 0.020711779594421387, L1 loss: 2.959613561630249, Total Loss is: 0.04705611616373062\n",
            "MSE Loss is: 0.015339977107942104, h Loss is: 0.022252313792705536, L1 loss: 2.9819891452789307, Total Loss is: 0.037592291831970215\n",
            "MSE Loss is: 0.019715148955583572, h Loss is: 0.023871781304478645, L1 loss: 3.0038654804229736, Total Loss is: 0.04358693212270737\n",
            "MSE Loss is: 0.014523781836032867, h Loss is: 0.025470497086644173, L1 loss: 3.0239551067352295, Total Loss is: 0.03999427706003189\n",
            "MSE Loss is: 0.01468491181731224, h Loss is: 0.02697368897497654, L1 loss: 3.0418038368225098, Total Loss is: 0.04165860265493393\n",
            "MSE Loss is: 0.03256787732243538, h Loss is: 0.028358589857816696, L1 loss: 3.057504415512085, Total Loss is: 0.060926467180252075\n",
            "MSE Loss is: 0.06826357543468475, h Loss is: 0.029574718326330185, L1 loss: 3.070479154586792, Total Loss is: 0.09783829748630524\n",
            "MSE Loss is: 0.09633417427539825, h Loss is: 0.030567416921257973, L1 loss: 3.0800673961639404, Total Loss is: 0.12690159678459167\n",
            "MSE Loss is: 0.0873851478099823, h Loss is: 0.0313640721142292, L1 loss: 3.0863142013549805, Total Loss is: 0.1187492161989212\n",
            "MSE Loss is: 0.03857126832008362, h Loss is: 0.03188151866197586, L1 loss: 3.0885353088378906, Total Loss is: 0.07045278698205948\n",
            "MSE Loss is: 0.08684134483337402, h Loss is: 0.03222368285059929, L1 loss: 3.088813066482544, Total Loss is: 0.11906503140926361\n",
            "MSE Loss is: 0.05366303771734238, h Loss is: 0.03232959285378456, L1 loss: 3.0860989093780518, Total Loss is: 0.08599263429641724\n",
            "MSE Loss is: 0.027706369757652283, h Loss is: 0.032317399978637695, L1 loss: 3.0817136764526367, Total Loss is: 0.06002376973628998\n",
            "MSE Loss is: 0.060658782720565796, h Loss is: 0.03221425041556358, L1 loss: 3.0763919353485107, Total Loss is: 0.09287303686141968\n",
            "MSE Loss is: 0.04485290125012398, h Loss is: 0.0320390947163105, L1 loss: 3.0702500343322754, Total Loss is: 0.07689199596643448\n",
            "MSE Loss is: 0.01210670918226242, h Loss is: 0.0317889079451561, L1 loss: 3.06347918510437, Total Loss is: 0.04389561712741852\n",
            "MSE Loss is: 0.007514204364269972, h Loss is: 0.031546011567115784, L1 loss: 3.0572121143341064, Total Loss is: 0.03906021639704704\n",
            "MSE Loss is: 0.014318892732262611, h Loss is: 0.03134826198220253, L1 loss: 3.051931381225586, Total Loss is: 0.04566715657711029\n",
            "MSE Loss is: 0.026384685188531876, h Loss is: 0.03130662068724632, L1 loss: 3.0490758419036865, Total Loss is: 0.0576913058757782\n",
            "MSE Loss is: 0.03405679017305374, h Loss is: 0.0314893014729023, L1 loss: 3.049205780029297, Total Loss is: 0.06554609537124634\n",
            "MSE Loss is: 0.03892175480723381, h Loss is: 0.0319347009062767, L1 loss: 3.05237078666687, Total Loss is: 0.07085645198822021\n",
            "MSE Loss is: 0.04079894721508026, h Loss is: 0.0326581746339798, L1 loss: 3.05843186378479, Total Loss is: 0.07345712184906006\n",
            "MSE Loss is: 0.040746983140707016, h Loss is: 0.033666905015707016, L1 loss: 3.0670974254608154, Total Loss is: 0.07441388815641403\n",
            "MSE Loss is: 0.04014739394187927, h Loss is: 0.034963589161634445, L1 loss: 3.078047513961792, Total Loss is: 0.07511098682880402\n",
            "MSE Loss is: 0.03868556022644043, h Loss is: 0.03654932975769043, L1 loss: 3.0909881591796875, Total Loss is: 0.07523488998413086\n",
            "MSE Loss is: 0.0370878167450428, h Loss is: 0.03843101114034653, L1 loss: 3.105612277984619, Total Loss is: 0.07551883161067963\n",
            "MSE Loss is: 0.034245219081640244, h Loss is: 0.04061385244131088, L1 loss: 3.1223809719085693, Total Loss is: 0.07485906779766083\n",
            "New h_val is : tf.Tensor(0.14185715, shape=(), dtype=float32)\n",
            "Epoch: {} 5\n",
            "MSE Loss is: 0.0344122052192688, h Loss is: 0.07378289848566055, L1 loss: 3.14099383354187, Total Loss is: 0.10819510370492935\n",
            "MSE Loss is: 0.03142920136451721, h Loss is: 0.07802706956863403, L1 loss: 3.1617491245269775, Total Loss is: 0.10945627093315125\n",
            "MSE Loss is: 0.027490193024277687, h Loss is: 0.08274747431278229, L1 loss: 3.1834475994110107, Total Loss is: 0.11023766547441483\n",
            "MSE Loss is: 0.016554269939661026, h Loss is: 0.0879155844449997, L1 loss: 3.206224203109741, Total Loss is: 0.10446985065937042\n",
            "MSE Loss is: 0.009794440120458603, h Loss is: 0.09336024522781372, L1 loss: 3.2296302318573, Total Loss is: 0.10315468907356262\n",
            "MSE Loss is: 0.019069820642471313, h Loss is: 0.09890801459550858, L1 loss: 3.2523388862609863, Total Loss is: 0.11797783523797989\n",
            "MSE Loss is: 0.014214472845196724, h Loss is: 0.10426658391952515, L1 loss: 3.2754368782043457, Total Loss is: 0.11848105490207672\n",
            "MSE Loss is: 0.014307813718914986, h Loss is: 0.1092906966805458, L1 loss: 3.29594349861145, Total Loss is: 0.12359850853681564\n",
            "MSE Loss is: 0.027836618945002556, h Loss is: 0.11394902318716049, L1 loss: 3.31457257270813, Total Loss is: 0.1417856365442276\n",
            "MSE Loss is: 0.05168718844652176, h Loss is: 0.1182195171713829, L1 loss: 3.330387592315674, Total Loss is: 0.16990670561790466\n",
            "MSE Loss is: 0.061584219336509705, h Loss is: 0.12214905768632889, L1 loss: 3.3431999683380127, Total Loss is: 0.1837332844734192\n",
            "MSE Loss is: 0.044498540461063385, h Loss is: 0.12607735395431519, L1 loss: 3.3540923595428467, Total Loss is: 0.17057588696479797\n",
            "MSE Loss is: 0.02586783654987812, h Loss is: 0.12985923886299133, L1 loss: 3.3626708984375, Total Loss is: 0.1557270735502243\n",
            "MSE Loss is: 0.04389052093029022, h Loss is: 0.13332176208496094, L1 loss: 3.3694965839385986, Total Loss is: 0.17721228301525116\n",
            "MSE Loss is: 0.02940869703888893, h Loss is: 0.1366191953420639, L1 loss: 3.3748345375061035, Total Loss is: 0.16602788865566254\n",
            "MSE Loss is: 0.015427650883793831, h Loss is: 0.13983061909675598, L1 loss: 3.3790786266326904, Total Loss is: 0.15525826811790466\n",
            "MSE Loss is: 0.041161976754665375, h Loss is: 0.14281754195690155, L1 loss: 3.3824989795684814, Total Loss is: 0.18397951126098633\n",
            "MSE Loss is: 0.023062631487846375, h Loss is: 0.1456223875284195, L1 loss: 3.385120391845703, Total Loss is: 0.16868501901626587\n",
            "MSE Loss is: 0.01247079111635685, h Loss is: 0.14822497963905334, L1 loss: 3.3872716426849365, Total Loss is: 0.16069577634334564\n",
            "MSE Loss is: 0.007225999608635902, h Loss is: 0.15058523416519165, L1 loss: 3.38950514793396, Total Loss is: 0.157811239361763\n",
            "MSE Loss is: 0.00755599420517683, h Loss is: 0.15284907817840576, L1 loss: 3.3921048641204834, Total Loss is: 0.16040506958961487\n",
            "MSE Loss is: 0.01341228187084198, h Loss is: 0.15530270338058472, L1 loss: 3.396106004714966, Total Loss is: 0.1687149852514267\n",
            "MSE Loss is: 0.01616428606212139, h Loss is: 0.15821391344070435, L1 loss: 3.402141571044922, Total Loss is: 0.1743782013654709\n",
            "MSE Loss is: 0.018448490649461746, h Loss is: 0.16173584759235382, L1 loss: 3.4103190898895264, Total Loss is: 0.18018433451652527\n",
            "MSE Loss is: 0.019453614950180054, h Loss is: 0.1659446656703949, L1 loss: 3.4205830097198486, Total Loss is: 0.18539828062057495\n",
            "MSE Loss is: 0.01964130438864231, h Loss is: 0.1708742380142212, L1 loss: 3.4327328205108643, Total Loss is: 0.19051554799079895\n",
            "MSE Loss is: 0.019205261021852493, h Loss is: 0.1765231341123581, L1 loss: 3.44657301902771, Total Loss is: 0.1957283914089203\n",
            "MSE Loss is: 0.018832579255104065, h Loss is: 0.182882159948349, L1 loss: 3.462067127227783, Total Loss is: 0.20171473920345306\n",
            "MSE Loss is: 0.017867401242256165, h Loss is: 0.18993398547172546, L1 loss: 3.479417085647583, Total Loss is: 0.20780138671398163\n",
            "MSE Loss is: 0.01685159094631672, h Loss is: 0.19766244292259216, L1 loss: 3.4977784156799316, Total Loss is: 0.21451403200626373\n",
            "New h_val is : tf.Tensor(0.31716537, shape=(), dtype=float32)\n",
            "Epoch: {} 6\n",
            "MSE Loss is: 0.017415586858987808, h Loss is: 0.37508687376976013, L1 loss: 3.5162007808685303, Total Loss is: 0.39250245690345764\n",
            "MSE Loss is: 0.015997305512428284, h Loss is: 0.38932961225509644, L1 loss: 3.535231828689575, Total Loss is: 0.4053269028663635\n",
            "MSE Loss is: 0.014068162068724632, h Loss is: 0.40448498725891113, L1 loss: 3.5546510219573975, Total Loss is: 0.4185531437397003\n",
            "MSE Loss is: 0.00794332753866911, h Loss is: 0.4203950762748718, L1 loss: 3.574205160140991, Total Loss is: 0.4283384084701538\n",
            "MSE Loss is: 0.005042117089033127, h Loss is: 0.43648141622543335, L1 loss: 3.5932483673095703, Total Loss is: 0.4415235221385956\n",
            "MSE Loss is: 0.018116887658834457, h Loss is: 0.45219698548316956, L1 loss: 3.6115448474884033, Total Loss is: 0.4703138768672943\n",
            "MSE Loss is: 0.014346947893500328, h Loss is: 0.46682247519493103, L1 loss: 3.6284263134002686, Total Loss is: 0.4811694324016571\n",
            "MSE Loss is: 0.014392037875950336, h Loss is: 0.48028290271759033, L1 loss: 3.643505811691284, Total Loss is: 0.494674950838089\n",
            "MSE Loss is: 0.02490941435098648, h Loss is: 0.4926545023918152, L1 loss: 3.6568520069122314, Total Loss is: 0.5175639390945435\n",
            "MSE Loss is: 0.040986426174640656, h Loss is: 0.5041308403015137, L1 loss: 3.6685051918029785, Total Loss is: 0.5451172590255737\n",
            "MSE Loss is: 0.04509996622800827, h Loss is: 0.5151981711387634, L1 loss: 3.6785714626312256, Total Loss is: 0.5602981448173523\n",
            "MSE Loss is: 0.019962502643465996, h Loss is: 0.5260226726531982, L1 loss: 3.687852621078491, Total Loss is: 0.5459851622581482\n",
            "MSE Loss is: 0.020999297499656677, h Loss is: 0.537114143371582, L1 loss: 3.696369171142578, Total Loss is: 0.5581134557723999\n",
            "MSE Loss is: 0.02114805020391941, h Loss is: 0.5474004745483398, L1 loss: 3.7038681507110596, Total Loss is: 0.5685485005378723\n",
            "MSE Loss is: 0.02142886072397232, h Loss is: 0.557846188545227, L1 loss: 3.710909605026245, Total Loss is: 0.5792750716209412\n",
            "MSE Loss is: 0.012002348899841309, h Loss is: 0.5676835775375366, L1 loss: 3.716923952102661, Total Loss is: 0.5796859264373779\n",
            "MSE Loss is: 0.03636768460273743, h Loss is: 0.5767630338668823, L1 loss: 3.7222843170166016, Total Loss is: 0.6131306886672974\n",
            "MSE Loss is: 0.01810726709663868, h Loss is: 0.585084080696106, L1 loss: 3.7266652584075928, Total Loss is: 0.6031913757324219\n",
            "MSE Loss is: 0.013476031832396984, h Loss is: 0.5927506685256958, L1 loss: 3.7302894592285156, Total Loss is: 0.6062266826629639\n",
            "MSE Loss is: 0.006147218868136406, h Loss is: 0.5995240807533264, L1 loss: 3.7336044311523438, Total Loss is: 0.6056712865829468\n",
            "MSE Loss is: 0.0027515373658388853, h Loss is: 0.6059169769287109, L1 loss: 3.737081289291382, Total Loss is: 0.6086685061454773\n",
            "MSE Loss is: 0.004735548980534077, h Loss is: 0.6122483611106873, L1 loss: 3.7409934997558594, Total Loss is: 0.6169838905334473\n",
            "MSE Loss is: 0.005476335994899273, h Loss is: 0.6191414594650269, L1 loss: 3.745839834213257, Total Loss is: 0.6246178150177002\n",
            "MSE Loss is: 0.006672941148281097, h Loss is: 0.6268631219863892, L1 loss: 3.751638174057007, Total Loss is: 0.6335360407829285\n",
            "MSE Loss is: 0.007393375970423222, h Loss is: 0.6355766654014587, L1 loss: 3.7583978176116943, Total Loss is: 0.6429700255393982\n",
            "MSE Loss is: 0.00782623142004013, h Loss is: 0.6453008055686951, L1 loss: 3.7659897804260254, Total Loss is: 0.6531270146369934\n",
            "MSE Loss is: 0.0076998211443424225, h Loss is: 0.6559640169143677, L1 loss: 3.774242401123047, Total Loss is: 0.6636638641357422\n",
            "MSE Loss is: 0.007950333878397942, h Loss is: 0.6675518751144409, L1 loss: 3.7830970287323, Total Loss is: 0.6755021810531616\n",
            "MSE Loss is: 0.007530122064054012, h Loss is: 0.6799471974372864, L1 loss: 3.792370557785034, Total Loss is: 0.6874772906303406\n",
            "MSE Loss is: 0.007456664461642504, h Loss is: 0.6931461095809937, L1 loss: 3.8022332191467285, Total Loss is: 0.7006027698516846\n",
            "New h_val is : tf.Tensor(0.5237155, shape=(), dtype=float32)\n",
            "Epoch: {} 7\n",
            "MSE Loss is: 0.008259080350399017, h Loss is: 1.214516282081604, L1 loss: 3.812065839767456, Total Loss is: 1.2227753400802612\n",
            "MSE Loss is: 0.0077138543128967285, h Loss is: 1.2367393970489502, L1 loss: 3.8221733570098877, Total Loss is: 1.2444531917572021\n",
            "MSE Loss is: 0.006841377355158329, h Loss is: 1.2599194049835205, L1 loss: 3.8324806690216064, Total Loss is: 1.2667608261108398\n",
            "MSE Loss is: 0.003425043076276779, h Loss is: 1.2837622165679932, L1 loss: 3.84295654296875, Total Loss is: 1.2871872186660767\n",
            "MSE Loss is: 0.002843395574018359, h Loss is: 1.3070814609527588, L1 loss: 3.853001356124878, Total Loss is: 1.309924840927124\n",
            "MSE Loss is: 0.01782115176320076, h Loss is: 1.3287913799285889, L1 loss: 3.862208127975464, Total Loss is: 1.346612572669983\n",
            "MSE Loss is: 0.015594257973134518, h Loss is: 1.3475828170776367, L1 loss: 3.8700928688049316, Total Loss is: 1.3631770610809326\n",
            "MSE Loss is: 0.015773870050907135, h Loss is: 1.3641974925994873, L1 loss: 3.876732349395752, Total Loss is: 1.3799713850021362\n",
            "MSE Loss is: 0.024786407127976418, h Loss is: 1.3790947198867798, L1 loss: 3.882193088531494, Total Loss is: 1.4038810729980469\n",
            "MSE Loss is: 0.038437895476818085, h Loss is: 1.393045425415039, L1 loss: 3.8867828845977783, Total Loss is: 1.431483268737793\n",
            "MSE Loss is: 0.04251356050372124, h Loss is: 1.4070583581924438, L1 loss: 3.890530824661255, Total Loss is: 1.449571967124939\n",
            "MSE Loss is: 0.015049504116177559, h Loss is: 1.4192428588867188, L1 loss: 3.8937249183654785, Total Loss is: 1.4342923164367676\n",
            "MSE Loss is: 0.020849071443080902, h Loss is: 1.4317116737365723, L1 loss: 3.896622896194458, Total Loss is: 1.4525607824325562\n",
            "MSE Loss is: 0.015717562288045883, h Loss is: 1.4426020383834839, L1 loss: 3.8989975452423096, Total Loss is: 1.4583195447921753\n",
            "MSE Loss is: 0.02087267115712166, h Loss is: 1.4541823863983154, L1 loss: 3.9012467861175537, Total Loss is: 1.4750550985336304\n",
            "MSE Loss is: 0.011820855550467968, h Loss is: 1.463702917098999, L1 loss: 3.9026710987091064, Total Loss is: 1.475523829460144\n",
            "MSE Loss is: 0.035540156066417694, h Loss is: 1.4717533588409424, L1 loss: 3.9038732051849365, Total Loss is: 1.507293462753296\n",
            "MSE Loss is: 0.017764121294021606, h Loss is: 1.4785525798797607, L1 loss: 3.9042809009552, Total Loss is: 1.49631667137146\n",
            "MSE Loss is: 0.013647206127643585, h Loss is: 1.4845130443572998, L1 loss: 3.9039573669433594, Total Loss is: 1.4981602430343628\n",
            "MSE Loss is: 0.005674493499100208, h Loss is: 1.4892709255218506, L1 loss: 3.9035041332244873, Total Loss is: 1.4949454069137573\n",
            "MSE Loss is: 0.0021557221189141273, h Loss is: 1.4939265251159668, L1 loss: 3.9035263061523438, Total Loss is: 1.4960823059082031\n",
            "MSE Loss is: 0.0026335548609495163, h Loss is: 1.4985696077346802, L1 loss: 3.9040615558624268, Total Loss is: 1.501203179359436\n",
            "MSE Loss is: 0.002753025386482477, h Loss is: 1.504359245300293, L1 loss: 3.9054207801818848, Total Loss is: 1.5071122646331787\n",
            "MSE Loss is: 0.003601040691137314, h Loss is: 1.5117580890655518, L1 loss: 3.907630205154419, Total Loss is: 1.5153591632843018\n",
            "MSE Loss is: 0.004113593138754368, h Loss is: 1.5210480690002441, L1 loss: 3.9107139110565186, Total Loss is: 1.525161623954773\n",
            "MSE Loss is: 0.004470823332667351, h Loss is: 1.532191276550293, L1 loss: 3.9145634174346924, Total Loss is: 1.5366621017456055\n",
            "MSE Loss is: 0.004462836310267448, h Loss is: 1.544973611831665, L1 loss: 3.9190337657928467, Total Loss is: 1.5494364500045776\n",
            "MSE Loss is: 0.004700708203017712, h Loss is: 1.5593732595443726, L1 loss: 3.9240849018096924, Total Loss is: 1.564073920249939\n",
            "MSE Loss is: 0.004494806751608849, h Loss is: 1.5751014947891235, L1 loss: 3.929563283920288, Total Loss is: 1.5795962810516357\n",
            "MSE Loss is: 0.004499694798141718, h Loss is: 1.5922003984451294, L1 loss: 3.935483694076538, Total Loss is: 1.5967000722885132\n",
            "New h_val is : tf.Tensor(0.6597948, shape=(), dtype=float32)\n",
            "Epoch: {} 8\n",
            "MSE Loss is: 0.005270643159747124, h Loss is: 2.4965357780456543, L1 loss: 3.9414520263671875, Total Loss is: 2.5018064975738525\n",
            "MSE Loss is: 0.004948333837091923, h Loss is: 2.523916482925415, L1 loss: 3.947721242904663, Total Loss is: 2.528864860534668\n",
            "MSE Loss is: 0.004364336840808392, h Loss is: 2.5528340339660645, L1 loss: 3.9542236328125, Total Loss is: 2.5571982860565186\n",
            "MSE Loss is: 0.0020041372627019882, h Loss is: 2.5828006267547607, L1 loss: 3.9608542919158936, Total Loss is: 2.5848047733306885\n",
            "MSE Loss is: 0.002371098380535841, h Loss is: 2.611738681793213, L1 loss: 3.9671471118927, Total Loss is: 2.614109754562378\n",
            "MSE Loss is: 0.017860136926174164, h Loss is: 2.637718677520752, L1 loss: 3.9726929664611816, Total Loss is: 2.655578851699829\n",
            "MSE Loss is: 0.016777925193309784, h Loss is: 2.658336877822876, L1 loss: 3.9768638610839844, Total Loss is: 2.675114870071411\n",
            "MSE Loss is: 0.017025183886289597, h Loss is: 2.6756341457366943, L1 loss: 3.9798429012298584, Total Loss is: 2.692659378051758\n",
            "MSE Loss is: 0.024824336171150208, h Loss is: 2.6906471252441406, L1 loss: 3.981755018234253, Total Loss is: 2.7154715061187744\n",
            "MSE Loss is: 0.037121064960956573, h Loss is: 2.7053093910217285, L1 loss: 3.9829623699188232, Total Loss is: 2.7424304485321045\n",
            "MSE Loss is: 0.0404493622481823, h Loss is: 2.7214179039001465, L1 loss: 3.9836509227752686, Total Loss is: 2.7618672847747803\n",
            "MSE Loss is: 0.013771448284387589, h Loss is: 2.7339863777160645, L1 loss: 3.9838943481445312, Total Loss is: 2.747757911682129\n",
            "MSE Loss is: 0.02011612430214882, h Loss is: 2.7469289302825928, L1 loss: 3.983985185623169, Total Loss is: 2.767045021057129\n",
            "MSE Loss is: 0.014241592958569527, h Loss is: 2.757544755935669, L1 loss: 3.983785390853882, Total Loss is: 2.7717864513397217\n",
            "MSE Loss is: 0.020178601145744324, h Loss is: 2.7695388793945312, L1 loss: 3.983640670776367, Total Loss is: 2.789717435836792\n",
            "MSE Loss is: 0.011481739580631256, h Loss is: 2.7774484157562256, L1 loss: 3.982780933380127, Total Loss is: 2.7889301776885986\n",
            "MSE Loss is: 0.034346241503953934, h Loss is: 2.78293514251709, L1 loss: 3.981849431991577, Total Loss is: 2.817281484603882\n",
            "MSE Loss is: 0.01741557940840721, h Loss is: 2.78664231300354, L1 loss: 3.9802987575531006, Total Loss is: 2.8040578365325928\n",
            "MSE Loss is: 0.013263516128063202, h Loss is: 2.789306163787842, L1 loss: 3.978114366531372, Total Loss is: 2.802569627761841\n",
            "MSE Loss is: 0.005426369141787291, h Loss is: 2.790526866912842, L1 loss: 3.975987672805786, Total Loss is: 2.7959532737731934\n",
            "MSE Loss is: 0.0022150352597236633, h Loss is: 2.7921838760375977, L1 loss: 3.9744033813476562, Total Loss is: 2.7943990230560303\n",
            "MSE Loss is: 0.0021573363337665796, h Loss is: 2.7940759658813477, L1 loss: 3.9732303619384766, Total Loss is: 2.7962334156036377\n",
            "MSE Loss is: 0.0020658555440604687, h Loss is: 2.7981934547424316, L1 loss: 3.972963809967041, Total Loss is: 2.8002593517303467\n",
            "MSE Loss is: 0.002786866622045636, h Loss is: 2.8053369522094727, L1 loss: 3.9736385345458984, Total Loss is: 2.808123826980591\n",
            "MSE Loss is: 0.0031867618672549725, h Loss is: 2.8159632682800293, L1 loss: 3.97528076171875, Total Loss is: 2.819149971008301\n",
            "MSE Loss is: 0.0034692413173615932, h Loss is: 2.829965114593506, L1 loss: 3.9777672290802, Total Loss is: 2.8334343433380127\n",
            "MSE Loss is: 0.003508902620524168, h Loss is: 2.846888542175293, L1 loss: 3.980937957763672, Total Loss is: 2.8503973484039307\n",
            "MSE Loss is: 0.003691744524985552, h Loss is: 2.866703510284424, L1 loss: 3.984752655029297, Total Loss is: 2.8703951835632324\n",
            "MSE Loss is: 0.003573633497580886, h Loss is: 2.8888471126556396, L1 loss: 3.9890410900115967, Total Loss is: 2.892420768737793\n",
            "MSE Loss is: 0.00355978193692863, h Loss is: 2.913381576538086, L1 loss: 3.9938251972198486, Total Loss is: 2.9169414043426514\n",
            "New h_val is : tf.Tensor(0.7575555, shape=(), dtype=float32)\n",
            "Epoch: {} 9\n",
            "MSE Loss is: 0.004291367717087269, h Loss is: 4.224714756011963, L1 loss: 3.9987130165100098, Total Loss is: 4.229006290435791\n",
            "MSE Loss is: 0.004037582315504551, h Loss is: 4.262609958648682, L1 loss: 4.003940105438232, Total Loss is: 4.2666473388671875\n",
            "MSE Loss is: 0.003545659827068448, h Loss is: 4.303005695343018, L1 loss: 4.0094404220581055, Total Loss is: 4.306551456451416\n",
            "MSE Loss is: 0.0015748611185699701, h Loss is: 4.345117568969727, L1 loss: 4.015103816986084, Total Loss is: 4.3466925621032715\n",
            "MSE Loss is: 0.002270943019539118, h Loss is: 4.3855462074279785, L1 loss: 4.020450592041016, Total Loss is: 4.3878173828125\n",
            "MSE Loss is: 0.01758633181452751, h Loss is: 4.421168327331543, L1 loss: 4.025052547454834, Total Loss is: 4.438754558563232\n",
            "MSE Loss is: 0.0167895145714283, h Loss is: 4.44808292388916, L1 loss: 4.028263092041016, Total Loss is: 4.464872360229492\n",
            "MSE Loss is: 0.016963252797722816, h Loss is: 4.469967365264893, L1 loss: 4.030421733856201, Total Loss is: 4.486930847167969\n",
            "MSE Loss is: 0.02382471039891243, h Loss is: 4.488655090332031, L1 loss: 4.031453609466553, Total Loss is: 4.512479782104492\n",
            "MSE Loss is: 0.034966789186000824, h Loss is: 4.507688999176025, L1 loss: 4.031822204589844, Total Loss is: 4.542655944824219\n",
            "MSE Loss is: 0.03827057033777237, h Loss is: 4.529841423034668, L1 loss: 4.0316619873046875, Total Loss is: 4.568111896514893\n",
            "MSE Loss is: 0.012742755934596062, h Loss is: 4.545117378234863, L1 loss: 4.030917644500732, Total Loss is: 4.557859897613525\n",
            "MSE Loss is: 0.019019626080989838, h Loss is: 4.560029983520508, L1 loss: 4.029977321624756, Total Loss is: 4.579049587249756\n",
            "MSE Loss is: 0.013122938573360443, h Loss is: 4.571374416351318, L1 loss: 4.028850078582764, Total Loss is: 4.584497451782227\n",
            "MSE Loss is: 0.019159574061632156, h Loss is: 4.584606170654297, L1 loss: 4.0276994705200195, Total Loss is: 4.603765964508057\n",
            "MSE Loss is: 0.010942185297608376, h Loss is: 4.590649604797363, L1 loss: 4.0258612632751465, Total Loss is: 4.60159158706665\n",
            "MSE Loss is: 0.03268972784280777, h Loss is: 4.592909812927246, L1 loss: 4.024045467376709, Total Loss is: 4.625599384307861\n",
            "MSE Loss is: 0.016755063086748123, h Loss is: 4.592636585235596, L1 loss: 4.021480083465576, Total Loss is: 4.609391689300537\n",
            "MSE Loss is: 0.012559989467263222, h Loss is: 4.590997219085693, L1 loss: 4.01820707321167, Total Loss is: 4.603557109832764\n",
            "MSE Loss is: 0.005131298676133156, h Loss is: 4.587644577026367, L1 loss: 4.015025615692139, Total Loss is: 4.592775821685791\n",
            "MSE Loss is: 0.002187525387853384, h Loss is: 4.585381984710693, L1 loss: 4.01243257522583, Total Loss is: 4.587569713592529\n",
            "MSE Loss is: 0.0019095009192824364, h Loss is: 4.583451747894287, L1 loss: 4.010214328765869, Total Loss is: 4.585361480712891\n",
            "MSE Loss is: 0.0017226201016455889, h Loss is: 4.584994316101074, L1 loss: 4.008915901184082, Total Loss is: 4.586717128753662\n",
            "MSE Loss is: 0.0023640620056539774, h Loss is: 4.59131383895874, L1 loss: 4.008588790893555, Total Loss is: 4.593677997589111\n",
            "MSE Loss is: 0.0027172518894076347, h Loss is: 4.603133201599121, L1 loss: 4.009256362915039, Total Loss is: 4.6058502197265625\n",
            "MSE Loss is: 0.002980488585308194, h Loss is: 4.620250225067139, L1 loss: 4.010813236236572, Total Loss is: 4.623230934143066\n",
            "MSE Loss is: 0.0030215077567845583, h Loss is: 4.6419196128845215, L1 loss: 4.013120174407959, Total Loss is: 4.644941329956055\n",
            "MSE Loss is: 0.0032016802579164505, h Loss is: 4.668093681335449, L1 loss: 4.016117095947266, Total Loss is: 4.671295166015625\n",
            "MSE Loss is: 0.003101918613538146, h Loss is: 4.697860240936279, L1 loss: 4.019668102264404, Total Loss is: 4.700962066650391\n",
            "MSE Loss is: 0.003101514419540763, h Loss is: 4.731343746185303, L1 loss: 4.023758888244629, Total Loss is: 4.734445095062256\n",
            "New h_val is : tf.Tensor(0.8411069, shape=(), dtype=float32)\n",
            "Epoch: {} 10\n",
            "MSE Loss is: 0.003787650726735592, h Loss is: 6.5099616050720215, L1 loss: 4.028031826019287, Total Loss is: 6.513749122619629\n",
            "MSE Loss is: 0.0035658911801874638, h Loss is: 6.560441493988037, L1 loss: 4.032713413238525, Total Loss is: 6.56400728225708\n",
            "MSE Loss is: 0.003121481044217944, h Loss is: 6.614654541015625, L1 loss: 4.037728786468506, Total Loss is: 6.617775917053223\n",
            "MSE Loss is: 0.0013623596169054508, h Loss is: 6.671456336975098, L1 loss: 4.04296875, Total Loss is: 6.672818660736084\n",
            "MSE Loss is: 0.0022365038748830557, h Loss is: 6.725678443908691, L1 loss: 4.047919750213623, Total Loss is: 6.727914810180664\n",
            "MSE Loss is: 0.017320608720183372, h Loss is: 6.77260684967041, L1 loss: 4.0521345138549805, Total Loss is: 6.7899274826049805\n",
            "MSE Loss is: 0.01657455787062645, h Loss is: 6.806373596191406, L1 loss: 4.054885387420654, Total Loss is: 6.822947978973389\n",
            "MSE Loss is: 0.016637617722153664, h Loss is: 6.832870006561279, L1 loss: 4.056284427642822, Total Loss is: 6.849507808685303\n",
            "MSE Loss is: 0.02271578460931778, h Loss is: 6.855003356933594, L1 loss: 4.056504726409912, Total Loss is: 6.877718925476074\n",
            "MSE Loss is: 0.03280692175030708, h Loss is: 6.878701210021973, L1 loss: 4.056056976318359, Total Loss is: 6.911508083343506\n",
            "MSE Loss is: 0.03588603809475899, h Loss is: 6.90818977355957, L1 loss: 4.055095195770264, Total Loss is: 6.944075584411621\n",
            "MSE Loss is: 0.011846492066979408, h Loss is: 6.926573753356934, L1 loss: 4.053501129150391, Total Loss is: 6.938420295715332\n",
            "MSE Loss is: 0.017712146043777466, h Loss is: 6.9435715675354, L1 loss: 4.051721572875977, Total Loss is: 6.9612836837768555\n",
            "MSE Loss is: 0.01221075002104044, h Loss is: 6.955538749694824, L1 loss: 4.049792766571045, Total Loss is: 6.96774959564209\n",
            "MSE Loss is: 0.017926130443811417, h Loss is: 6.96986198425293, L1 loss: 4.047842025756836, Total Loss is: 6.987788200378418\n",
            "MSE Loss is: 0.010314872488379478, h Loss is: 6.972779750823975, L1 loss: 4.045175075531006, Total Loss is: 6.983094692230225\n",
            "MSE Loss is: 0.030852757394313812, h Loss is: 6.9700517654418945, L1 loss: 4.04257345199585, Total Loss is: 7.000904560089111\n",
            "MSE Loss is: 0.015909507870674133, h Loss is: 6.963815689086914, L1 loss: 4.03915548324585, Total Loss is: 6.979725360870361\n",
            "MSE Loss is: 0.011754999868571758, h Loss is: 6.955745697021484, L1 loss: 4.035006999969482, Total Loss is: 6.967500686645508\n",
            "MSE Loss is: 0.0048543238081038, h Loss is: 6.945790767669678, L1 loss: 4.0309953689575195, Total Loss is: 6.9506449699401855\n",
            "MSE Loss is: 0.002151594962924719, h Loss is: 6.937906265258789, L1 loss: 4.027629375457764, Total Loss is: 6.940057754516602\n",
            "MSE Loss is: 0.001810767105780542, h Loss is: 6.930668354034424, L1 loss: 4.02468204498291, Total Loss is: 6.932478904724121\n",
            "MSE Loss is: 0.0015998976305127144, h Loss is: 6.928796291351318, L1 loss: 4.0227251052856445, Total Loss is: 6.93039608001709\n",
            "MSE Loss is: 0.0022028516978025436, h Loss is: 6.934304237365723, L1 loss: 4.021821022033691, Total Loss is: 6.936507225036621\n",
            "MSE Loss is: 0.0025176131166517735, h Loss is: 6.948267459869385, L1 loss: 4.021994113922119, Total Loss is: 6.950785160064697\n",
            "MSE Loss is: 0.0027495361864566803, h Loss is: 6.970330715179443, L1 loss: 4.023129463195801, Total Loss is: 6.973080158233643\n",
            "MSE Loss is: 0.002793485764414072, h Loss is: 6.999337673187256, L1 loss: 4.025074481964111, Total Loss is: 7.00213098526001\n",
            "MSE Loss is: 0.002951115369796753, h Loss is: 7.035193920135498, L1 loss: 4.027766704559326, Total Loss is: 7.038145065307617\n",
            "MSE Loss is: 0.0028681703843176365, h Loss is: 7.076488494873047, L1 loss: 4.031055450439453, Total Loss is: 7.079356670379639\n",
            "MSE Loss is: 0.0028554964810609818, h Loss is: 7.123382091522217, L1 loss: 4.034927845001221, Total Loss is: 7.126237392425537\n",
            "New h_val is : tf.Tensor(0.9161806, shape=(), dtype=float32)\n",
            "Epoch: {} 11\n",
            "MSE Loss is: 0.0035089747980237007, h Loss is: 9.448204040527344, L1 loss: 4.039010524749756, Total Loss is: 9.451712608337402\n",
            "MSE Loss is: 0.003302569268271327, h Loss is: 9.5175199508667, L1 loss: 4.0435309410095215, Total Loss is: 9.520822525024414\n",
            "MSE Loss is: 0.0028805250767618418, h Loss is: 9.59224796295166, L1 loss: 4.0484137535095215, Total Loss is: 9.595128059387207\n",
            "MSE Loss is: 0.001234277617186308, h Loss is: 9.670692443847656, L1 loss: 4.053539752960205, Total Loss is: 9.671926498413086\n",
            "MSE Loss is: 0.002189788268879056, h Loss is: 9.745367050170898, L1 loss: 4.058370113372803, Total Loss is: 9.747556686401367\n",
            "MSE Loss is: 0.016924120485782623, h Loss is: 9.809379577636719, L1 loss: 4.062431812286377, Total Loss is: 9.826303482055664\n",
            "MSE Loss is: 0.016162609681487083, h Loss is: 9.85421085357666, L1 loss: 4.064920902252197, Total Loss is: 9.870373725891113\n",
            "MSE Loss is: 0.01611507311463356, h Loss is: 9.888603210449219, L1 loss: 4.065959930419922, Total Loss is: 9.904718399047852\n",
            "MSE Loss is: 0.021501846611499786, h Loss is: 9.916936874389648, L1 loss: 4.065737724304199, Total Loss is: 9.938438415527344\n",
            "MSE Loss is: 0.03061603382229805, h Loss is: 9.948341369628906, L1 loss: 4.064805507659912, Total Loss is: 9.978957176208496\n",
            "MSE Loss is: 0.03341890126466751, h Loss is: 9.989179611206055, L1 loss: 4.063337326049805, Total Loss is: 10.022598266601562\n",
            "MSE Loss is: 0.010986782610416412, h Loss is: 10.013248443603516, L1 loss: 4.061183929443359, Total Loss is: 10.024234771728516\n",
            "MSE Loss is: 0.016308562830090523, h Loss is: 10.03430461883545, L1 loss: 4.058847904205322, Total Loss is: 10.050613403320312\n",
            "MSE Loss is: 0.011392593383789062, h Loss is: 10.048479080200195, L1 loss: 4.056376934051514, Total Loss is: 10.059871673583984\n",
            "MSE Loss is: 0.016572151333093643, h Loss is: 10.065215110778809, L1 loss: 4.053870677947998, Total Loss is: 10.081787109375\n",
            "MSE Loss is: 0.009626517072319984, h Loss is: 10.064826011657715, L1 loss: 4.050612926483154, Total Loss is: 10.07445240020752\n",
            "MSE Loss is: 0.028914686292409897, h Loss is: 10.05626392364502, L1 loss: 4.047447681427002, Total Loss is: 10.08517837524414\n",
            "MSE Loss is: 0.014978013932704926, h Loss is: 10.042675971984863, L1 loss: 4.043380260467529, Total Loss is: 10.05765438079834\n",
            "MSE Loss is: 0.010897258296608925, h Loss is: 10.026500701904297, L1 loss: 4.038550853729248, Total Loss is: 10.037398338317871\n",
            "MSE Loss is: 0.004571160301566124, h Loss is: 10.008275032043457, L1 loss: 4.033886909484863, Total Loss is: 10.012845993041992\n",
            "MSE Loss is: 0.002079412806779146, h Loss is: 9.993353843688965, L1 loss: 4.029914379119873, Total Loss is: 9.99543285369873\n",
            "MSE Loss is: 0.0017515679355710745, h Loss is: 9.979532241821289, L1 loss: 4.02640438079834, Total Loss is: 9.981284141540527\n",
            "MSE Loss is: 0.0015499212313443422, h Loss is: 9.973609924316406, L1 loss: 4.023959636688232, Total Loss is: 9.975159645080566\n",
            "MSE Loss is: 0.0021316283382475376, h Loss is: 9.978585243225098, L1 loss: 4.022652626037598, Total Loss is: 9.980716705322266\n",
            "MSE Loss is: 0.002421266632154584, h Loss is: 9.995980262756348, L1 loss: 4.022510051727295, Total Loss is: 9.998401641845703\n",
            "MSE Loss is: 0.002629735739901662, h Loss is: 10.025264739990234, L1 loss: 4.023404598236084, Total Loss is: 10.027894020080566\n",
            "MSE Loss is: 0.0026728971861302853, h Loss is: 10.064715385437012, L1 loss: 4.025173187255859, Total Loss is: 10.067388534545898\n",
            "MSE Loss is: 0.002814048435539007, h Loss is: 10.114150047302246, L1 loss: 4.027748107910156, Total Loss is: 10.116964340209961\n",
            "MSE Loss is: 0.002739589661359787, h Loss is: 10.171493530273438, L1 loss: 4.030965328216553, Total Loss is: 10.174233436584473\n",
            "MSE Loss is: 0.0027165880892425776, h Loss is: 10.236974716186523, L1 loss: 4.034809112548828, Total Loss is: 10.239691734313965\n",
            "New h_val is : tf.Tensor(0.9900737, shape=(), dtype=float32)\n",
            "Epoch: {} 12\n",
            "MSE Loss is: 0.003341678762808442, h Loss is: 13.228994369506836, L1 loss: 4.038887977600098, Total Loss is: 13.232336044311523\n",
            "MSE Loss is: 0.003143640933558345, h Loss is: 13.32413101196289, L1 loss: 4.0434346199035645, Total Loss is: 13.327274322509766\n",
            "MSE Loss is: 0.002733638510107994, h Loss is: 13.426864624023438, L1 loss: 4.048368453979492, Total Loss is: 13.429597854614258\n",
            "MSE Loss is: 0.001149818766862154, h Loss is: 13.534821510314941, L1 loss: 4.053564548492432, Total Loss is: 13.535971641540527\n",
            "MSE Loss is: 0.0021340791136026382, h Loss is: 13.637361526489258, L1 loss: 4.058454990386963, Total Loss is: 13.639495849609375\n",
            "MSE Loss is: 0.016434811055660248, h Loss is: 13.724771499633789, L1 loss: 4.062537670135498, Total Loss is: 13.741206169128418\n",
            "MSE Loss is: 0.015583461150527, h Loss is: 13.785126686096191, L1 loss: 4.064939975738525, Total Loss is: 13.80070972442627\n",
            "MSE Loss is: 0.015416969545185566, h Loss is: 13.830852508544922, L1 loss: 4.065793037414551, Total Loss is: 13.846269607543945\n",
            "MSE Loss is: 0.020160432904958725, h Loss is: 13.868249893188477, L1 loss: 4.06530237197876, Total Loss is: 13.888410568237305\n",
            "MSE Loss is: 0.028352634981274605, h Loss is: 13.91073989868164, L1 loss: 4.064056396484375, Total Loss is: 13.939092636108398\n",
            "MSE Loss is: 0.030984172597527504, h Loss is: 13.967363357543945, L1 loss: 4.062240123748779, Total Loss is: 13.998347282409668\n",
            "MSE Loss is: 0.010150829330086708, h Loss is: 13.998984336853027, L1 loss: 4.059670925140381, Total Loss is: 14.009135246276855\n",
            "MSE Loss is: 0.014901503920555115, h Loss is: 14.024825096130371, L1 loss: 4.056909561157227, Total Loss is: 14.039726257324219\n",
            "MSE Loss is: 0.01061225961893797, h Loss is: 14.041311264038086, L1 loss: 4.054017066955566, Total Loss is: 14.051923751831055\n",
            "MSE Loss is: 0.015194063074886799, h Loss is: 14.060179710388184, L1 loss: 4.051063060760498, Total Loss is: 14.075373649597168\n",
            "MSE Loss is: 0.008921591565012932, h Loss is: 14.054170608520508, L1 loss: 4.04732084274292, Total Loss is: 14.063092231750488\n",
            "MSE Loss is: 0.026944663375616074, h Loss is: 14.036684036254883, L1 loss: 4.043690204620361, Total Loss is: 14.063629150390625\n",
            "MSE Loss is: 0.01402298640459776, h Loss is: 14.012120246887207, L1 loss: 4.039065837860107, Total Loss is: 14.026143074035645\n",
            "MSE Loss is: 0.010023150593042374, h Loss is: 13.98393726348877, L1 loss: 4.033640384674072, Total Loss is: 13.9939603805542\n",
            "MSE Loss is: 0.00428392831236124, h Loss is: 13.953750610351562, L1 loss: 4.0284013748168945, Total Loss is: 13.95803451538086\n",
            "MSE Loss is: 0.001992089208215475, h Loss is: 13.92853832244873, L1 loss: 4.0238847732543945, Total Loss is: 13.930530548095703\n",
            "MSE Loss is: 0.0017002298263832927, h Loss is: 13.905132293701172, L1 loss: 4.019872188568115, Total Loss is: 13.906832695007324\n",
            "MSE Loss is: 0.001520619262009859, h Loss is: 13.893095016479492, L1 loss: 4.01699686050415, Total Loss is: 13.894615173339844\n",
            "MSE Loss is: 0.0020880657248198986, h Loss is: 13.896690368652344, L1 loss: 4.015347957611084, Total Loss is: 13.898777961730957\n",
            "MSE Loss is: 0.0023581916466355324, h Loss is: 13.918074607849121, L1 loss: 4.014949798583984, Total Loss is: 13.920433044433594\n",
            "MSE Loss is: 0.0025463011115789413, h Loss is: 13.956453323364258, L1 loss: 4.015667915344238, Total Loss is: 13.958999633789062\n",
            "MSE Loss is: 0.0025882781483232975, h Loss is: 14.009295463562012, L1 loss: 4.017326354980469, Total Loss is: 14.011883735656738\n",
            "MSE Loss is: 0.0027148998342454433, h Loss is: 14.076346397399902, L1 loss: 4.019850730895996, Total Loss is: 14.079061508178711\n",
            "MSE Loss is: 0.002646882552653551, h Loss is: 14.154596328735352, L1 loss: 4.023064613342285, Total Loss is: 14.157242774963379\n",
            "MSE Loss is: 0.002613938180729747, h Loss is: 14.244330406188965, L1 loss: 4.026950359344482, Total Loss is: 14.246944427490234\n",
            "New h_val is : tf.Tensor(1.0645957, shape=(), dtype=float32)\n",
            "Epoch: {} 13\n",
            "MSE Loss is: 0.003213712479919195, h Loss is: 18.056537628173828, L1 loss: 4.031093597412109, Total Loss is: 18.059751510620117\n",
            "MSE Loss is: 0.0030218835454434156, h Loss is: 18.185283660888672, L1 loss: 4.035736083984375, Total Loss is: 18.188304901123047\n",
            "MSE Loss is: 0.002620323561131954, h Loss is: 18.324508666992188, L1 loss: 4.040791988372803, Total Loss is: 18.327129364013672\n",
            "MSE Loss is: 0.0010808699298650026, h Loss is: 18.47089195251465, L1 loss: 4.046128749847412, Total Loss is: 18.471973419189453\n",
            "MSE Loss is: 0.0020745117217302322, h Loss is: 18.609697341918945, L1 loss: 4.0511474609375, Total Loss is: 18.611772537231445\n",
            "MSE Loss is: 0.015911463648080826, h Loss is: 18.727510452270508, L1 loss: 4.055316925048828, Total Loss is: 18.74342155456543\n",
            "MSE Loss is: 0.01495435182005167, h Loss is: 18.80796241760254, L1 loss: 4.0576934814453125, Total Loss is: 18.82291603088379\n",
            "MSE Loss is: 0.014667138457298279, h Loss is: 18.868343353271484, L1 loss: 4.058416843414307, Total Loss is: 18.883010864257812\n",
            "MSE Loss is: 0.018800964578986168, h Loss is: 18.917530059814453, L1 loss: 4.057709217071533, Total Loss is: 18.936330795288086\n",
            "MSE Loss is: 0.026112310588359833, h Loss is: 18.974441528320312, L1 loss: 4.056195259094238, Total Loss is: 19.000553131103516\n",
            "MSE Loss is: 0.02858729287981987, h Loss is: 19.05168342590332, L1 loss: 4.054070949554443, Total Loss is: 19.080270767211914\n",
            "MSE Loss is: 0.009341256693005562, h Loss is: 19.092592239379883, L1 loss: 4.051128387451172, Total Loss is: 19.1019344329834\n",
            "MSE Loss is: 0.013511303812265396, h Loss is: 19.123579025268555, L1 loss: 4.0479841232299805, Total Loss is: 19.1370906829834\n",
            "MSE Loss is: 0.009872570633888245, h Loss is: 19.142093658447266, L1 loss: 4.044710636138916, Total Loss is: 19.151966094970703\n",
            "MSE Loss is: 0.013818907551467419, h Loss is: 19.162145614624023, L1 loss: 4.041345119476318, Total Loss is: 19.17596435546875\n",
            "MSE Loss is: 0.0082187969237566, h Loss is: 19.147117614746094, L1 loss: 4.037158966064453, Total Loss is: 19.155336380004883\n",
            "MSE Loss is: 0.024981047958135605, h Loss is: 19.11636734008789, L1 loss: 4.033102512359619, Total Loss is: 19.141347885131836\n",
            "MSE Loss is: 0.013068748638033867, h Loss is: 19.07563018798828, L1 loss: 4.027957916259766, Total Loss is: 19.088699340820312\n",
            "MSE Loss is: 0.009157372638583183, h Loss is: 19.029903411865234, L1 loss: 4.022055149078369, Total Loss is: 19.039060592651367\n",
            "MSE Loss is: 0.003998636268079281, h Loss is: 18.98250389099121, L1 loss: 4.016989707946777, Total Loss is: 18.986501693725586\n",
            "MSE Loss is: 0.0018988335505127907, h Loss is: 18.94239616394043, L1 loss: 4.013015270233154, Total Loss is: 18.94429588317871\n",
            "MSE Loss is: 0.0016560073709115386, h Loss is: 18.905275344848633, L1 loss: 4.009608745574951, Total Loss is: 18.906930923461914\n",
            "MSE Loss is: 0.0015073431422933936, h Loss is: 18.88425636291504, L1 loss: 4.007331848144531, Total Loss is: 18.88576316833496\n",
            "MSE Loss is: 0.0020658974535763264, h Loss is: 18.885347366333008, L1 loss: 4.006199836730957, Total Loss is: 18.887413024902344\n",
            "MSE Loss is: 0.002319326624274254, h Loss is: 18.91148567199707, L1 loss: 4.006215572357178, Total Loss is: 18.91380500793457\n",
            "MSE Loss is: 0.002487720223143697, h Loss is: 18.96148109436035, L1 loss: 4.0072245597839355, Total Loss is: 18.96396827697754\n",
            "MSE Loss is: 0.0025294616352766752, h Loss is: 19.031723022460938, L1 loss: 4.009047508239746, Total Loss is: 19.034252166748047\n",
            "MSE Loss is: 0.0026413481682538986, h Loss is: 19.121801376342773, L1 loss: 4.01161527633667, Total Loss is: 19.12444305419922\n",
            "MSE Loss is: 0.002579696476459503, h Loss is: 19.22751235961914, L1 loss: 4.0147528648376465, Total Loss is: 19.230093002319336\n",
            "MSE Loss is: 0.0025360046420246363, h Loss is: 19.349172592163086, L1 loss: 4.018458843231201, Total Loss is: 19.351709365844727\n",
            "New h_val is : tf.Tensor(1.1403084, shape=(), dtype=float32)\n",
            "Epoch: {} 14\n",
            "MSE Loss is: 0.003113298211246729, h Loss is: 24.169212341308594, L1 loss: 4.022349834442139, Total Loss is: 24.172325134277344\n",
            "MSE Loss is: 0.0029264262411743402, h Loss is: 24.342002868652344, L1 loss: 4.026623249053955, Total Loss is: 24.344928741455078\n",
            "MSE Loss is: 0.002530954545363784, h Loss is: 24.528976440429688, L1 loss: 4.03120756149292, Total Loss is: 24.53150749206543\n",
            "MSE Loss is: 0.0010227805469185114, h Loss is: 24.72564125061035, L1 loss: 4.035991668701172, Total Loss is: 24.72666358947754\n",
            "MSE Loss is: 0.002010077703744173, h Loss is: 24.91193389892578, L1 loss: 4.040441036224365, Total Loss is: 24.913944244384766\n",
            "MSE Loss is: 0.015347447246313095, h Loss is: 25.069580078125, L1 loss: 4.0441131591796875, Total Loss is: 25.08492660522461\n",
            "MSE Loss is: 0.014267201535403728, h Loss is: 25.176498413085938, L1 loss: 4.046222686767578, Total Loss is: 25.190765380859375\n",
            "MSE Loss is: 0.013857545331120491, h Loss is: 25.256359100341797, L1 loss: 4.047083377838135, Total Loss is: 25.27021598815918\n",
            "MSE Loss is: 0.017411716282367706, h Loss is: 25.3214168548584, L1 loss: 4.046907901763916, Total Loss is: 25.338829040527344\n",
            "MSE Loss is: 0.023886822164058685, h Loss is: 25.397485733032227, L1 loss: 4.04632568359375, Total Loss is: 25.42137336730957\n",
            "MSE Loss is: 0.02626625820994377, h Loss is: 25.50177574157715, L1 loss: 4.045409679412842, Total Loss is: 25.52804183959961\n",
            "MSE Loss is: 0.00856357254087925, h Loss is: 25.553884506225586, L1 loss: 4.043558597564697, Total Loss is: 25.562448501586914\n",
            "MSE Loss is: 0.012164270505309105, h Loss is: 25.58979034423828, L1 loss: 4.041415691375732, Total Loss is: 25.60195541381836\n",
            "MSE Loss is: 0.009166935458779335, h Loss is: 25.60919761657715, L1 loss: 4.039100170135498, Total Loss is: 25.618364334106445\n",
            "MSE Loss is: 0.012471549212932587, h Loss is: 25.628326416015625, L1 loss: 4.0365681648254395, Total Loss is: 25.640798568725586\n",
            "MSE Loss is: 0.007528070360422134, h Loss is: 25.599031448364258, L1 loss: 4.0330963134765625, Total Loss is: 25.60655975341797\n",
            "MSE Loss is: 0.023041244596242905, h Loss is: 25.54874610900879, L1 loss: 4.0296831130981445, Total Loss is: 25.571786880493164\n",
            "MSE Loss is: 0.012128390371799469, h Loss is: 25.4844970703125, L1 loss: 4.02512264251709, Total Loss is: 25.496625900268555\n",
            "MSE Loss is: 0.008312547579407692, h Loss is: 25.413484573364258, L1 loss: 4.019720077514648, Total Loss is: 25.421796798706055\n",
            "MSE Loss is: 0.0037185896653681993, h Loss is: 25.341588973999023, L1 loss: 4.014527320861816, Total Loss is: 25.345308303833008\n",
            "MSE Loss is: 0.0018019077833741903, h Loss is: 25.280075073242188, L1 loss: 4.01007080078125, Total Loss is: 25.281877517700195\n",
            "MSE Loss is: 0.0016107822302728891, h Loss is: 25.223318099975586, L1 loss: 4.0062255859375, Total Loss is: 25.224929809570312\n",
            "MSE Loss is: 0.0014960233820602298, h Loss is: 25.188993453979492, L1 loss: 4.003582000732422, Total Loss is: 25.190488815307617\n",
            "MSE Loss is: 0.002047931309789419, h Loss is: 25.1854248046875, L1 loss: 4.00217342376709, Total Loss is: 25.18747329711914\n",
            "MSE Loss is: 0.002287690993398428, h Loss is: 25.21657943725586, L1 loss: 4.002004146575928, Total Loss is: 25.2188663482666\n",
            "MSE Loss is: 0.002438870957121253, h Loss is: 25.28065299987793, L1 loss: 4.0029096603393555, Total Loss is: 25.283092498779297\n",
            "MSE Loss is: 0.0024806892033666372, h Loss is: 25.37264060974121, L1 loss: 4.004698753356934, Total Loss is: 25.3751220703125\n",
            "MSE Loss is: 0.0025798475835472345, h Loss is: 25.491939544677734, L1 loss: 4.00729513168335, Total Loss is: 25.49452018737793\n",
            "MSE Loss is: 0.0025239698588848114, h Loss is: 25.632631301879883, L1 loss: 4.010512828826904, Total Loss is: 25.635154724121094\n",
            "MSE Loss is: 0.0024708302225917578, h Loss is: 25.79518699645996, L1 loss: 4.014344215393066, Total Loss is: 25.797657012939453\n",
            "New h_val is : tf.Tensor(1.2173963, shape=(), dtype=float32)\n",
            "Epoch: {} 15\n",
            "MSE Loss is: 0.0030274211894720793, h Loss is: 31.84900665283203, L1 loss: 4.018383979797363, Total Loss is: 31.852033615112305\n",
            "MSE Loss is: 0.0028451276011765003, h Loss is: 32.078121185302734, L1 loss: 4.022838592529297, Total Loss is: 32.08096694946289\n",
            "MSE Loss is: 0.0024547982029616833, h Loss is: 32.32628631591797, L1 loss: 4.027631759643555, Total Loss is: 32.32874298095703\n",
            "MSE Loss is: 0.0009711199090816081, h Loss is: 32.587379455566406, L1 loss: 4.032644748687744, Total Loss is: 32.58835220336914\n",
            "MSE Loss is: 0.0019429929088801146, h Loss is: 32.834495544433594, L1 loss: 4.037311553955078, Total Loss is: 32.8364372253418\n",
            "MSE Loss is: 0.01475599780678749, h Loss is: 33.043148040771484, L1 loss: 4.041162967681885, Total Loss is: 33.05790328979492\n",
            "MSE Loss is: 0.013544835150241852, h Loss is: 33.18385696411133, L1 loss: 4.043349742889404, Total Loss is: 33.19740295410156\n",
            "MSE Loss is: 0.013012247160077095, h Loss is: 33.2887077331543, L1 loss: 4.044198036193848, Total Loss is: 33.301719665527344\n",
            "MSE Loss is: 0.016016699373722076, h Loss is: 33.374263763427734, L1 loss: 4.0439348220825195, Total Loss is: 33.390281677246094\n",
            "MSE Loss is: 0.021700620651245117, h Loss is: 33.47520065307617, L1 loss: 4.043214797973633, Total Loss is: 33.49690246582031\n",
            "MSE Loss is: 0.02403940260410309, h Loss is: 33.61393356323242, L1 loss: 4.042115211486816, Total Loss is: 33.63797378540039\n",
            "MSE Loss is: 0.007823746651411057, h Loss is: 33.67877197265625, L1 loss: 4.039999008178711, Total Loss is: 33.68659591674805\n",
            "MSE Loss is: 0.010877201333642006, h Loss is: 33.718238830566406, L1 loss: 4.037566184997559, Total Loss is: 33.7291145324707\n",
            "MSE Loss is: 0.008496083319187164, h Loss is: 33.736114501953125, L1 loss: 4.034951686859131, Total Loss is: 33.74460983276367\n",
            "MSE Loss is: 0.01117053534835577, h Loss is: 33.750396728515625, L1 loss: 4.032076358795166, Total Loss is: 33.761566162109375\n",
            "MSE Loss is: 0.006860709749162197, h Loss is: 33.699283599853516, L1 loss: 4.028238773345947, Total Loss is: 33.70614242553711\n",
            "MSE Loss is: 0.021145936101675034, h Loss is: 33.62069320678711, L1 loss: 4.024472713470459, Total Loss is: 33.64183807373047\n",
            "MSE Loss is: 0.011211861856281757, h Loss is: 33.52280807495117, L1 loss: 4.019476413726807, Total Loss is: 33.534019470214844\n",
            "MSE Loss is: 0.007500790059566498, h Loss is: 33.415958404541016, L1 loss: 4.013596534729004, Total Loss is: 33.423458099365234\n",
            "MSE Loss is: 0.0034481941256672144, h Loss is: 33.30971908569336, L1 loss: 4.007926940917969, Total Loss is: 33.313167572021484\n",
            "MSE Loss is: 0.0017059860983863473, h Loss is: 33.217918395996094, L1 loss: 4.003427028656006, Total Loss is: 33.21962356567383\n",
            "MSE Loss is: 0.0015648556873202324, h Loss is: 33.13343811035156, L1 loss: 3.999558210372925, Total Loss is: 33.13500213623047\n",
            "MSE Loss is: 0.00148507091216743, h Loss is: 33.07984924316406, L1 loss: 3.9968717098236084, Total Loss is: 33.08133316040039\n",
            "MSE Loss is: 0.0020318948663771152, h Loss is: 33.068458557128906, L1 loss: 3.995426654815674, Total Loss is: 33.070491790771484\n",
            "MSE Loss is: 0.0022596227936446667, h Loss is: 33.10460662841797, L1 loss: 3.995239019393921, Total Loss is: 33.10686492919922\n",
            "MSE Loss is: 0.002394731156527996, h Loss is: 33.18567657470703, L1 loss: 3.9961438179016113, Total Loss is: 33.188072204589844\n",
            "MSE Loss is: 0.0024374218191951513, h Loss is: 33.30474090576172, L1 loss: 3.9979424476623535, Total Loss is: 33.30717849731445\n",
            "MSE Loss is: 0.0025245598517358303, h Loss is: 33.46092987060547, L1 loss: 4.000564098358154, Total Loss is: 33.46345520019531\n",
            "MSE Loss is: 0.002474723383784294, h Loss is: 33.646087646484375, L1 loss: 4.003812313079834, Total Loss is: 33.648563385009766\n",
            "MSE Loss is: 0.0024125920608639717, h Loss is: 33.86078643798828, L1 loss: 4.007684230804443, Total Loss is: 33.863197326660156\n",
            "New h_val is : tf.Tensor(1.295538, shape=(), dtype=float32)\n",
            "Epoch: {} 16\n",
            "MSE Loss is: 0.002950238296762109, h Loss is: 41.41535949707031, L1 loss: 4.0117621421813965, Total Loss is: 41.41830825805664\n",
            "MSE Loss is: 0.0027724429965019226, h Loss is: 41.71624755859375, L1 loss: 4.016262054443359, Total Loss is: 41.71902084350586\n",
            "MSE Loss is: 0.002386776963248849, h Loss is: 42.04243469238281, L1 loss: 4.02110481262207, Total Loss is: 42.044822692871094\n",
            "MSE Loss is: 0.0009236813639290631, h Loss is: 42.385780334472656, L1 loss: 4.0261688232421875, Total Loss is: 42.38670349121094\n",
            "MSE Loss is: 0.0018746191635727882, h Loss is: 42.71051788330078, L1 loss: 4.030885219573975, Total Loss is: 42.7123908996582\n",
            "MSE Loss is: 0.014148080721497536, h Loss is: 42.98424530029297, L1 loss: 4.034775733947754, Total Loss is: 42.99839401245117\n",
            "MSE Loss is: 0.012805430218577385, h Loss is: 43.16796112060547, L1 loss: 4.036962509155273, Total Loss is: 43.18076705932617\n",
            "MSE Loss is: 0.012150956317782402, h Loss is: 43.30477523803711, L1 loss: 4.037806987762451, Total Loss is: 43.316925048828125\n",
            "MSE Loss is: 0.014640932902693748, h Loss is: 43.41681671142578, L1 loss: 4.037576198577881, Total Loss is: 43.43145751953125\n",
            "MSE Loss is: 0.01958128623664379, h Loss is: 43.54951477050781, L1 loss: 4.037059783935547, Total Loss is: 43.569095611572266\n",
            "MSE Loss is: 0.021920233964920044, h Loss is: 43.731788635253906, L1 loss: 4.036279201507568, Total Loss is: 43.75370788574219\n",
            "MSE Loss is: 0.007126855663955212, h Loss is: 43.811092376708984, L1 loss: 4.034533500671387, Total Loss is: 43.81821823120117\n",
            "MSE Loss is: 0.009662561118602753, h Loss is: 43.85197448730469, L1 loss: 4.032442569732666, Total Loss is: 43.861637115478516\n",
            "MSE Loss is: 0.007861237041652203, h Loss is: 43.86481475830078, L1 loss: 4.030168056488037, Total Loss is: 43.872676849365234\n",
            "MSE Loss is: 0.009930109605193138, h Loss is: 43.8687629699707, L1 loss: 4.027565002441406, Total Loss is: 43.878692626953125\n",
            "MSE Loss is: 0.006225656718015671, h Loss is: 43.786041259765625, L1 loss: 4.02398157119751, Total Loss is: 43.792266845703125\n",
            "MSE Loss is: 0.01931210234761238, h Loss is: 43.668128967285156, L1 loss: 4.020550727844238, Total Loss is: 43.687442779541016\n",
            "MSE Loss is: 0.010324984788894653, h Loss is: 43.523799896240234, L1 loss: 4.016574859619141, Total Loss is: 43.53412628173828\n",
            "MSE Loss is: 0.006732076872140169, h Loss is: 43.36775588989258, L1 loss: 4.011902809143066, Total Loss is: 43.374488830566406\n",
            "MSE Loss is: 0.003191164694726467, h Loss is: 43.214691162109375, L1 loss: 4.007420539855957, Total Loss is: 43.2178840637207\n",
            "MSE Loss is: 0.0016120655927807093, h Loss is: 43.081295013427734, L1 loss: 4.003521919250488, Total Loss is: 43.082908630371094\n",
            "MSE Loss is: 0.0015184137737378478, h Loss is: 42.958797454833984, L1 loss: 4.00006628036499, Total Loss is: 42.9603157043457\n",
            "MSE Loss is: 0.0014734250726178288, h Loss is: 42.878273010253906, L1 loss: 3.9976747035980225, Total Loss is: 42.87974548339844\n",
            "MSE Loss is: 0.002016160637140274, h Loss is: 42.85502624511719, L1 loss: 3.9964096546173096, Total Loss is: 42.8570442199707\n",
            "MSE Loss is: 0.002233404666185379, h Loss is: 42.89603805541992, L1 loss: 3.996286153793335, Total Loss is: 42.89826965332031\n",
            "MSE Loss is: 0.0023537916131317616, h Loss is: 42.99764633178711, L1 loss: 3.9971816539764404, Total Loss is: 43.0\n",
            "MSE Loss is: 0.002397904172539711, h Loss is: 43.1503791809082, L1 loss: 3.998955488204956, Total Loss is: 43.15277862548828\n",
            "MSE Loss is: 0.0024740053340792656, h Loss is: 43.35304260253906, L1 loss: 4.0015130043029785, Total Loss is: 43.35551834106445\n",
            "MSE Loss is: 0.0024302515666931868, h Loss is: 43.5944709777832, L1 loss: 4.004724979400635, Total Loss is: 43.596900939941406\n",
            "MSE Loss is: 0.002359815640375018, h Loss is: 43.87546920776367, L1 loss: 4.008540630340576, Total Loss is: 43.877830505371094\n",
            "New h_val is : tf.Tensor(1.3746047, shape=(), dtype=float32)\n",
            "Epoch: {} 17\n",
            "MSE Loss is: 0.0028800202999264, h Loss is: 53.24690246582031, L1 loss: 4.01260232925415, Total Loss is: 53.24978256225586\n",
            "MSE Loss is: 0.0027066494803875685, h Loss is: 53.63893127441406, L1 loss: 4.017111301422119, Total Loss is: 53.641639709472656\n",
            "MSE Loss is: 0.002325281500816345, h Loss is: 54.06412887573242, L1 loss: 4.021986961364746, Total Loss is: 54.06645584106445\n",
            "MSE Loss is: 0.0008798163034953177, h Loss is: 54.51197052001953, L1 loss: 4.0271124839782715, Total Loss is: 54.51285171508789\n",
            "MSE Loss is: 0.001805705949664116, h Loss is: 54.9354248046875, L1 loss: 4.031933784484863, Total Loss is: 54.93722915649414\n",
            "MSE Loss is: 0.013529115356504917, h Loss is: 55.29178237915039, L1 loss: 4.036009788513184, Total Loss is: 55.30531311035156\n",
            "MSE Loss is: 0.012057865038514137, h Loss is: 55.530086517333984, L1 loss: 4.038716793060303, Total Loss is: 55.542144775390625\n",
            "MSE Loss is: 0.01128403376787901, h Loss is: 55.707611083984375, L1 loss: 4.040028095245361, Total Loss is: 55.718894958496094\n",
            "MSE Loss is: 0.013299686834216118, h Loss is: 55.8537483215332, L1 loss: 4.040135860443115, Total Loss is: 55.86704635620117\n",
            "MSE Loss is: 0.0175476036965847, h Loss is: 56.02711486816406, L1 loss: 4.039674282073975, Total Loss is: 56.04466247558594\n",
            "MSE Loss is: 0.019925305619835854, h Loss is: 56.263938903808594, L1 loss: 4.039039134979248, Total Loss is: 56.28386306762695\n",
            "MSE Loss is: 0.006478864699602127, h Loss is: 56.35932922363281, L1 loss: 4.037658214569092, Total Loss is: 56.365806579589844\n",
            "MSE Loss is: 0.00853311363607645, h Loss is: 56.39837646484375, L1 loss: 4.035971164703369, Total Loss is: 56.40690994262695\n",
            "MSE Loss is: 0.007263580337166786, h Loss is: 56.401241302490234, L1 loss: 4.034172058105469, Total Loss is: 56.408504486083984\n",
            "MSE Loss is: 0.008765190839767456, h Loss is: 56.38710021972656, L1 loss: 4.032037258148193, Total Loss is: 56.39586639404297\n",
            "MSE Loss is: 0.005631028674542904, h Loss is: 56.260154724121094, L1 loss: 4.029090881347656, Total Loss is: 56.265785217285156\n",
            "MSE Loss is: 0.01755681447684765, h Loss is: 56.08899688720703, L1 loss: 4.026164531707764, Total Loss is: 56.10655212402344\n",
            "MSE Loss is: 0.009474246762692928, h Loss is: 55.88220977783203, L1 loss: 4.022088050842285, Total Loss is: 55.891685485839844\n",
            "MSE Loss is: 0.0060150232166051865, h Loss is: 55.66039276123047, L1 loss: 4.01705265045166, Total Loss is: 55.66640853881836\n",
            "MSE Loss is: 0.002951056929305196, h Loss is: 55.444950103759766, L1 loss: 4.01220178604126, Total Loss is: 55.44790267944336\n",
            "MSE Loss is: 0.001521812635473907, h Loss is: 55.255714416503906, L1 loss: 4.007924556732178, Total Loss is: 55.25723648071289\n",
            "MSE Loss is: 0.0014712730189785361, h Loss is: 55.08222961425781, L1 loss: 4.004116058349609, Total Loss is: 55.083702087402344\n",
            "MSE Loss is: 0.0014595433603972197, h Loss is: 54.964942932128906, L1 loss: 4.001428604125977, Total Loss is: 54.96640396118164\n",
            "MSE Loss is: 0.001998624764382839, h Loss is: 54.924468994140625, L1 loss: 3.999943256378174, Total Loss is: 54.92646789550781\n",
            "MSE Loss is: 0.0022065797820687294, h Loss is: 54.97003936767578, L1 loss: 3.999676465988159, Total Loss is: 54.97224426269531\n",
            "MSE Loss is: 0.0023134350776672363, h Loss is: 55.09648132324219, L1 loss: 4.000500202178955, Total Loss is: 55.098793029785156\n",
            "MSE Loss is: 0.002359457314014435, h Loss is: 55.29093933105469, L1 loss: 4.002264499664307, Total Loss is: 55.29330062866211\n",
            "MSE Loss is: 0.002425387967377901, h Loss is: 55.551849365234375, L1 loss: 4.004868984222412, Total Loss is: 55.55427551269531\n",
            "MSE Loss is: 0.002387814922258258, h Loss is: 55.86412048339844, L1 loss: 4.008174419403076, Total Loss is: 55.86650848388672\n",
            "MSE Loss is: 0.002309726784005761, h Loss is: 56.22882843017578, L1 loss: 4.012126445770264, Total Loss is: 56.231136322021484\n",
            "New h_val is : tf.Tensor(1.4545665, shape=(), dtype=float32)\n",
            "Epoch: {} 18\n",
            "MSE Loss is: 0.0028139022178947926, h Loss is: 67.79167938232422, L1 loss: 4.016345977783203, Total Loss is: 67.79449462890625\n",
            "MSE Loss is: 0.002644970081746578, h Loss is: 68.29855346679688, L1 loss: 4.021044731140137, Total Loss is: 68.30120086669922\n",
            "MSE Loss is: 0.0022677374072372913, h Loss is: 68.84886169433594, L1 loss: 4.0261359214782715, Total Loss is: 68.85112762451172\n",
            "MSE Loss is: 0.0008385448018088937, h Loss is: 69.42868041992188, L1 loss: 4.031497478485107, Total Loss is: 69.42951965332031\n",
            "MSE Loss is: 0.0017376074101775885, h Loss is: 69.97665405273438, L1 loss: 4.0365447998046875, Total Loss is: 69.9783935546875\n",
            "MSE Loss is: 0.012909487821161747, h Loss is: 70.43731689453125, L1 loss: 4.0408148765563965, Total Loss is: 70.45022583007812\n",
            "MSE Loss is: 0.011318322271108627, h Loss is: 70.7442626953125, L1 loss: 4.043628692626953, Total Loss is: 70.75558471679688\n",
            "MSE Loss is: 0.010429286397993565, h Loss is: 70.97332000732422, L1 loss: 4.044971466064453, Total Loss is: 70.98374938964844\n",
            "MSE Loss is: 0.012015560641884804, h Loss is: 71.16291046142578, L1 loss: 4.045053005218506, Total Loss is: 71.1749267578125\n",
            "MSE Loss is: 0.01562401745468378, h Loss is: 71.38760375976562, L1 loss: 4.044524669647217, Total Loss is: 71.40322875976562\n",
            "MSE Loss is: 0.01806565374135971, h Loss is: 71.69195556640625, L1 loss: 4.04378080368042, Total Loss is: 71.71002197265625\n",
            "MSE Loss is: 0.005884063430130482, h Loss is: 71.8053970336914, L1 loss: 4.0422234535217285, Total Loss is: 71.811279296875\n",
            "MSE Loss is: 0.007498178631067276, h Loss is: 71.83804321289062, L1 loss: 4.040327548980713, Total Loss is: 71.84554290771484\n",
            "MSE Loss is: 0.006704549305140972, h Loss is: 71.82465362548828, L1 loss: 4.038310527801514, Total Loss is: 71.83135986328125\n",
            "MSE Loss is: 0.007688392885029316, h Loss is: 71.78223419189453, L1 loss: 4.035909652709961, Total Loss is: 71.78992462158203\n",
            "MSE Loss is: 0.00508382823318243, h Loss is: 71.59551239013672, L1 loss: 4.032695293426514, Total Loss is: 71.60059356689453\n",
            "MSE Loss is: 0.015896258875727654, h Loss is: 71.35425567626953, L1 loss: 4.029735565185547, Total Loss is: 71.37015533447266\n",
            "MSE Loss is: 0.008665650151669979, h Loss is: 71.06552124023438, L1 loss: 4.025703430175781, Total Loss is: 71.07418823242188\n",
            "MSE Loss is: 0.005356332752853632, h Loss is: 70.75779724121094, L1 loss: 4.02068567276001, Total Loss is: 70.76315307617188\n",
            "MSE Loss is: 0.002730506006628275, h Loss is: 70.4612045288086, L1 loss: 4.015838146209717, Total Loss is: 70.46393585205078\n",
            "MSE Loss is: 0.0014363444643095136, h Loss is: 70.19868469238281, L1 loss: 4.011544227600098, Total Loss is: 70.20011901855469\n",
            "MSE Loss is: 0.0014240189921110868, h Loss is: 69.95825958251953, L1 loss: 4.007754802703857, Total Loss is: 69.95968627929688\n",
            "MSE Loss is: 0.0014432953903451562, h Loss is: 69.79212951660156, L1 loss: 4.0051164627075195, Total Loss is: 69.79357147216797\n",
            "MSE Loss is: 0.0019788825884461403, h Loss is: 69.72793579101562, L1 loss: 4.003692626953125, Total Loss is: 69.72991180419922\n",
            "MSE Loss is: 0.002178444992750883, h Loss is: 69.7776870727539, L1 loss: 4.00349760055542, Total Loss is: 69.77986907958984\n",
            "MSE Loss is: 0.002272738143801689, h Loss is: 69.93439483642578, L1 loss: 4.004392147064209, Total Loss is: 69.9366683959961\n",
            "MSE Loss is: 0.0023210837971419096, h Loss is: 70.18070983886719, L1 loss: 4.006220817565918, Total Loss is: 70.18302917480469\n",
            "MSE Loss is: 0.002377527765929699, h Loss is: 70.51459503173828, L1 loss: 4.008881568908691, Total Loss is: 70.51697540283203\n",
            "MSE Loss is: 0.0023462241515517235, h Loss is: 70.91596221923828, L1 loss: 4.012231826782227, Total Loss is: 70.9183120727539\n",
            "MSE Loss is: 0.0022610370069742203, h Loss is: 71.38615417480469, L1 loss: 4.0162529945373535, Total Loss is: 71.38841247558594\n",
            "New h_val is : tf.Tensor(1.5355434, shape=(), dtype=float32)\n",
            "Epoch: {} 19\n",
            "MSE Loss is: 0.002750548068434, h Loss is: 85.58545684814453, L1 loss: 4.020555019378662, Total Loss is: 85.58821105957031\n",
            "MSE Loss is: 0.002586053218692541, h Loss is: 86.23684692382812, L1 loss: 4.025257110595703, Total Loss is: 86.23943328857422\n",
            "MSE Loss is: 0.0022128517739474773, h Loss is: 86.94438934326172, L1 loss: 4.030284404754639, Total Loss is: 86.94660186767578\n",
            "MSE Loss is: 0.0007994156330823898, h Loss is: 87.690185546875, L1 loss: 4.035581111907959, Total Loss is: 87.69098663330078\n",
            "MSE Loss is: 0.0016713622026145458, h Loss is: 88.39472198486328, L1 loss: 4.040596008300781, Total Loss is: 88.39639282226562\n",
            "MSE Loss is: 0.012297575362026691, h Loss is: 88.98644256591797, L1 loss: 4.044848918914795, Total Loss is: 88.99874114990234\n",
            "MSE Loss is: 0.010598897933959961, h Loss is: 89.37936401367188, L1 loss: 4.047696590423584, Total Loss is: 89.38996124267578\n",
            "MSE Loss is: 0.009600238874554634, h Loss is: 89.67290496826172, L1 loss: 4.049318790435791, Total Loss is: 89.68250274658203\n",
            "MSE Loss is: 0.01080561988055706, h Loss is: 89.91736602783203, L1 loss: 4.050008296966553, Total Loss is: 89.92816925048828\n",
            "MSE Loss is: 0.013828981667757034, h Loss is: 90.20635986328125, L1 loss: 4.050130367279053, Total Loss is: 90.2201919555664\n",
            "MSE Loss is: 0.01635032147169113, h Loss is: 90.59362030029297, L1 loss: 4.0500664710998535, Total Loss is: 90.60997009277344\n",
            "MSE Loss is: 0.005345822311937809, h Loss is: 90.72721099853516, L1 loss: 4.049150466918945, Total Loss is: 90.73255920410156\n",
            "MSE Loss is: 0.006564355921000242, h Loss is: 90.7477798461914, L1 loss: 4.047824382781982, Total Loss is: 90.75434112548828\n",
            "MSE Loss is: 0.006184955593198538, h Loss is: 90.70991516113281, L1 loss: 4.04633092880249, Total Loss is: 90.71610260009766\n",
            "MSE Loss is: 0.006709698587656021, h Loss is: 90.62617492675781, L1 loss: 4.044340133666992, Total Loss is: 90.63288116455078\n",
            "MSE Loss is: 0.0045887501910328865, h Loss is: 90.36060333251953, L1 loss: 4.041475296020508, Total Loss is: 90.36518859863281\n",
            "MSE Loss is: 0.014343442395329475, h Loss is: 90.02882385253906, L1 loss: 4.038609504699707, Total Loss is: 90.04316711425781\n",
            "MSE Loss is: 0.007904288358986378, h Loss is: 89.635009765625, L1 loss: 4.0344414710998535, Total Loss is: 89.64291381835938\n",
            "MSE Loss is: 0.004760438576340675, h Loss is: 89.21741485595703, L1 loss: 4.029170513153076, Total Loss is: 89.22217559814453\n",
            "MSE Loss is: 0.0025315654929727316, h Loss is: 88.81716918945312, L1 loss: 4.024017333984375, Total Loss is: 88.8197021484375\n",
            "MSE Loss is: 0.0013564372202381492, h Loss is: 88.46041107177734, L1 loss: 4.019378185272217, Total Loss is: 88.4617691040039\n",
            "MSE Loss is: 0.0013768896460533142, h Loss is: 88.13358306884766, L1 loss: 4.015666484832764, Total Loss is: 88.13495635986328\n",
            "MSE Loss is: 0.0014241304015740752, h Loss is: 87.90396881103516, L1 loss: 4.013127326965332, Total Loss is: 87.9053955078125\n",
            "MSE Loss is: 0.0019560446962714195, h Loss is: 87.80809020996094, L1 loss: 4.011765480041504, Total Loss is: 87.81004333496094\n",
            "MSE Loss is: 0.0021479397546499968, h Loss is: 87.86163330078125, L1 loss: 4.011587619781494, Total Loss is: 87.86378479003906\n",
            "MSE Loss is: 0.002230594865977764, h Loss is: 88.05525207519531, L1 loss: 4.012653350830078, Total Loss is: 88.05747985839844\n",
            "MSE Loss is: 0.0022815586999058723, h Loss is: 88.36583709716797, L1 loss: 4.014699459075928, Total Loss is: 88.36811828613281\n",
            "MSE Loss is: 0.0023291902616620064, h Loss is: 88.79082489013672, L1 loss: 4.017566680908203, Total Loss is: 88.79315185546875\n",
            "MSE Loss is: 0.002304183319211006, h Loss is: 89.30342864990234, L1 loss: 4.0210747718811035, Total Loss is: 89.30573272705078\n",
            "MSE Loss is: 0.0022124636452645063, h Loss is: 89.90567016601562, L1 loss: 4.025201797485352, Total Loss is: 89.90788269042969\n",
            "New h_val is : tf.Tensor(1.6177764, shape=(), dtype=float32)\n",
            "saving model to: /content//CausalNN_model_final_1707351763.h5\n",
            "1/1 [==============================] - 0s 79ms/step\n",
            "The conv layer 1 weights before training : [[ 0.46355775 -0.37663284  0.3115419  -0.12069899 -0.47301158 -0.44009572\n",
            "   0.12988701  0.11435565 -0.00478309 -0.46257496  0.3445591  -0.41714495\n",
            "   0.13214019 -0.36485803 -0.46539757  0.2700611  -0.33100182 -0.02917916\n",
            "  -0.27304667  0.08705989 -0.05216557 -0.4549146   0.09113511 -0.28507903]]\n",
            "The conv layer 1 weights after training : [[ 4.1487566e-01 -2.8736532e-01  4.8960981e-01  1.0559718e-02\n",
            "  -9.5170146e-01 -1.8162973e+00  2.3012619e-01  2.6434186e-01\n",
            "   3.9158065e-02 -6.3701522e-01 -4.6349638e-03 -3.5848534e-01\n",
            "   2.0838967e-01 -2.1133278e-01 -3.7886620e-01  1.6008922e-01\n",
            "  -7.4514192e-01 -3.6377361e-01 -9.3567381e-03  3.5512677e-01\n",
            "  -4.7728925e-05 -3.0591747e-01  5.6060132e-02 -3.6888933e-01]]\n"
          ]
        }
      ]
    },
    {
      "cell_type": "markdown",
      "source": [
        "Convert the predicted adjacency for visualization as a table."
      ],
      "metadata": {
        "id": "JD7gigWXDPUy"
      }
    },
    {
      "cell_type": "code",
      "execution_count": null,
      "metadata": {
        "id": "ckpp6cuerupo"
      },
      "outputs": [],
      "source": [
        "mat_df_2d_s = pd.DataFrame(mat)"
      ]
    },
    {
      "cell_type": "code",
      "source": [
        "mat_f_df = pd.DataFrame(mat).T"
      ],
      "metadata": {
        "id": "UAa0WohUJ_t_"
      },
      "execution_count": null,
      "outputs": []
    },
    {
      "cell_type": "code",
      "execution_count": null,
      "metadata": {
        "colab": {
          "base_uri": "https://localhost:8080/",
          "height": 802
        },
        "id": "9CtUItJErupo",
        "outputId": "303b6e39-a32a-4d5a-c163-505941d7acc0"
      },
      "outputs": [
        {
          "output_type": "execute_result",
          "data": {
            "text/plain": [
              "           0         1         2         3\n",
              "0   0.414876  0.344710  0.367229  0.407772\n",
              "1  -0.287365 -0.428290 -0.390810 -0.370698\n",
              "2   0.489610  0.232715  0.289028  0.334750\n",
              "3   0.010560 -0.109502 -0.087541 -0.065754\n",
              "4  -0.951701 -0.345967 -0.476132 -0.445014\n",
              "5  -1.816297 -0.604187 -0.883958 -0.554941\n",
              "6   0.230126 -0.124662 -0.077965  0.158610\n",
              "7   0.264342 -0.097999 -0.055733  0.165886\n",
              "8   0.039158 -0.117881 -0.121880  0.038011\n",
              "9  -0.637015 -0.670630 -0.712413 -0.505055\n",
              "10 -0.004635 -0.389794 -0.402527  0.143094\n",
              "11 -0.358485 -1.952206 -1.777036 -0.681087\n",
              "12  0.208390 -0.098628 -0.055973  0.153536\n",
              "13 -0.211333 -0.541990 -0.499045 -0.309114\n",
              "14 -0.378866 -0.565721 -0.556841 -0.412892\n",
              "15  0.160089  0.114356  0.082339  0.258203\n",
              "16 -0.745142 -0.897655 -0.948678 -0.483533\n",
              "17 -0.363774 -1.367221 -1.287161 -0.269833\n",
              "18 -0.009357 -0.408051 -0.293096 -1.172125\n",
              "19  0.355127 -0.008915  0.102514 -0.795833\n",
              "20 -0.000000 -0.088479  0.008025 -0.926768\n",
              "21 -0.305917 -0.000000 -0.386939 -1.348487\n",
              "22  0.056060 -0.013886 -0.000000 -0.868294\n",
              "23 -0.368889 -0.725282 -0.647405 -0.000000"
            ],
            "text/html": [
              "\n",
              "  <div id=\"df-47aeeef2-4a23-4516-8c57-40a7dc5a643f\" class=\"colab-df-container\">\n",
              "    <div>\n",
              "<style scoped>\n",
              "    .dataframe tbody tr th:only-of-type {\n",
              "        vertical-align: middle;\n",
              "    }\n",
              "\n",
              "    .dataframe tbody tr th {\n",
              "        vertical-align: top;\n",
              "    }\n",
              "\n",
              "    .dataframe thead th {\n",
              "        text-align: right;\n",
              "    }\n",
              "</style>\n",
              "<table border=\"1\" class=\"dataframe\">\n",
              "  <thead>\n",
              "    <tr style=\"text-align: right;\">\n",
              "      <th></th>\n",
              "      <th>0</th>\n",
              "      <th>1</th>\n",
              "      <th>2</th>\n",
              "      <th>3</th>\n",
              "    </tr>\n",
              "  </thead>\n",
              "  <tbody>\n",
              "    <tr>\n",
              "      <th>0</th>\n",
              "      <td>0.414876</td>\n",
              "      <td>0.344710</td>\n",
              "      <td>0.367229</td>\n",
              "      <td>0.407772</td>\n",
              "    </tr>\n",
              "    <tr>\n",
              "      <th>1</th>\n",
              "      <td>-0.287365</td>\n",
              "      <td>-0.428290</td>\n",
              "      <td>-0.390810</td>\n",
              "      <td>-0.370698</td>\n",
              "    </tr>\n",
              "    <tr>\n",
              "      <th>2</th>\n",
              "      <td>0.489610</td>\n",
              "      <td>0.232715</td>\n",
              "      <td>0.289028</td>\n",
              "      <td>0.334750</td>\n",
              "    </tr>\n",
              "    <tr>\n",
              "      <th>3</th>\n",
              "      <td>0.010560</td>\n",
              "      <td>-0.109502</td>\n",
              "      <td>-0.087541</td>\n",
              "      <td>-0.065754</td>\n",
              "    </tr>\n",
              "    <tr>\n",
              "      <th>4</th>\n",
              "      <td>-0.951701</td>\n",
              "      <td>-0.345967</td>\n",
              "      <td>-0.476132</td>\n",
              "      <td>-0.445014</td>\n",
              "    </tr>\n",
              "    <tr>\n",
              "      <th>5</th>\n",
              "      <td>-1.816297</td>\n",
              "      <td>-0.604187</td>\n",
              "      <td>-0.883958</td>\n",
              "      <td>-0.554941</td>\n",
              "    </tr>\n",
              "    <tr>\n",
              "      <th>6</th>\n",
              "      <td>0.230126</td>\n",
              "      <td>-0.124662</td>\n",
              "      <td>-0.077965</td>\n",
              "      <td>0.158610</td>\n",
              "    </tr>\n",
              "    <tr>\n",
              "      <th>7</th>\n",
              "      <td>0.264342</td>\n",
              "      <td>-0.097999</td>\n",
              "      <td>-0.055733</td>\n",
              "      <td>0.165886</td>\n",
              "    </tr>\n",
              "    <tr>\n",
              "      <th>8</th>\n",
              "      <td>0.039158</td>\n",
              "      <td>-0.117881</td>\n",
              "      <td>-0.121880</td>\n",
              "      <td>0.038011</td>\n",
              "    </tr>\n",
              "    <tr>\n",
              "      <th>9</th>\n",
              "      <td>-0.637015</td>\n",
              "      <td>-0.670630</td>\n",
              "      <td>-0.712413</td>\n",
              "      <td>-0.505055</td>\n",
              "    </tr>\n",
              "    <tr>\n",
              "      <th>10</th>\n",
              "      <td>-0.004635</td>\n",
              "      <td>-0.389794</td>\n",
              "      <td>-0.402527</td>\n",
              "      <td>0.143094</td>\n",
              "    </tr>\n",
              "    <tr>\n",
              "      <th>11</th>\n",
              "      <td>-0.358485</td>\n",
              "      <td>-1.952206</td>\n",
              "      <td>-1.777036</td>\n",
              "      <td>-0.681087</td>\n",
              "    </tr>\n",
              "    <tr>\n",
              "      <th>12</th>\n",
              "      <td>0.208390</td>\n",
              "      <td>-0.098628</td>\n",
              "      <td>-0.055973</td>\n",
              "      <td>0.153536</td>\n",
              "    </tr>\n",
              "    <tr>\n",
              "      <th>13</th>\n",
              "      <td>-0.211333</td>\n",
              "      <td>-0.541990</td>\n",
              "      <td>-0.499045</td>\n",
              "      <td>-0.309114</td>\n",
              "    </tr>\n",
              "    <tr>\n",
              "      <th>14</th>\n",
              "      <td>-0.378866</td>\n",
              "      <td>-0.565721</td>\n",
              "      <td>-0.556841</td>\n",
              "      <td>-0.412892</td>\n",
              "    </tr>\n",
              "    <tr>\n",
              "      <th>15</th>\n",
              "      <td>0.160089</td>\n",
              "      <td>0.114356</td>\n",
              "      <td>0.082339</td>\n",
              "      <td>0.258203</td>\n",
              "    </tr>\n",
              "    <tr>\n",
              "      <th>16</th>\n",
              "      <td>-0.745142</td>\n",
              "      <td>-0.897655</td>\n",
              "      <td>-0.948678</td>\n",
              "      <td>-0.483533</td>\n",
              "    </tr>\n",
              "    <tr>\n",
              "      <th>17</th>\n",
              "      <td>-0.363774</td>\n",
              "      <td>-1.367221</td>\n",
              "      <td>-1.287161</td>\n",
              "      <td>-0.269833</td>\n",
              "    </tr>\n",
              "    <tr>\n",
              "      <th>18</th>\n",
              "      <td>-0.009357</td>\n",
              "      <td>-0.408051</td>\n",
              "      <td>-0.293096</td>\n",
              "      <td>-1.172125</td>\n",
              "    </tr>\n",
              "    <tr>\n",
              "      <th>19</th>\n",
              "      <td>0.355127</td>\n",
              "      <td>-0.008915</td>\n",
              "      <td>0.102514</td>\n",
              "      <td>-0.795833</td>\n",
              "    </tr>\n",
              "    <tr>\n",
              "      <th>20</th>\n",
              "      <td>-0.000000</td>\n",
              "      <td>-0.088479</td>\n",
              "      <td>0.008025</td>\n",
              "      <td>-0.926768</td>\n",
              "    </tr>\n",
              "    <tr>\n",
              "      <th>21</th>\n",
              "      <td>-0.305917</td>\n",
              "      <td>-0.000000</td>\n",
              "      <td>-0.386939</td>\n",
              "      <td>-1.348487</td>\n",
              "    </tr>\n",
              "    <tr>\n",
              "      <th>22</th>\n",
              "      <td>0.056060</td>\n",
              "      <td>-0.013886</td>\n",
              "      <td>-0.000000</td>\n",
              "      <td>-0.868294</td>\n",
              "    </tr>\n",
              "    <tr>\n",
              "      <th>23</th>\n",
              "      <td>-0.368889</td>\n",
              "      <td>-0.725282</td>\n",
              "      <td>-0.647405</td>\n",
              "      <td>-0.000000</td>\n",
              "    </tr>\n",
              "  </tbody>\n",
              "</table>\n",
              "</div>\n",
              "    <div class=\"colab-df-buttons\">\n",
              "\n",
              "  <div class=\"colab-df-container\">\n",
              "    <button class=\"colab-df-convert\" onclick=\"convertToInteractive('df-47aeeef2-4a23-4516-8c57-40a7dc5a643f')\"\n",
              "            title=\"Convert this dataframe to an interactive table.\"\n",
              "            style=\"display:none;\">\n",
              "\n",
              "  <svg xmlns=\"http://www.w3.org/2000/svg\" height=\"24px\" viewBox=\"0 -960 960 960\">\n",
              "    <path d=\"M120-120v-720h720v720H120Zm60-500h600v-160H180v160Zm220 220h160v-160H400v160Zm0 220h160v-160H400v160ZM180-400h160v-160H180v160Zm440 0h160v-160H620v160ZM180-180h160v-160H180v160Zm440 0h160v-160H620v160Z\"/>\n",
              "  </svg>\n",
              "    </button>\n",
              "\n",
              "  <style>\n",
              "    .colab-df-container {\n",
              "      display:flex;\n",
              "      gap: 12px;\n",
              "    }\n",
              "\n",
              "    .colab-df-convert {\n",
              "      background-color: #E8F0FE;\n",
              "      border: none;\n",
              "      border-radius: 50%;\n",
              "      cursor: pointer;\n",
              "      display: none;\n",
              "      fill: #1967D2;\n",
              "      height: 32px;\n",
              "      padding: 0 0 0 0;\n",
              "      width: 32px;\n",
              "    }\n",
              "\n",
              "    .colab-df-convert:hover {\n",
              "      background-color: #E2EBFA;\n",
              "      box-shadow: 0px 1px 2px rgba(60, 64, 67, 0.3), 0px 1px 3px 1px rgba(60, 64, 67, 0.15);\n",
              "      fill: #174EA6;\n",
              "    }\n",
              "\n",
              "    .colab-df-buttons div {\n",
              "      margin-bottom: 4px;\n",
              "    }\n",
              "\n",
              "    [theme=dark] .colab-df-convert {\n",
              "      background-color: #3B4455;\n",
              "      fill: #D2E3FC;\n",
              "    }\n",
              "\n",
              "    [theme=dark] .colab-df-convert:hover {\n",
              "      background-color: #434B5C;\n",
              "      box-shadow: 0px 1px 3px 1px rgba(0, 0, 0, 0.15);\n",
              "      filter: drop-shadow(0px 1px 2px rgba(0, 0, 0, 0.3));\n",
              "      fill: #FFFFFF;\n",
              "    }\n",
              "  </style>\n",
              "\n",
              "    <script>\n",
              "      const buttonEl =\n",
              "        document.querySelector('#df-47aeeef2-4a23-4516-8c57-40a7dc5a643f button.colab-df-convert');\n",
              "      buttonEl.style.display =\n",
              "        google.colab.kernel.accessAllowed ? 'block' : 'none';\n",
              "\n",
              "      async function convertToInteractive(key) {\n",
              "        const element = document.querySelector('#df-47aeeef2-4a23-4516-8c57-40a7dc5a643f');\n",
              "        const dataTable =\n",
              "          await google.colab.kernel.invokeFunction('convertToInteractive',\n",
              "                                                    [key], {});\n",
              "        if (!dataTable) return;\n",
              "\n",
              "        const docLinkHtml = 'Like what you see? Visit the ' +\n",
              "          '<a target=\"_blank\" href=https://colab.research.google.com/notebooks/data_table.ipynb>data table notebook</a>'\n",
              "          + ' to learn more about interactive tables.';\n",
              "        element.innerHTML = '';\n",
              "        dataTable['output_type'] = 'display_data';\n",
              "        await google.colab.output.renderOutput(dataTable, element);\n",
              "        const docLink = document.createElement('div');\n",
              "        docLink.innerHTML = docLinkHtml;\n",
              "        element.appendChild(docLink);\n",
              "      }\n",
              "    </script>\n",
              "  </div>\n",
              "\n",
              "\n",
              "<div id=\"df-23a346ba-0110-45ba-bf5a-a1b3bb9c9e3a\">\n",
              "  <button class=\"colab-df-quickchart\" onclick=\"quickchart('df-23a346ba-0110-45ba-bf5a-a1b3bb9c9e3a')\"\n",
              "            title=\"Suggest charts\"\n",
              "            style=\"display:none;\">\n",
              "\n",
              "<svg xmlns=\"http://www.w3.org/2000/svg\" height=\"24px\"viewBox=\"0 0 24 24\"\n",
              "     width=\"24px\">\n",
              "    <g>\n",
              "        <path d=\"M19 3H5c-1.1 0-2 .9-2 2v14c0 1.1.9 2 2 2h14c1.1 0 2-.9 2-2V5c0-1.1-.9-2-2-2zM9 17H7v-7h2v7zm4 0h-2V7h2v10zm4 0h-2v-4h2v4z\"/>\n",
              "    </g>\n",
              "</svg>\n",
              "  </button>\n",
              "\n",
              "<style>\n",
              "  .colab-df-quickchart {\n",
              "      --bg-color: #E8F0FE;\n",
              "      --fill-color: #1967D2;\n",
              "      --hover-bg-color: #E2EBFA;\n",
              "      --hover-fill-color: #174EA6;\n",
              "      --disabled-fill-color: #AAA;\n",
              "      --disabled-bg-color: #DDD;\n",
              "  }\n",
              "\n",
              "  [theme=dark] .colab-df-quickchart {\n",
              "      --bg-color: #3B4455;\n",
              "      --fill-color: #D2E3FC;\n",
              "      --hover-bg-color: #434B5C;\n",
              "      --hover-fill-color: #FFFFFF;\n",
              "      --disabled-bg-color: #3B4455;\n",
              "      --disabled-fill-color: #666;\n",
              "  }\n",
              "\n",
              "  .colab-df-quickchart {\n",
              "    background-color: var(--bg-color);\n",
              "    border: none;\n",
              "    border-radius: 50%;\n",
              "    cursor: pointer;\n",
              "    display: none;\n",
              "    fill: var(--fill-color);\n",
              "    height: 32px;\n",
              "    padding: 0;\n",
              "    width: 32px;\n",
              "  }\n",
              "\n",
              "  .colab-df-quickchart:hover {\n",
              "    background-color: var(--hover-bg-color);\n",
              "    box-shadow: 0 1px 2px rgba(60, 64, 67, 0.3), 0 1px 3px 1px rgba(60, 64, 67, 0.15);\n",
              "    fill: var(--button-hover-fill-color);\n",
              "  }\n",
              "\n",
              "  .colab-df-quickchart-complete:disabled,\n",
              "  .colab-df-quickchart-complete:disabled:hover {\n",
              "    background-color: var(--disabled-bg-color);\n",
              "    fill: var(--disabled-fill-color);\n",
              "    box-shadow: none;\n",
              "  }\n",
              "\n",
              "  .colab-df-spinner {\n",
              "    border: 2px solid var(--fill-color);\n",
              "    border-color: transparent;\n",
              "    border-bottom-color: var(--fill-color);\n",
              "    animation:\n",
              "      spin 1s steps(1) infinite;\n",
              "  }\n",
              "\n",
              "  @keyframes spin {\n",
              "    0% {\n",
              "      border-color: transparent;\n",
              "      border-bottom-color: var(--fill-color);\n",
              "      border-left-color: var(--fill-color);\n",
              "    }\n",
              "    20% {\n",
              "      border-color: transparent;\n",
              "      border-left-color: var(--fill-color);\n",
              "      border-top-color: var(--fill-color);\n",
              "    }\n",
              "    30% {\n",
              "      border-color: transparent;\n",
              "      border-left-color: var(--fill-color);\n",
              "      border-top-color: var(--fill-color);\n",
              "      border-right-color: var(--fill-color);\n",
              "    }\n",
              "    40% {\n",
              "      border-color: transparent;\n",
              "      border-right-color: var(--fill-color);\n",
              "      border-top-color: var(--fill-color);\n",
              "    }\n",
              "    60% {\n",
              "      border-color: transparent;\n",
              "      border-right-color: var(--fill-color);\n",
              "    }\n",
              "    80% {\n",
              "      border-color: transparent;\n",
              "      border-right-color: var(--fill-color);\n",
              "      border-bottom-color: var(--fill-color);\n",
              "    }\n",
              "    90% {\n",
              "      border-color: transparent;\n",
              "      border-bottom-color: var(--fill-color);\n",
              "    }\n",
              "  }\n",
              "</style>\n",
              "\n",
              "  <script>\n",
              "    async function quickchart(key) {\n",
              "      const quickchartButtonEl =\n",
              "        document.querySelector('#' + key + ' button');\n",
              "      quickchartButtonEl.disabled = true;  // To prevent multiple clicks.\n",
              "      quickchartButtonEl.classList.add('colab-df-spinner');\n",
              "      try {\n",
              "        const charts = await google.colab.kernel.invokeFunction(\n",
              "            'suggestCharts', [key], {});\n",
              "      } catch (error) {\n",
              "        console.error('Error during call to suggestCharts:', error);\n",
              "      }\n",
              "      quickchartButtonEl.classList.remove('colab-df-spinner');\n",
              "      quickchartButtonEl.classList.add('colab-df-quickchart-complete');\n",
              "    }\n",
              "    (() => {\n",
              "      let quickchartButtonEl =\n",
              "        document.querySelector('#df-23a346ba-0110-45ba-bf5a-a1b3bb9c9e3a button');\n",
              "      quickchartButtonEl.style.display =\n",
              "        google.colab.kernel.accessAllowed ? 'block' : 'none';\n",
              "    })();\n",
              "  </script>\n",
              "</div>\n",
              "    </div>\n",
              "  </div>\n"
            ]
          },
          "metadata": {},
          "execution_count": 192
        }
      ],
      "source": [
        "mat_df_2d_s.T"
      ]
    },
    {
      "cell_type": "markdown",
      "source": [
        "#Full Causal Graph"
      ],
      "metadata": {
        "id": "rK-co1IcGV7q"
      }
    },
    {
      "cell_type": "code",
      "execution_count": null,
      "metadata": {
        "id": "hvIvNNEjrupo"
      },
      "outputs": [],
      "source": [
        "matrix_2d_2d_s = mat"
      ]
    },
    {
      "cell_type": "code",
      "source": [
        "np.savetxt('/content/ablation-1d-full-adj-mat_TKE_4.csv', matrix_2d_2d_s, delimiter=\",\")"
      ],
      "metadata": {
        "id": "JVRuNC_KSoSI"
      },
      "execution_count": null,
      "outputs": []
    },
    {
      "cell_type": "code",
      "execution_count": null,
      "metadata": {
        "id": "LCrZpZYQrupo"
      },
      "outputs": [],
      "source": [
        "import networkx as nx\n",
        "G_2d = nx.DiGraph()\n",
        "\n",
        "nodes_2d = [ \"SH(t-5)\", \"BU(t-5)\", \"TEND(t-5)\", \"TKE(t-5)\",\n",
        "             \"SH(t-4)\", \"BU(t-4)\", \"TEND(t-4)\", \"TKE(t-4)\",\n",
        "            \"SH(t-3)\", \"BU(t-3)\", \"TEND(t-3)\", \"TKE(t-3)\",\n",
        "             \"SH(t-2)\", \"BU(t-2)\",  \"TEND(t-2)\", \"TKE(t-2)\",\n",
        "             \"SH(t-1)\", \"BU(t-1)\", \"TEND(t-1)\", \"TKE(t-1)\",\n",
        "               \"SH(t)\",   \"BU(t)\",   \"TEND(t)\",  \"TKE(t)\"  ]\n",
        "nodes_r_2d=[ \"SH(t)\", \"BU(t)\",  \"TEND(t)\", \"TKE(t)\"]\n",
        "pred_graph_f = np.zeros((4,24))"
      ]
    },
    {
      "cell_type": "code",
      "execution_count": null,
      "metadata": {
        "id": "-nzqj5wyrupo"
      },
      "outputs": [],
      "source": [
        "for i in range (0, 24):\n",
        "  G_2d.add_node(nodes_2d[i],pos=(int(i/4)+1,(i%4)+1))"
      ]
    },
    {
      "cell_type": "code",
      "execution_count": null,
      "metadata": {
        "colab": {
          "base_uri": "https://localhost:8080/"
        },
        "id": "gsJrb53Krupp",
        "outputId": "1513eadb-afa3-4763-b513-e461482b32d5"
      },
      "outputs": [
        {
          "output_type": "stream",
          "name": "stdout",
          "text": [
            "0 0\n",
            "0 1\n",
            "0 2\n",
            "0 3\n",
            "2 0\n",
            "2 3\n",
            "19 0\n"
          ]
        }
      ],
      "source": [
        "for i in range(0, 24):\n",
        "  for j in range (0, 4):\n",
        "    if matrix_2d_2d_s[j,i] > 0.3:\n",
        "      col = np.round(matrix_2d_2d_s[j,i], 2)\n",
        "      print(i,j)\n",
        "      G_2d.add_edge(nodes_2d[i], nodes_r_2d[j], weight=col)\n",
        "      pred_graph_f[j,i]=1\n"
      ]
    },
    {
      "cell_type": "code",
      "execution_count": null,
      "metadata": {
        "colab": {
          "base_uri": "https://localhost:8080/"
        },
        "id": "DtzcncqBrupp",
        "outputId": "5b128010-1203-4887-e557-77777c3ab7b2"
      },
      "outputs": [
        {
          "output_type": "execute_result",
          "data": {
            "text/plain": [
              "{'SH(t-5)': (1, 1),\n",
              " 'BU(t-5)': (1, 2),\n",
              " 'TEND(t-5)': (1, 3),\n",
              " 'TKE(t-5)': (1, 4),\n",
              " 'SH(t-4)': (2, 1),\n",
              " 'BU(t-4)': (2, 2),\n",
              " 'TEND(t-4)': (2, 3),\n",
              " 'TKE(t-4)': (2, 4),\n",
              " 'SH(t-3)': (3, 1),\n",
              " 'BU(t-3)': (3, 2),\n",
              " 'TEND(t-3)': (3, 3),\n",
              " 'TKE(t-3)': (3, 4),\n",
              " 'SH(t-2)': (4, 1),\n",
              " 'BU(t-2)': (4, 2),\n",
              " 'TEND(t-2)': (4, 3),\n",
              " 'TKE(t-2)': (4, 4),\n",
              " 'SH(t-1)': (5, 1),\n",
              " 'BU(t-1)': (5, 2),\n",
              " 'TEND(t-1)': (5, 3),\n",
              " 'TKE(t-1)': (5, 4),\n",
              " 'SH(t)': (6, 1),\n",
              " 'BU(t)': (6, 2),\n",
              " 'TEND(t)': (6, 3),\n",
              " 'TKE(t)': (6, 4)}"
            ]
          },
          "metadata": {},
          "execution_count": 199
        }
      ],
      "source": [
        "pos_2d=nx.get_node_attributes(G_2d,'pos')\n",
        "pos_2d"
      ]
    },
    {
      "cell_type": "code",
      "execution_count": null,
      "metadata": {
        "id": "9QoGvVgS6SbW"
      },
      "outputs": [],
      "source": [
        "weights_2d = nx.get_edge_attributes(G_2d,'weight').values()"
      ]
    },
    {
      "cell_type": "code",
      "execution_count": null,
      "metadata": {
        "colab": {
          "base_uri": "https://localhost:8080/",
          "height": 698
        },
        "id": "Tsa81tsyrupp",
        "outputId": "cf35ddd2-846e-4e41-d008-8ee5fb0e1317"
      },
      "outputs": [
        {
          "output_type": "stream",
          "name": "stderr",
          "text": [
            "No data for colormapping provided via 'c'. Parameters 'cmap' will be ignored\n",
            "Unable to determine Axes to steal space for Colorbar. Using gca(), but will raise in the future. Either provide the *cax* argument to use as the Axes for the Colorbar, provide the *ax* argument to steal space from it, or add *mappable* to an Axes.\n"
          ]
        },
        {
          "output_type": "display_data",
          "data": {
            "text/plain": [
              "<Figure size 800x600 with 2 Axes>"
            ],
            "image/png": "[encoded data removed]"
          },
          "metadata": {}
        }
      ],
      "source": [
        "import matplotlib.pyplot as plt\n",
        "import matplotlib as mpl\n",
        "\n",
        "plt.figure(figsize=(8, 6))\n",
        "nx.draw(G_2d, pos_2d, cmap = plt.get_cmap('jet'), edge_cmap= plt.cm.tab20,\n",
        "        font_size=9, node_size=1200, node_color='#c0c0c0',\n",
        "        edge_color=weights_2d, with_labels = True, connectionstyle='arc3, rad = 0.3')\n",
        "#nx.draw_networkx(G, with_labels = True)\n",
        "plt.colorbar(mpl.cm.ScalarMappable(norm=mpl.colors.Normalize(0.25, 1), cmap=plt.cm.tab20),\n",
        "              orientation='vertical', label='Edge Strength')\n",
        "plt.show()"
      ]
    },
    {
      "cell_type": "markdown",
      "metadata": {
        "id": "Ijo5Wyjm6qRR"
      },
      "source": [
        "##Summary Causal Graph"
      ]
    },
    {
      "cell_type": "code",
      "source": [
        "matrix_2d_2d_s = mat"
      ],
      "metadata": {
        "id": "3A3Nn9AMe1fM"
      },
      "execution_count": null,
      "outputs": []
    },
    {
      "cell_type": "code",
      "execution_count": null,
      "metadata": {
        "id": "kfX8KQwJ6qRR"
      },
      "outputs": [],
      "source": [
        "import networkx as nx\n",
        "G_2d_s1 = nx.DiGraph()\n",
        "\n",
        "nodes_2d_s = [ \"SH\", \"BU\", \"TEND\", \"TKE\" ]\n",
        "nodes_r_2d_s = [ \"SH\", \"BU\", \"TEND\", \"TKE\" ]\n",
        "edges_2d_s1 = []\n",
        "pred_graph_s1 = np.zeros((4,4))"
      ]
    },
    {
      "cell_type": "code",
      "execution_count": null,
      "metadata": {
        "id": "79j7uDTN6qRR"
      },
      "outputs": [],
      "source": [
        "for i in range (0, 4):\n",
        "  G_2d_s1.add_node(nodes_2d_s[i],pos=(int(i/2)+1,(i%2)+1))"
      ]
    },
    {
      "cell_type": "code",
      "execution_count": null,
      "metadata": {
        "id": "GyYUYXSb6qRS",
        "colab": {
          "base_uri": "https://localhost:8080/"
        },
        "outputId": "cc629b64-e1aa-48e3-ffd2-fac55c48db95"
      },
      "outputs": [
        {
          "output_type": "stream",
          "name": "stdout",
          "text": [
            "0 0 0.41487566\n",
            "0 1 0.3447097\n",
            "0 2 0.367229\n",
            "0 3 0.4077717\n",
            "2 0 0.4896098\n",
            "2 3 0.3347498\n",
            "19 0 0.35512677\n"
          ]
        }
      ],
      "source": [
        "for i in range(0, 24):\n",
        "  for j in range (0, 4):\n",
        "    if matrix_2d_2d_s[j,i] > 0.3:\n",
        "      col = np.round(matrix_2d_2d_s[j,i], 2)\n",
        "      print(i,j, matrix_2d_2d_s[j,i])\n",
        "      G_2d_s1.add_edge(nodes_2d_s[i%4], nodes_r_2d_s[j],  weight=col)\n",
        "      pred_graph_s1[i%4, j]=1\n"
      ]
    },
    {
      "cell_type": "code",
      "execution_count": null,
      "metadata": {
        "colab": {
          "base_uri": "https://localhost:8080/"
        },
        "id": "oQRq97oL6qRS",
        "outputId": "863e9080-25b4-47dc-8012-8bae11c8ef97"
      },
      "outputs": [
        {
          "output_type": "execute_result",
          "data": {
            "text/plain": [
              "{'SH': (1, 1), 'BU': (1, 2), 'TEND': (2, 1), 'TKE': (2, 2)}"
            ]
          },
          "metadata": {},
          "execution_count": 205
        }
      ],
      "source": [
        "pos_2d_s1=nx.get_node_attributes(G_2d_s1,'pos')\n",
        "pos_2d_s1"
      ]
    },
    {
      "cell_type": "code",
      "execution_count": null,
      "metadata": {
        "id": "938WuKdz6qRS"
      },
      "outputs": [],
      "source": [
        "weights_2d_s1 = nx.get_edge_attributes(G_2d_s1,'weight').values()"
      ]
    },
    {
      "cell_type": "code",
      "source": [
        "import matplotlib.pyplot as plt\n",
        "import matplotlib as mpl\n",
        "\n",
        "plt.figure(figsize=(5, 5))\n",
        "nx.draw(G_2d_s1, pos_2d_s1,  edge_cmap= plt.cm.tab20,  #cmap = plt.get_cmap('jet'),\n",
        "        font_size=12, node_size=1200, node_color='#c0c0c0', #[30,30,30,30,30],\n",
        "        edge_color=weights_2d_s1, with_labels = True, connectionstyle='arc3, rad = 0.3')\n",
        "#nx.draw_networkx(G, with_labels = True)\n",
        "plt.colorbar(mpl.cm.ScalarMappable(norm=mpl.colors.Normalize(0.25, 1), cmap=plt.cm.tab20),\n",
        "              orientation='vertical', label='Edge Strength')\n",
        "plt.show()"
      ],
      "metadata": {
        "colab": {
          "base_uri": "https://localhost:8080/",
          "height": 580
        },
        "id": "b0pxxQOFlRo9",
        "outputId": "8efc85fe-b3f7-4408-8a1c-aee1b145b65a"
      },
      "execution_count": null,
      "outputs": [
        {
          "output_type": "stream",
          "name": "stderr",
          "text": [
            "Unable to determine Axes to steal space for Colorbar. Using gca(), but will raise in the future. Either provide the *cax* argument to use as the Axes for the Colorbar, provide the *ax* argument to steal space from it, or add *mappable* to an Axes.\n"
          ]
        },
        {
          "output_type": "display_data",
          "data": {
            "text/plain": [
              "<Figure size 500x500 with 2 Axes>"
            ],
            "image/png": "[encoded data removed]"
          },
          "metadata": {}
        }
      ]
    },
    {
      "cell_type": "code",
      "source": [
        "import matplotlib.pyplot as plt\n",
        "\n",
        "plt.figure(figsize=(5, 5))\n",
        "nx.draw(G_2d_s1, pos_2d_s1, cmap = plt.get_cmap('jet'), edge_cmap= plt.cm.tab20, edge_color=weights_2d_s1, with_labels = True, connectionstyle='arc3, rad = 0.3')\n",
        "#nx.draw_networkx(G, with_labels = True)\n",
        "plt.show()"
      ],
      "metadata": {
        "colab": {
          "base_uri": "https://localhost:8080/",
          "height": 536
        },
        "id": "ukE3funIX-mc",
        "outputId": "1997f1a7-bb21-40fa-a58d-7614853780df"
      },
      "execution_count": null,
      "outputs": [
        {
          "output_type": "display_data",
          "data": {
            "text/plain": [
              "<Figure size 500x500 with 1 Axes>"
            ],
            "image/png": "[encoded data removed]"
          },
          "metadata": {}
        }
      ]
    },
    {
      "cell_type": "code",
      "source": [
        "pred_graph_s1"
      ],
      "metadata": {
        "colab": {
          "base_uri": "https://localhost:8080/"
        },
        "id": "6MIAliZdTD00",
        "outputId": "c8b0f19f-9b0c-4892-dd8b-5aeb061309da"
      },
      "execution_count": null,
      "outputs": [
        {
          "output_type": "execute_result",
          "data": {
            "text/plain": [
              "array([[1., 1., 1., 1.],\n",
              "       [0., 0., 0., 0.],\n",
              "       [1., 0., 0., 1.],\n",
              "       [1., 0., 0., 0.]])"
            ]
          },
          "metadata": {},
          "execution_count": 208
        }
      ]
    },
    {
      "cell_type": "code",
      "source": [
        "cdt.metrics.SHD(true_graph, pred_graph_s1) # 17, lin, sig, 20, 0.3"
      ],
      "metadata": {
        "colab": {
          "base_uri": "https://localhost:8080/"
        },
        "id": "HteXGt0ETINa",
        "outputId": "cf47da86-1ebd-41ef-f6cf-3fd61dad36fe"
      },
      "execution_count": null,
      "outputs": [
        {
          "output_type": "execute_result",
          "data": {
            "text/plain": [
              "6.0"
            ]
          },
          "metadata": {},
          "execution_count": 209
        }
      ]
    },
    {
      "cell_type": "code",
      "source": [
        "true_values = true_graph\n",
        "predictions = pred_graph_s1\n",
        "\n",
        "N = true_values.shape[1]*true_values.shape[0]\n",
        "accuracy = (true_values == predictions).sum() / N\n",
        "TP = ((predictions == 1) & (true_values == 1)).sum()\n",
        "FP = ((predictions == 1) & (true_values == 0)).sum()\n",
        "TN = ((predictions == 0) & (true_values == 0)).sum()\n",
        "FN = ((predictions == 0) & (true_values == 1)).sum()\n",
        "precision = TP / (TP+FP)\n",
        "recall = TP / (TP + FN)\n",
        "FDR = FP / (FP + TP)\n",
        "F1 = 2 * (precision * recall) / (precision + recall)\n",
        "print('Accuracy: {}, Precision: {}, Recall: {}, FDR: {}, F1 Score: {}'.format(accuracy, precision, recall, FDR,F1))"
      ],
      "metadata": {
        "colab": {
          "base_uri": "https://localhost:8080/"
        },
        "id": "9ojqYWx6TaPG",
        "outputId": "4df3a46d-ce7f-4840-bc4e-25977dbad035"
      },
      "execution_count": null,
      "outputs": [
        {
          "output_type": "stream",
          "name": "stdout",
          "text": [
            "Accuracy: 0.625, Precision: 0.2857142857142857, Recall: 0.6666666666666666, FDR: 0.7142857142857143, F1 Score: 0.4\n"
          ]
        }
      ]
    },
    {
      "cell_type": "markdown",
      "source": [
        "# Ground Truth"
      ],
      "metadata": {
        "id": "xp_b7bowKr-M"
      }
    },
    {
      "cell_type": "code",
      "source": [
        "true_graph = np.zeros((4,4)) # [ \"SH\", \"BU\", \"TEND\", \"TKE\" ]\n",
        "true_graph[0,2]=1\n",
        "true_graph[1,2]=1\n",
        "true_graph[2,3]=1\n",
        "true_graph"
      ],
      "metadata": {
        "colab": {
          "base_uri": "https://localhost:8080/"
        },
        "id": "6p3wlQMSK2To",
        "outputId": "d8b146a9-7f58-4a8a-9778-cddfeca772ac"
      },
      "execution_count": null,
      "outputs": [
        {
          "output_type": "execute_result",
          "data": {
            "text/plain": [
              "array([[0., 0., 1., 0.],\n",
              "       [0., 0., 1., 0.],\n",
              "       [0., 0., 0., 1.],\n",
              "       [0., 0., 0., 0.]])"
            ]
          },
          "metadata": {},
          "execution_count": 46
        }
      ]
    },
    {
      "cell_type": "code",
      "source": [
        "true_graph = np.zeros((4,4)) # [\"SH\", \"BU\",  \"TKE\", \"TEND\"]\n",
        "true_graph[0,3]=1\n",
        "true_graph[1,3]=1\n",
        "true_graph[3,2]=1\n",
        "true_graph"
      ],
      "metadata": {
        "colab": {
          "base_uri": "https://localhost:8080/"
        },
        "id": "rRjoE6zUPvaq",
        "outputId": "b6db1919-f7e3-4817-bd37-d7790d72bd4d"
      },
      "execution_count": null,
      "outputs": [
        {
          "output_type": "execute_result",
          "data": {
            "text/plain": [
              "array([[0., 0., 0., 1.],\n",
              "       [0., 0., 0., 1.],\n",
              "       [0., 0., 0., 0.],\n",
              "       [0., 0., 1., 0.]])"
            ]
          },
          "metadata": {},
          "execution_count": 191
        }
      ]
    },
    {
      "cell_type": "code",
      "source": [
        "matrix_2d_2d_s = true_graph"
      ],
      "metadata": {
        "id": "XtXeNv1WK2nO"
      },
      "execution_count": null,
      "outputs": []
    },
    {
      "cell_type": "code",
      "execution_count": null,
      "metadata": {
        "id": "MG_ErchWK2nP"
      },
      "outputs": [],
      "source": [
        "import networkx as nx\n",
        "G_2d_s1 = nx.DiGraph()\n",
        "\n",
        "nodes_2d_s = [ \"SH\", \"BU\", \"TEND\", \"TKE\" ]\n",
        "nodes_r_2d_s = [ \"SH\", \"BU\", \"TEND\", \"TKE\" ]\n",
        "edges_2d_s1 = []\n",
        "pred_graph_s1 = np.zeros((4,4))"
      ]
    },
    {
      "cell_type": "code",
      "execution_count": null,
      "metadata": {
        "id": "zybWl9y7K2nP"
      },
      "outputs": [],
      "source": [
        "for i in range (0, 4):\n",
        "  G_2d_s1.add_node(nodes_2d_s[i],pos=(int(i/2)+1,(i%2)+1))"
      ]
    },
    {
      "cell_type": "code",
      "execution_count": null,
      "metadata": {
        "colab": {
          "base_uri": "https://localhost:8080/"
        },
        "outputId": "7a71f0dc-021e-4498-951c-6f505b81e215",
        "id": "2yvzYPUJK2nP"
      },
      "outputs": [
        {
          "output_type": "stream",
          "name": "stdout",
          "text": [
            "0 2 0.0\n",
            "1 2 0.0\n",
            "2 3 0.0\n"
          ]
        }
      ],
      "source": [
        "for i in range(0, 4):\n",
        "  for j in range (0, 4):\n",
        "    if matrix_2d_2d_s[i,j] > 0.25:\n",
        "      col = np.round(matrix_2d_2d_s[i,j], 2)\n",
        "      print(i,j, matrix_2d_2d_s[j,i])\n",
        "      G_2d_s1.add_edge(nodes_2d_s[i%4], nodes_r_2d_s[j],  weight=col)\n",
        "      pred_graph_s1[i%4, j]=1\n"
      ]
    },
    {
      "cell_type": "code",
      "execution_count": null,
      "metadata": {
        "colab": {
          "base_uri": "https://localhost:8080/"
        },
        "outputId": "84af0ea2-b5f8-4b9a-cc6b-99d1ff821920",
        "id": "0Z6X78c-K2nP"
      },
      "outputs": [
        {
          "output_type": "execute_result",
          "data": {
            "text/plain": [
              "{'SH': (1, 1), 'BU': (1, 2), 'TEND': (2, 1), 'TKE': (2, 2)}"
            ]
          },
          "metadata": {},
          "execution_count": 15
        }
      ],
      "source": [
        "pos_2d_s1=nx.get_node_attributes(G_2d_s1,'pos')\n",
        "pos_2d_s1"
      ]
    },
    {
      "cell_type": "code",
      "execution_count": null,
      "metadata": {
        "id": "mwXUJk_EK2nQ"
      },
      "outputs": [],
      "source": [
        "weights_2d_s1 = nx.get_edge_attributes(G_2d_s1,'weight').values()"
      ]
    },
    {
      "cell_type": "code",
      "source": [
        "import matplotlib.pyplot as plt\n",
        "import matplotlib as mpl\n",
        "\n",
        "plt.figure(figsize=(5, 5))\n",
        "nx.draw(G_2d_s1, pos_2d_s1,  edge_cmap= plt.cm.tab20,  #cmap = plt.get_cmap('jet'),\n",
        "        font_size=12, node_size=1200, node_color='#c0c0c0', #[30,30,30,30,30],\n",
        "        edge_color=weights_2d_s1, with_labels = True, connectionstyle='arc3, rad = 0.3')\n",
        "#nx.draw_networkx(G, with_labels = True)\n",
        "#plt.colorbar(mpl.cm.ScalarMappable(norm=mpl.colors.Normalize(0.25, 1), cmap=plt.cm.tab20),\n",
        "#              orientation='vertical', label='Edge Strength')\n",
        "plt.show()"
      ],
      "metadata": {
        "colab": {
          "base_uri": "https://localhost:8080/",
          "height": 536
        },
        "outputId": "a4b34003-c621-489b-9bc0-57ff73fe28fb",
        "id": "7UbazUc8K2nQ"
      },
      "execution_count": null,
      "outputs": [
        {
          "output_type": "display_data",
          "data": {
            "text/plain": [
              "<Figure size 500x500 with 1 Axes>"
            ],
            "image/png": "[encoded data removed]"
          },
          "metadata": {}
        }
      ]
    }
  ]
}